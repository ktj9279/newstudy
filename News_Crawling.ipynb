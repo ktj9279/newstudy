{
 "cells": [
  {
   "cell_type": "code",
   "execution_count": null,
   "metadata": {},
   "outputs": [],
   "source": [
    "from selenium import webdriver"
   ]
  },
  {
   "cell_type": "code",
   "execution_count": 6,
   "metadata": {},
   "outputs": [],
   "source": [
    "import sqlite3"
   ]
  },
  {
   "cell_type": "code",
   "execution_count": 8,
   "metadata": {},
   "outputs": [],
   "source": [
    "conn = sqlite3.connect('NongMin.db')"
   ]
  },
  {
   "cell_type": "code",
   "execution_count": 9,
   "metadata": {},
   "outputs": [],
   "source": [
    "cur = conn.cursor()"
   ]
  },
  {
   "cell_type": "code",
   "execution_count": 10,
   "metadata": {},
   "outputs": [
    {
     "data": {
      "text/plain": [
       "sqlite3.Cursor"
      ]
     },
     "execution_count": 10,
     "metadata": {},
     "output_type": "execute_result"
    }
   ],
   "source": [
    "type(cur)"
   ]
  },
  {
   "cell_type": "code",
   "execution_count": 239,
   "metadata": {},
   "outputs": [
    {
     "data": {
      "text/plain": [
       "<sqlite3.Cursor at 0x28176227810>"
      ]
     },
     "execution_count": 239,
     "metadata": {},
     "output_type": "execute_result"
    }
   ],
   "source": [
    "cur.execute(\"create table NongMin_Politics(\\\n",
    "'article_id', 'date', 'time', 'title', 'content', 'press', 'section', 'url'\\\n",
    ")\")"
   ]
  },
  {
   "cell_type": "code",
   "execution_count": null,
   "metadata": {},
   "outputs": [],
   "source": []
  },
  {
   "cell_type": "code",
   "execution_count": 5,
   "metadata": {},
   "outputs": [],
   "source": [
    "driver = webdriver.Chrome()"
   ]
  },
  {
   "cell_type": "code",
   "execution_count": 12,
   "metadata": {},
   "outputs": [],
   "source": [
    "url = 'https://www.nongmin.com'\n",
    "#https://www.nongmin.com/news/NEWS/ECO\n",
    "#https://www.nongmin.com/news/NEWS/FLD"
   ]
  },
  {
   "cell_type": "code",
   "execution_count": 14,
   "metadata": {},
   "outputs": [],
   "source": [
    "politicsLinks = [\"/news/NEWS/POL/GOV/list\",\"/news/NEWS/POL/ASM/list\",\"/news/NEWS/POL/FRM/list\",\"/news/NEWS/POL/ETC/list\"]"
   ]
  },
  {
   "cell_type": "code",
   "execution_count": 15,
   "metadata": {},
   "outputs": [],
   "source": [
    "driver.get(url+politicsLinks[0])"
   ]
  },
  {
   "cell_type": "code",
   "execution_count": 262,
   "metadata": {},
   "outputs": [],
   "source": [
    "obj = driver.find_elements_by_css_selector('.card_type03 div')"
   ]
  },
  {
   "cell_type": "code",
   "execution_count": 263,
   "metadata": {},
   "outputs": [],
   "source": [
    "links = [x.find_element_by_css_selector('a') for x in obj]"
   ]
  },
  {
   "cell_type": "code",
   "execution_count": 264,
   "metadata": {},
   "outputs": [],
   "source": [
    "links = [x.get_attribute('href') for x in links]"
   ]
  },
  {
   "cell_type": "code",
   "execution_count": 265,
   "metadata": {},
   "outputs": [],
   "source": [
    "url = links[0]"
   ]
  },
  {
   "cell_type": "code",
   "execution_count": 272,
   "metadata": {},
   "outputs": [],
   "source": [
    "article_id = links[0].split('/')"
   ]
  },
  {
   "cell_type": "code",
   "execution_count": 280,
   "metadata": {},
   "outputs": [],
   "source": [
    "article_id = article_id[len(article_id)-2]"
   ]
  },
  {
   "cell_type": "code",
   "execution_count": 282,
   "metadata": {},
   "outputs": [],
   "source": [
    "driver.get(links[0])"
   ]
  },
  {
   "cell_type": "code",
   "execution_count": 283,
   "metadata": {},
   "outputs": [],
   "source": [
    "title = driver.find_element_by_class_name('tit_detail')"
   ]
  },
  {
   "cell_type": "code",
   "execution_count": 284,
   "metadata": {},
   "outputs": [],
   "source": [
    "title = title.text"
   ]
  },
  {
   "cell_type": "code",
   "execution_count": 285,
   "metadata": {},
   "outputs": [],
   "source": [
    "date = driver.find_element_by_css_selector('.tit_detail+div span')"
   ]
  },
  {
   "cell_type": "code",
   "execution_count": 286,
   "metadata": {},
   "outputs": [],
   "source": [
    "date = date.text"
   ]
  },
  {
   "cell_type": "code",
   "execution_count": 287,
   "metadata": {},
   "outputs": [],
   "source": [
    "date = date.split(' ')"
   ]
  },
  {
   "cell_type": "code",
   "execution_count": 288,
   "metadata": {},
   "outputs": [],
   "source": [
    "time = date[3]\n",
    "date = date[2]"
   ]
  },
  {
   "cell_type": "code",
   "execution_count": 290,
   "metadata": {},
   "outputs": [],
   "source": [
    "content = driver.find_elements_by_css_selector('.view_wrap')"
   ]
  },
  {
   "cell_type": "code",
   "execution_count": 291,
   "metadata": {},
   "outputs": [],
   "source": [
    "content = content[0].text"
   ]
  },
  {
   "cell_type": "code",
   "execution_count": 292,
   "metadata": {},
   "outputs": [],
   "source": [
    "content = content.replace('댓글\\n0\\n페이스북\\n트위터\\n네이버블로그\\n카카오스토리\\n링크복사하기\\n','')"
   ]
  },
  {
   "cell_type": "code",
   "execution_count": 294,
   "metadata": {},
   "outputs": [],
   "source": [
    "section='정치'"
   ]
  },
  {
   "cell_type": "code",
   "execution_count": 295,
   "metadata": {},
   "outputs": [],
   "source": [
    "press='농민신문'"
   ]
  },
  {
   "cell_type": "code",
   "execution_count": 300,
   "metadata": {},
   "outputs": [],
   "source": [
    "data = (article_id, date, time, title, content, press, section, url)"
   ]
  },
  {
   "cell_type": "code",
   "execution_count": 302,
   "metadata": {},
   "outputs": [
    {
     "data": {
      "text/plain": [
       "<sqlite3.Cursor at 0x28176227810>"
      ]
     },
     "execution_count": 302,
     "metadata": {},
     "output_type": "execute_result"
    }
   ],
   "source": [
    "cur.execute('insert into NongMin_Politics(article_id, date, time, title, content, press, section, url) values(?,?,?,?,?,?,?,?)',\\\n",
    "           data)"
   ]
  },
  {
   "cell_type": "code",
   "execution_count": 311,
   "metadata": {},
   "outputs": [],
   "source": [
    "def insertPolitics(url):\n",
    "    driver.get(url)\n",
    "    obj = driver.find_elements_by_css_selector('.card_type03 div')\n",
    "    links = [x.find_element_by_css_selector('a') for x in obj]\n",
    "    links = [x.get_attribute('href') for x in links]\n",
    "    for link in links:\n",
    "        url = link\n",
    "        article_id = link.split('/')\n",
    "        article_id = article_id[len(article_id)-2]\n",
    "        driver.get(link)\n",
    "        title = driver.find_element_by_class_name('tit_detail')\n",
    "        title = title.text\n",
    "        date = driver.find_element_by_css_selector('.tit_detail+div span')\n",
    "        date = date.text\n",
    "        date = date.split(' ')\n",
    "        time = date[3]\n",
    "        date = date[2]\n",
    "        content = driver.find_elements_by_css_selector('.view_wrap')\n",
    "        content = content[0].text\n",
    "        content = content.replace('댓글\\n0\\n페이스북\\n트위터\\n네이버블로그\\n카카오스토리\\n링크복사하기\\n','')\n",
    "        section='정치'\n",
    "        press='농민신문'\n",
    "        data = (article_id, date, time, title, content, press, section, url)\n",
    "        cur.execute('insert into NongMin_Politics(article_id, date, time, title, content, press, section, url) values(?,?,?,?,?,?,?,?)',\\\n",
    "               data)"
   ]
  },
  {
   "cell_type": "code",
   "execution_count": 312,
   "metadata": {},
   "outputs": [],
   "source": [
    "insertPolitics('https://www.nongmin.com'+politicsLinks[0])"
   ]
  },
  {
   "cell_type": "code",
   "execution_count": null,
   "metadata": {},
   "outputs": [],
   "source": []
  },
  {
   "cell_type": "code",
   "execution_count": 315,
   "metadata": {},
   "outputs": [],
   "source": [
    "result = cur.execute(\"select * from NongMin_Politics limit 10\")"
   ]
  },
  {
   "cell_type": "code",
   "execution_count": null,
   "metadata": {},
   "outputs": [],
   "source": [
    "result.fetchone()"
   ]
  },
  {
   "cell_type": "code",
   "execution_count": null,
   "metadata": {},
   "outputs": [],
   "source": []
  },
  {
   "cell_type": "code",
   "execution_count": 308,
   "metadata": {},
   "outputs": [
    {
     "data": {
      "text/plain": [
       "<sqlite3.Cursor at 0x28176227810>"
      ]
     },
     "execution_count": 308,
     "metadata": {},
     "output_type": "execute_result"
    }
   ],
   "source": [
    "cur.execute('delete from NongMin_Politics')"
   ]
  },
  {
   "cell_type": "code",
   "execution_count": null,
   "metadata": {},
   "outputs": [],
   "source": []
  },
  {
   "cell_type": "markdown",
   "metadata": {},
   "source": [
    "### 농민신문"
   ]
  },
  {
   "cell_type": "code",
   "execution_count": 39,
   "metadata": {},
   "outputs": [],
   "source": [
    "driver.get(url+politicsLinks[0])"
   ]
  },
  {
   "cell_type": "code",
   "execution_count": 41,
   "metadata": {},
   "outputs": [],
   "source": [
    "page = driver.find_elements_by_css_selector('.paging a')"
   ]
  },
  {
   "cell_type": "code",
   "execution_count": 42,
   "metadata": {},
   "outputs": [
    {
     "data": {
      "text/plain": [
       "11"
      ]
     },
     "execution_count": 42,
     "metadata": {},
     "output_type": "execute_result"
    }
   ],
   "source": [
    "len(page)"
   ]
  },
  {
   "cell_type": "code",
   "execution_count": 58,
   "metadata": {},
   "outputs": [],
   "source": [
    "def insertPolitics(url):\n",
    "    curUrl = url\n",
    "    driver.get(url)\n",
    "    curPage = 1\n",
    "    page = driver.find_elements_by_css_selector('.paging a')\n",
    "    while curPage < len(page):\n",
    "        obj = driver.find_elements_by_css_selector('.card_type03 div')\n",
    "        links = [x.find_element_by_css_selector('a') for x in obj]\n",
    "        links = [x.get_attribute('href') for x in links]\n",
    "        for link in links:\n",
    "            url = link\n",
    "            article_id = link.split('/')\n",
    "            article_id = article_id[len(article_id)-2]\n",
    "            driver.get(link)\n",
    "            title = driver.find_element_by_class_name('tit_detail')\n",
    "            title = title.text\n",
    "            date = driver.find_element_by_css_selector('.tit_detail+div span')\n",
    "            date = date.text\n",
    "            date = date.split(' ')\n",
    "            time = date[3]\n",
    "            date = date[2]\n",
    "            content = driver.find_elements_by_css_selector('.view_wrap')\n",
    "            content = content[0].text\n",
    "            # 댓글 1, 댓글 2.. 수정해야\n",
    "            content = content.replace('댓글\\n0\\n페이스북\\n트위터\\n네이버블로그\\n카카오스토리\\n링크복사하기\\n','')\n",
    "            section='정치'\n",
    "            press='농민신문'\n",
    "            data = (article_id, date, time, title, content, press, section, url)\n",
    "            cur.execute('insert into NongMin_Politics(article_id, date, time, title, content, press, section, url) values(?,?,?,?,?,?,?,?)',\\\n",
    "               data)\n",
    "            conn.commit()\n",
    "        driver.get(curUrl)\n",
    "        page = driver.find_elements_by_css_selector('.paging a')\n",
    "        page[curPage].click()\n",
    "        curPage+=1"
   ]
  },
  {
   "cell_type": "code",
   "execution_count": null,
   "metadata": {},
   "outputs": [],
   "source": [
    "driver.get('https://www.nongmin.com/news/NEWS/POL')\n",
    "cate = driver.find_elements_by_css_selector('.allmenu_bx+ul li a')\n",
    "cate = [c.get_attribute('href') for c in cate]\n",
    "#그대로 하면 화이트라벨 에러\n",
    "#https://www.nongmin.com/news/NEWS/POL/GOV/list\n",
    "for c in cate:\n",
    "    c=c.replace('https://www.nongmin.com/','https://www.nongmin.com/news/')\n",
    "    insertPolitics(c)"
   ]
  },
  {
   "cell_type": "code",
   "execution_count": null,
   "metadata": {},
   "outputs": [],
   "source": []
  },
  {
   "cell_type": "markdown",
   "metadata": {},
   "source": [
    "### 천지일보"
   ]
  },
  {
   "cell_type": "code",
   "execution_count": 100,
   "metadata": {},
   "outputs": [],
   "source": [
    "import requests\n",
    "from bs4 import BeautifulSoup"
   ]
  },
  {
   "cell_type": "code",
   "execution_count": 101,
   "metadata": {},
   "outputs": [],
   "source": [
    "headers = {\n",
    "    \"user-agent\": \"Mozilla/5.0 (Windows NT 10.0; Win64; x64) AppleWebKit/537.36 (KHTML, like Gecko) Chrome/67.0.3396.99 Safari/537.36\",\n",
    "}"
   ]
  },
  {
   "cell_type": "code",
   "execution_count": 209,
   "metadata": {},
   "outputs": [],
   "source": [
    "cheonJi = 'http://www.newscj.com/news/articleList.html?view_type=sm'"
   ]
  },
  {
   "cell_type": "code",
   "execution_count": 210,
   "metadata": {},
   "outputs": [],
   "source": [
    "html = requests.get(cheonJi, headers=headers)"
   ]
  },
  {
   "cell_type": "code",
   "execution_count": 211,
   "metadata": {},
   "outputs": [],
   "source": [
    "html = BeautifulSoup(html.content, \"lxml\")"
   ]
  },
  {
   "cell_type": "code",
   "execution_count": 212,
   "metadata": {},
   "outputs": [],
   "source": [
    "links = html.select(\"#section-navs a.button\")"
   ]
  },
  {
   "cell_type": "code",
   "execution_count": 213,
   "metadata": {},
   "outputs": [],
   "source": [
    "# 정치 경제 국제 사회 문화\n",
    "links = [links[i] for i in range(5)]\n",
    "links = [link.get('href') for link in links]"
   ]
  },
  {
   "cell_type": "code",
   "execution_count": 232,
   "metadata": {},
   "outputs": [],
   "source": [
    "politics = requests.get(links[0])"
   ]
  },
  {
   "cell_type": "code",
   "execution_count": 233,
   "metadata": {},
   "outputs": [],
   "source": [
    "politics = BeautifulSoup(politics.text,\"lxml\")"
   ]
  },
  {
   "cell_type": "code",
   "execution_count": 266,
   "metadata": {},
   "outputs": [],
   "source": [
    "articleLinks = politics.select(\"section.article-list-content div.list-titles a\")"
   ]
  },
  {
   "cell_type": "code",
   "execution_count": 267,
   "metadata": {},
   "outputs": [],
   "source": [
    "articleLinks = [articleLink.get('href') for articleLink in articleLinks]"
   ]
  },
  {
   "cell_type": "code",
   "execution_count": 268,
   "metadata": {},
   "outputs": [],
   "source": [
    "articleLinks = [\"http://www.newscj.com\"+articleLink for articleLink in articleLinks]"
   ]
  },
  {
   "cell_type": "code",
   "execution_count": 272,
   "metadata": {},
   "outputs": [],
   "source": [
    "tempArticle = BeautifulSoup(requests.get(articleLinks[0]).text,\"lxml\")"
   ]
  },
  {
   "cell_type": "code",
   "execution_count": 279,
   "metadata": {},
   "outputs": [],
   "source": [
    "title=tempArticle.select_one(\"div.article-head-title\").text"
   ]
  },
  {
   "cell_type": "code",
   "execution_count": 284,
   "metadata": {},
   "outputs": [],
   "source": [
    "article_Id=articleLinks[0].split('idxno=')[1]"
   ]
  },
  {
   "cell_type": "code",
   "execution_count": 293,
   "metadata": {},
   "outputs": [],
   "source": [
    "date=tempArticle.select(\".info-text ul.no-bullet li\")[1].text.replace(' 승인 ','')"
   ]
  },
  {
   "cell_type": "code",
   "execution_count": 295,
   "metadata": {},
   "outputs": [],
   "source": [
    "date = date.split(' ')\n",
    "time = date[1]\n",
    "date = date[0]"
   ]
  },
  {
   "cell_type": "code",
   "execution_count": 301,
   "metadata": {},
   "outputs": [],
   "source": [
    "content=tempArticle.select_one('#article-view-content-div p').text"
   ]
  },
  {
   "cell_type": "code",
   "execution_count": 302,
   "metadata": {},
   "outputs": [],
   "source": [
    "press=\"천지일보\"\n",
    "section=\"정치\""
   ]
  },
  {
   "cell_type": "code",
   "execution_count": 303,
   "metadata": {},
   "outputs": [],
   "source": [
    "url=articleLinks[0]"
   ]
  },
  {
   "cell_type": "code",
   "execution_count": 304,
   "metadata": {},
   "outputs": [
    {
     "data": {
      "text/plain": [
       "'http://www.newscj.com/news/articleView.html?idxno=546869'"
      ]
     },
     "execution_count": 304,
     "metadata": {},
     "output_type": "execute_result"
    }
   ],
   "source": [
    "url"
   ]
  },
  {
   "cell_type": "code",
   "execution_count": null,
   "metadata": {},
   "outputs": [],
   "source": []
  },
  {
   "cell_type": "markdown",
   "metadata": {},
   "source": [
    "### NAVER"
   ]
  },
  {
   "cell_type": "code",
   "execution_count": 2,
   "metadata": {},
   "outputs": [],
   "source": [
    "import requests\n",
    "import sqlite3"
   ]
  },
  {
   "cell_type": "code",
   "execution_count": 3,
   "metadata": {},
   "outputs": [],
   "source": [
    "from bs4 import BeautifulSoup"
   ]
  },
  {
   "cell_type": "code",
   "execution_count": 4,
   "metadata": {},
   "outputs": [],
   "source": [
    "from selenium import webdriver"
   ]
  },
  {
   "cell_type": "code",
   "execution_count": 5,
   "metadata": {},
   "outputs": [],
   "source": [
    "import re"
   ]
  },
  {
   "cell_type": "code",
   "execution_count": 6,
   "metadata": {},
   "outputs": [],
   "source": [
    "driver = webdriver.Chrome()"
   ]
  },
  {
   "cell_type": "markdown",
   "metadata": {},
   "source": [
    "#### 0820 부분"
   ]
  },
  {
   "cell_type": "code",
   "execution_count": 12,
   "metadata": {},
   "outputs": [],
   "source": [
    "url = 'https://news.naver.com/main/list.nhn?mode=LS2D&mid=shm'\n",
    "sid = {'politics':'100','economic':'101','society':'102','culture':'103','globalList':'104','digital':'105'}\n",
    "\n",
    "politics = ['264','265','266','267','268','269']\n",
    "economic = ['259','258','261','771','260','262','310','263']\n",
    "society = ['249','250','251','254','252','59b','255','256','276','257']\n",
    "globalList = ['231','232','233','234','322']\n",
    "culture = ['241','239','240','237','238','376','242','243','244','248','245']\n",
    "digital = ['731','226','227','230','732','283','229','228']\n",
    "\n",
    "politicsLink = []\n",
    "economicLink = []\n",
    "societyLink = []\n",
    "globalLink = []\n",
    "cultureLink = []\n",
    "digitalLink = []\n",
    "\n",
    "for sid_k,sid_v in sid.items():\n",
    "    if sid_k == 'politics':\n",
    "        for t in politics:\n",
    "            temp = collectLinks(url+\"&sid1=\"+sid_v+\"&sid2=\"+t+\"&date=20180820\")\n",
    "            politicsLink.extend(temp)\n",
    "    elif sid_k == 'economic':\n",
    "        for t in economic:\n",
    "            temp = collectLinks(url+\"&sid1=\"+sid_v+\"&sid2=\"+t+\"&date=20180820\")\n",
    "            economicLink.extend(temp)\n",
    "    elif sid_k == 'culture':\n",
    "        for t in culture:\n",
    "            temp = collectLinks(url+\"&sid1=\"+sid_v+\"&sid2=\"+t+\"&date=20180820\")\n",
    "            cultureLink.extend(temp)\n",
    "    elif sid_k == 'society':\n",
    "        for t in society:\n",
    "            temp = collectLinks(url+\"&sid1=\"+sid_v+\"&sid2=\"+t+\"&date=20180820\")\n",
    "            societyLink.extend(temp)\n",
    "    elif sid_k == 'globalList':\n",
    "        for t in globalList:\n",
    "            temp = collectLinks(url+\"&sid1=\"+sid_v+\"&sid2=\"+t+\"&date=20180820\")\n",
    "            globalLink.extend(temp)\n",
    "    else:\n",
    "        for t in digital:\n",
    "            temp = collectLinks(url+\"&sid1=\"+sid_v+\"&sid2=\"+t+\"&date=20180820\")\n",
    "            digitalLink.extend(temp)"
   ]
  },
  {
   "cell_type": "code",
   "execution_count": 15,
   "metadata": {},
   "outputs": [],
   "source": [
    "headers = {\n",
    "    \"user-agent\": \"Mozilla/5.0 (Windows NT 10.0; Win64; x64) AppleWebKit/537.36 (KHTML, like Gecko) Chrome/68.0.3440.106 Safari/537.36\",\n",
    "}"
   ]
  },
  {
   "cell_type": "code",
   "execution_count": null,
   "metadata": {},
   "outputs": [],
   "source": [
    "!pip install -U pyopenssl"
   ]
  },
  {
   "cell_type": "code",
   "execution_count": null,
   "metadata": {},
   "outputs": [],
   "source": [
    "for p in politicsLink:\n",
    "    try:\n",
    "        parsingArticleReq(p, headers, '정치')\n",
    "    except:\n",
    "        try:\n",
    "            diffFormatCrawling(p, headers, '정치')\n",
    "        except:\n",
    "            print(p)"
   ]
  },
  {
   "cell_type": "code",
   "execution_count": null,
   "metadata": {},
   "outputs": [],
   "source": [
    "for e in economicLink:\n",
    "    try:\n",
    "        parsingArticleReq(e, headers, '경제')\n",
    "    except:\n",
    "        try:\n",
    "            diffFormatCrawling(e, headers, '경제')\n",
    "        except:\n",
    "            print(e)"
   ]
  },
  {
   "cell_type": "code",
   "execution_count": null,
   "metadata": {},
   "outputs": [],
   "source": [
    "for s in societyLink:\n",
    "    try:\n",
    "        parsingArticleReq(s, headers, '사회')\n",
    "    except:\n",
    "        try:\n",
    "            diffFormatCrawling(s, headers, '사회')\n",
    "        except:\n",
    "            print(s)"
   ]
  },
  {
   "cell_type": "code",
   "execution_count": null,
   "metadata": {},
   "outputs": [],
   "source": [
    "for c in cultureLink:\n",
    "    try:\n",
    "        parsingArticleReq(c, headers, '문화')\n",
    "    except:\n",
    "        try:\n",
    "            diffFormatCrawling(c, headers, '사회')\n",
    "        except:\n",
    "            print(c)"
   ]
  },
  {
   "cell_type": "code",
   "execution_count": null,
   "metadata": {},
   "outputs": [],
   "source": [
    "for d in digitalLink:\n",
    "    try:\n",
    "        parsingArticleReq(d, headers, 'IT')\n",
    "    except:\n",
    "        try:\n",
    "            diffFormatCrawling(d, headers, 'IT')\n",
    "        except:\n",
    "            print(d)    "
   ]
  },
  {
   "cell_type": "code",
   "execution_count": 49,
   "metadata": {},
   "outputs": [
    {
     "name": "stdout",
     "output_type": "stream",
     "text": [
      "https://news.naver.com/main/read.nhn?mode=LS2D&mid=shm&sid1=104&sid2=232&oid=001&aid=0010281833\n",
      "https://news.naver.com/main/read.nhn?mode=LS2D&mid=shm&sid1=104&sid2=232&oid=001&aid=0010281833\n"
     ]
    }
   ],
   "source": [
    "for g in globalLink:\n",
    "    try:\n",
    "        parsingArticleReq(g, headers, '세계')\n",
    "    except:\n",
    "        try:\n",
    "            diffFormatCrawling(g, headers, '세계')\n",
    "        except:\n",
    "            print(g)"
   ]
  },
  {
   "cell_type": "markdown",
   "metadata": {},
   "source": [
    "#### 링크 긁어오기"
   ]
  },
  {
   "cell_type": "code",
   "execution_count": 28,
   "metadata": {},
   "outputs": [],
   "source": [
    "url = 'https://news.naver.com/main/list.nhn?mode=LS2D&mid=shm'\n",
    "\n",
    "sid = {'politics':'100','economic':'101','society':'102','culture':'103','globalList':'104','digital':'105'}\n",
    "\n",
    "politics = ['264','265','266','267','268','269']\n",
    "economic = ['259','258','261','771','260','262','310','263']\n",
    "society = ['249','250','251','254','252','59b','255','256','276','257']\n",
    "globalList = ['231','232','233','234','322']\n",
    "culture = ['241','239','240','237','238','376','242','243','244','248','245']\n",
    "digital = ['731','226','227','230','732','283','229','228']\n",
    "\n",
    "politicsLink = []\n",
    "economicLink = []\n",
    "societyLink = []\n",
    "globalLink = []\n",
    "cultureLink = []\n",
    "digitalLink = []\n",
    "\n",
    "for sid_k,sid_v in sid.items():\n",
    "    if sid_k == 'politics':\n",
    "        for t in politics:\n",
    "            temp = collectLinks(url+\"&sid1=\"+sid_v+\"&sid2=\"+t)\n",
    "            politicsLink.extend(temp)\n",
    "    elif sid_k == 'economic':\n",
    "        for t in economic:\n",
    "            temp = collectLinks(url+\"&sid1=\"+sid_v+\"&sid2=\"+t)\n",
    "            economicLink.extend(temp)\n",
    "    elif sid_k == 'culture':\n",
    "        for t in culture:\n",
    "            temp = collectLinks(url+\"&sid1=\"+sid_v+\"&sid2=\"+t)\n",
    "            cultureLink.extend(temp)\n",
    "    elif sid_k == 'society':\n",
    "        for t in society:\n",
    "            temp = collectLinks(url+\"&sid1=\"+sid_v+\"&sid2=\"+t)\n",
    "            societyLink.extend(temp)\n",
    "    elif sid_k == 'globalList':\n",
    "        for t in globalList:\n",
    "            temp = collectLinks(url+\"&sid1=\"+sid_v+\"&sid2=\"+t)\n",
    "            globalLink.extend(temp)\n",
    "    else:\n",
    "        for t in digital:\n",
    "            temp = collectLinks(url+\"&sid1=\"+sid_v+\"&sid2=\"+t)\n",
    "            digitalLink.extend(temp)"
   ]
  },
  {
   "cell_type": "code",
   "execution_count": 7,
   "metadata": {},
   "outputs": [],
   "source": [
    "conn = sqlite3.connect('naver.db')\n",
    "\n",
    "cur = conn.cursor()"
   ]
  },
  {
   "cell_type": "code",
   "execution_count": 75,
   "metadata": {},
   "outputs": [
    {
     "data": {
      "text/plain": [
       "<sqlite3.Cursor at 0x1f7fda95110>"
      ]
     },
     "execution_count": 75,
     "metadata": {},
     "output_type": "execute_result"
    }
   ],
   "source": [
    "cur.execute(\"CREATE TABLE naver(a_ids TEXT primary key, \\\n",
    "            dates DATE, times TIME, titles TEXT, contents TEXT, press TEXT, authors TEXT, sections TEXT, urls TEXT)\")"
   ]
  },
  {
   "cell_type": "markdown",
   "metadata": {},
   "source": [
    "#### 긁어온 링크에서 파싱"
   ]
  },
  {
   "cell_type": "code",
   "execution_count": null,
   "metadata": {},
   "outputs": [],
   "source": [
    "for p in politicsLink:\n",
    "    parsingArticle(p, '정치')\n",
    "for e in economicLink:\n",
    "    parsingArticle(e, '경제')\n",
    "for s in societyLink:\n",
    "    parsingArticle(s, '사회')    "
   ]
  },
  {
   "cell_type": "code",
   "execution_count": null,
   "metadata": {
    "scrolled": true
   },
   "outputs": [],
   "source": [
    "for c in cultureLink:\n",
    "    parsingArticle(c, '문화')\n",
    "for d in digitalLink:\n",
    "    parsingArticle(d, 'IT')\n",
    "for g in globalLink:\n",
    "    parsingArticle(g, '세계')"
   ]
  },
  {
   "cell_type": "code",
   "execution_count": 81,
   "metadata": {},
   "outputs": [],
   "source": [
    "cur.execute(\"DELETE FROM naver\")\n",
    "conn.commit()"
   ]
  },
  {
   "cell_type": "code",
   "execution_count": 74,
   "metadata": {},
   "outputs": [],
   "source": [
    "cur.execute(\"DROP TABLE naver\")\n",
    "conn.commit()"
   ]
  },
  {
   "cell_type": "markdown",
   "metadata": {},
   "source": [
    "#### 해당 링크에서 셀레니움으로 파싱"
   ]
  },
  {
   "cell_type": "code",
   "execution_count": 119,
   "metadata": {},
   "outputs": [],
   "source": [
    "def parsingArticle(link, sect):\n",
    "    driver.get(link)\n",
    "    url = link\n",
    "    a_id = link.split('aid=')\n",
    "    a_id = a_id[1]\n",
    "    try:\n",
    "        articleTitle = driver.find_element_by_css_selector(\"#articleTitle\")\n",
    "    except:\n",
    "        return\n",
    "    else:\n",
    "        articleTitle = articleTitle.text\n",
    "        dateTime = driver.find_element_by_css_selector(\".t11\")\n",
    "        dateTime = dateTime.text\n",
    "        dateTime = dateTime.split(\" \")\n",
    "        date = dateTime[0]\n",
    "        time = dateTime[1]\n",
    "        cont = driver.find_element_by_css_selector(\"#articleBodyContents\")\n",
    "        cont = cont.text.strip()\n",
    "        res = re.search(r\"\\w+\\s+기자\",cont)\n",
    "        if res != None:\n",
    "            author = res.group()\n",
    "            author = author.replace(' 기자','')\n",
    "        else:\n",
    "            author = str()\n",
    "        press = driver.find_element_by_css_selector(\".press_logo a img\")\n",
    "        press = press.get_attribute('title')\n",
    "        section = sect\n",
    "        data = (a_id, date, time, articleTitle, cont, press, author, section, url)\n",
    "        try:\n",
    "            cur.execute(\"INSERT INTO naver(a_ids, dates, times, titles, contents, press, authors, sections, urls) \\\n",
    "                        values(?,?,?,?,?,?,?,?,?)\", data)\n",
    "        except:\n",
    "            data = ''\n",
    "        else:\n",
    "            conn.commit()"
   ]
  },
  {
   "cell_type": "code",
   "execution_count": 2,
   "metadata": {},
   "outputs": [],
   "source": [
    "import requests\n",
    "from bs4 import BeautifulSoup"
   ]
  },
  {
   "cell_type": "code",
   "execution_count": null,
   "metadata": {},
   "outputs": [],
   "source": [
    "import urllib3\n",
    "dir(urllib3.HTTPSConnectionPool._get_conn())"
   ]
  },
  {
   "cell_type": "markdown",
   "metadata": {},
   "source": [
    "#### 해당 링크에서 뷰티풀솝으로 파싱"
   ]
  },
  {
   "cell_type": "code",
   "execution_count": 35,
   "metadata": {},
   "outputs": [],
   "source": [
    "def parsingArticleReq(link, headers, sect):\n",
    "    try:\n",
    "        article = requests.get(link, headers=headers)\n",
    "    except:\n",
    "        article = requests.get(link, headers=headers, verify=False)\n",
    "    article = BeautifulSoup(article.text, \"lxml\")\n",
    "    url = link\n",
    "    a_id = link.split('aid=')\n",
    "    a_id = a_id[1]\n",
    "    try:\n",
    "        articleTitle = article.select_one(\"#articleTitle\")\n",
    "    except:\n",
    "        return\n",
    "    else:\n",
    "        articleTitle = articleTitle.text\n",
    "        dateTime = article.select(\".t11\")\n",
    "        dateTime = dateTime[0].text.split(\" \")\n",
    "        date = dateTime[0]\n",
    "        time = dateTime[1]\n",
    "        reg_ex = {'email':r'[a-zA-Z0-9.!#$%&\\'*+/=?^_`{|}~-]+@[a-zA-Z0-9-]+\\.[a-zA-Z0-9-.]+'}\n",
    "        cont = article.select_one(\"#articleBodyContents\").text\n",
    "        # content : 기자 이메일 직전 개행문자부터 이하 내용 제거\n",
    "        try:\n",
    "            email_idx = re.search(reg_ex['email'], cont).start() #이메일 시작 idx\n",
    "            content_temp = cont[:email_idx].strip()\n",
    "            if (len(content_temp) / len(cont)) > 0.6:\n",
    "                cont = content_temp\n",
    "        except:\n",
    "             pass\n",
    "        cont = cont.replace(\"// flash 오류를 우회하기 위한 함수 추가\\nfunction _flash_removeCallback() {}\",\"\").strip()\n",
    "        res = re.search(r\"\\w+\\s+기자\",cont)\n",
    "        if res != None:\n",
    "            author = res.group()\n",
    "            author = author.replace(' 기자','')\n",
    "        else:\n",
    "            author = str()\n",
    "        press = article.select_one(\".press_logo a img\")\n",
    "        press = press.get('title')\n",
    "        section = sect\n",
    "        data = (a_id, date, time, articleTitle, cont, press, author, section, url)\n",
    "        try:\n",
    "            cur.execute(\"INSERT INTO naver(a_ids, dates, times, titles, contents, press, authors, sections, urls) \\\n",
    "                        values(?,?,?,?,?,?,?,?,?)\", data)\n",
    "        except:\n",
    "            data = ''\n",
    "        else:\n",
    "            conn.commit()"
   ]
  },
  {
   "cell_type": "markdown",
   "metadata": {},
   "source": [
    "#### 다른포맷"
   ]
  },
  {
   "cell_type": "code",
   "execution_count": 32,
   "metadata": {},
   "outputs": [],
   "source": [
    "def diffFormatCrawling(link, headers, sect):\n",
    "    try:\n",
    "        article = requests.get(link, headers=headers)\n",
    "    except:\n",
    "        article = requests.get(link, headers=headers, verify=False)\n",
    "    article = BeautifulSoup(article.text, \"lxml\")\n",
    "    url = link\n",
    "    a_id = link.split('aid=')\n",
    "    a_id = a_id[1]\n",
    "    articleTitle = article.select_one('title').text\n",
    "    dateTime = article.select('.info span')[1].text\n",
    "    dateTime = dateTime.split(\" \")\n",
    "    date = dateTime[1]\n",
    "    time = dateTime[2]+\" \"+dateTime[3]\n",
    "    reg_ex = {'email':r'[a-zA-Z0-9.!#$%&\\'*+/=?^_`{|}~-]+@[a-zA-Z0-9-]+\\.[a-zA-Z0-9-.]+'}\n",
    "    cont = article.select_one(\"#newsEndContents\").text\n",
    "    # content : 기자 이메일 직전 개행문자부터 이하 내용 제거\n",
    "    try:\n",
    "        email_idx = re.search(reg_ex['email'], cont).start() #이메일 시작 idx\n",
    "        content_temp = cont[:email_idx].strip()\n",
    "        if (len(content_temp) / len(cont)) > 0.6:\n",
    "            cont = content_temp\n",
    "    except:\n",
    "        pass\n",
    "    cont = cont.replace(\"// flash 오류를 우회하기 위한 함수 추가\\nfunction _flash_removeCallback() {}\",\"\").strip()\n",
    "    res = re.search(r\"\\w+\\s+기자\",cont)\n",
    "    if res != None:\n",
    "        author = res.group()\n",
    "        author = author.replace(' 기자','')\n",
    "    else:\n",
    "        author = str()\n",
    "    press = article.select_one(\".link img\")\n",
    "    press = press.get('alt')\n",
    "    section = sect\n",
    "    data = (a_id, date, time, articleTitle, cont, press, author, section, url)\n",
    "    try:\n",
    "        cur.execute(\"INSERT INTO naver(a_ids, dates, times, titles, contents, press, authors, sections, urls) \\\n",
    "                        values(?,?,?,?,?,?,?,?,?)\", data)\n",
    "    except:\n",
    "        pass\n",
    "    else:\n",
    "        conn.commit()"
   ]
  },
  {
   "cell_type": "markdown",
   "metadata": {},
   "source": [
    "#### 링크 모으기"
   ]
  },
  {
   "cell_type": "code",
   "execution_count": 11,
   "metadata": {},
   "outputs": [],
   "source": [
    "def collectLinks(url):\n",
    "    driver.get(url)\n",
    "    curPage = 0\n",
    "    links = []\n",
    "    pages = driver.find_elements_by_css_selector('.paging a')\n",
    "    pages = [page.get_attribute('href') for page in pages] #2부터\n",
    "    while curPage < len(pages):\n",
    "        obj = driver.find_elements_by_css_selector(\".type06_headline dt a\")        \n",
    "        tempLinks = [link.get_attribute('href') for link in obj]\n",
    "        links.extend(tempLinks)\n",
    "        driver.get(pages[curPage])\n",
    "        curPage += 1\n",
    "        if curPage==10:\n",
    "            curPage = 0\n",
    "            pages = driver.find_elements_by_css_selector('.paging a')\n",
    "            pages = [page.get_attribute('href') for page in pages]\n",
    "            pages = pages[1:]\n",
    "    return links"
   ]
  },
  {
   "cell_type": "code",
   "execution_count": null,
   "metadata": {},
   "outputs": [],
   "source": []
  },
  {
   "cell_type": "code",
   "execution_count": 10,
   "metadata": {},
   "outputs": [],
   "source": [
    "conn = sqlite3.connect('naver.db')\n",
    "\n",
    "cur = conn.cursor()"
   ]
  },
  {
   "cell_type": "code",
   "execution_count": 5,
   "metadata": {},
   "outputs": [],
   "source": [
    "# Rename column\n",
    "cur.execute(\"ALTER TABLE naver RENAME TO naver_temp\")\n",
    "\n",
    "cur.execute(\"CREATE TABLE naver(a_ids TEXT primary key, \\\n",
    "            dates DATE, times TIME, titles TEXT, contents TEXT, \\\n",
    "            press TEXT, authors TEXT, sections TEXT, urls TEXT)\")\n",
    "\n",
    "cur.execute(\"INSERT INTO naver (a_ids, dates, times, titles, contents, press, authors, sections, urls) \\\n",
    "            SELECT a_ids, dates, times, titles, contents, press_ko, authors, section_ko, urls \\\n",
    "            FROM naver_temp\")\n",
    "\n",
    "conn.commit()"
   ]
  },
  {
   "cell_type": "code",
   "execution_count": 6,
   "metadata": {},
   "outputs": [
    {
     "data": {
      "text/plain": [
       "<sqlite3.Cursor at 0x244cdc6fdc0>"
      ]
     },
     "execution_count": 6,
     "metadata": {},
     "output_type": "execute_result"
    }
   ],
   "source": [
    "cur.execute(\"DROP TABLE naver_temp\")"
   ]
  },
  {
   "cell_type": "code",
   "execution_count": 37,
   "metadata": {},
   "outputs": [
    {
     "data": {
      "text/plain": [
       "<sqlite3.Cursor at 0x180f745ef10>"
      ]
     },
     "execution_count": 37,
     "metadata": {},
     "output_type": "execute_result"
    }
   ],
   "source": [
    "cur.execute(\"DELETE FROM naver WHERE sections = '세계'\")"
   ]
  },
  {
   "cell_type": "code",
   "execution_count": 38,
   "metadata": {},
   "outputs": [],
   "source": [
    "conn.commit()"
   ]
  },
  {
   "cell_type": "code",
   "execution_count": null,
   "metadata": {},
   "outputs": [],
   "source": []
  }
 ],
 "metadata": {
  "kernelspec": {
   "display_name": "Python 3",
   "language": "python",
   "name": "python3"
  },
  "language_info": {
   "codemirror_mode": {
    "name": "ipython",
    "version": 3
   },
   "file_extension": ".py",
   "mimetype": "text/x-python",
   "name": "python",
   "nbconvert_exporter": "python",
   "pygments_lexer": "ipython3",
   "version": "3.6.5"
  }
 },
 "nbformat": 4,
 "nbformat_minor": 2
}
