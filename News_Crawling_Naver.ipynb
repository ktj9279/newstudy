{
 "cells": [
  {
   "cell_type": "markdown",
   "metadata": {},
   "source": [
    "### NAVER"
   ]
  },
  {
   "cell_type": "code",
   "execution_count": 1,
   "metadata": {},
   "outputs": [],
   "source": [
    "import requests\n",
    "import sqlite3"
   ]
  },
  {
   "cell_type": "code",
   "execution_count": 2,
   "metadata": {},
   "outputs": [],
   "source": [
    "from bs4 import BeautifulSoup"
   ]
  },
  {
   "cell_type": "code",
   "execution_count": 3,
   "metadata": {},
   "outputs": [],
   "source": [
    "from selenium import webdriver"
   ]
  },
  {
   "cell_type": "code",
   "execution_count": 4,
   "metadata": {},
   "outputs": [],
   "source": [
    "import re"
   ]
  },
  {
   "cell_type": "markdown",
   "metadata": {},
   "source": [
    "#### 링크 모으기"
   ]
  },
  {
   "cell_type": "code",
   "execution_count": 5,
   "metadata": {},
   "outputs": [],
   "source": [
    "driver = webdriver.Chrome()"
   ]
  },
  {
   "cell_type": "code",
   "execution_count": 6,
   "metadata": {},
   "outputs": [],
   "source": [
    "def collectLinks(url):\n",
    "    driver.get(url)\n",
    "    curPage = 0\n",
    "    links = []\n",
    "    pages = driver.find_elements_by_css_selector('.paging a')\n",
    "    pages = [page.get_attribute('href') for page in pages] #2부터\n",
    "    while curPage < len(pages):\n",
    "        obj = driver.find_elements_by_css_selector(\".type06_headline dt a\")        \n",
    "        tempLinks = [link.get_attribute('href') for link in obj]\n",
    "        links.extend(tempLinks)\n",
    "        driver.get(pages[curPage])\n",
    "        curPage += 1\n",
    "        if curPage==10:\n",
    "            curPage = 0\n",
    "            pages = driver.find_elements_by_css_selector('.paging a')\n",
    "            pages = [page.get_attribute('href') for page in pages]\n",
    "            pages = pages[1:]\n",
    "    return links"
   ]
  },
  {
   "cell_type": "markdown",
   "metadata": {},
   "source": [
    "#### 해당 링크에서 뷰티풀솝으로 파싱"
   ]
  },
  {
   "cell_type": "code",
<<<<<<< HEAD
   "execution_count": 1,
=======
   "execution_count": 7,
>>>>>>> c43cd04c80a816b5d36f64244210c6d07cc797db
   "metadata": {},
   "outputs": [],
   "source": [
    "def parsingArticleReq(link, headers, sect):\n",
    "    try:\n",
    "        article = requests.get(link, headers=headers)\n",
    "    except:\n",
    "        article = requests.get(link, headers=headers, verify=False)\n",
    "    article = BeautifulSoup(article.text, \"lxml\")\n",
    "    url = link\n",
    "    a_id = link.split('aid=')\n",
    "    a_id = \"na_\"+a_id[1]\n",
    "    try:\n",
    "        articleTitle = article.select_one(\"#articleTitle\")\n",
    "    except:\n",
    "        return\n",
    "    else:\n",
    "        articleTitle = articleTitle.text\n",
    "        dateTime = article.select(\".t11\")\n",
    "        dateTime = dateTime[0].text.split(\" \")\n",
    "        date = dateTime[0]\n",
    "        time = dateTime[1]\n",
    "        reg_ex = {'email':r'[a-zA-Z0-9.!#$%&\\'*+/=?^_`{|}~-]+@[a-zA-Z0-9-]+\\.[a-zA-Z0-9-.]+'}\n",
    "        cont = article.select_one(\"#articleBodyContents\").text\n",
    "        # content : 기자 이메일 직전 개행문자부터 이하 내용 제거\n",
    "        try:\n",
    "            email_idx = re.search(reg_ex['email'], cont).start() #이메일 시작 idx\n",
    "            content_temp = cont[:email_idx].strip()\n",
    "            if (len(content_temp) / len(cont)) > 0.6:\n",
    "                cont = content_temp\n",
    "        except:\n",
    "             pass\n",
    "        cont = cont.replace(\"// flash 오류를 우회하기 위한 함수 추가\\nfunction _flash_removeCallback() {}\",\"\").strip()\n",
    "        res = re.search(r\"\\w+\\s+기자\",cont)\n",
    "        if res != None:\n",
    "            author = res.group()\n",
    "            author = author.replace(' 기자','')\n",
    "        else:\n",
    "            author = str()\n",
    "        press = article.select_one(\".press_logo a img\")\n",
    "        press = press.get('title')\n",
    "        section = sect\n",
    "        data = (a_id, date, time, articleTitle, cont, press, author, section, url)\n",
    "        try:\n",
    "            cur.execute(\"INSERT INTO naver(a_ids, dates, times, titles, contents, press, authors, sections, urls) \\\n",
    "                        values(?,?,?,?,?,?,?,?,?)\", data)\n",
    "        except:\n",
    "            data = ''\n",
    "        else:\n",
    "            conn.commit()"
   ]
  },
  {
   "cell_type": "markdown",
   "metadata": {},
   "source": [
    "#### 다른포맷"
   ]
  },
  {
   "cell_type": "code",
<<<<<<< HEAD
   "execution_count": 2,
=======
   "execution_count": 8,
>>>>>>> c43cd04c80a816b5d36f64244210c6d07cc797db
   "metadata": {},
   "outputs": [],
   "source": [
    "def diffFormatCrawling(link, headers, sect):\n",
    "    try:\n",
    "        article = requests.get(link, headers=headers)\n",
    "    except:\n",
    "        article = requests.get(link, headers=headers, verify=False)\n",
    "    article = BeautifulSoup(article.text, \"lxml\")\n",
    "    url = link\n",
    "    a_id = link.split('aid=')\n",
    "    a_id = \"na_\"+a_id[1]\n",
    "    articleTitle = article.select_one('title').text\n",
    "    dateTime = article.select('.info span')[1].text\n",
    "    dateTime = dateTime.split(\" \")\n",
    "    date = dateTime[1]\n",
    "    time = dateTime[2]+\" \"+dateTime[3]\n",
    "    reg_ex = {'email':r'[a-zA-Z0-9.!#$%&\\'*+/=?^_`{|}~-]+@[a-zA-Z0-9-]+\\.[a-zA-Z0-9-.]+'}\n",
    "    cont = article.select_one(\"#newsEndContents\").text\n",
    "    # content : 기자 이메일 직전 개행문자부터 이하 내용 제거\n",
    "    try:\n",
    "        email_idx = re.search(reg_ex['email'], cont).start() #이메일 시작 idx\n",
    "        content_temp = cont[:email_idx].strip()\n",
    "        if (len(content_temp) / len(cont)) > 0.6:\n",
    "            cont = content_temp\n",
    "    except:\n",
    "        pass\n",
    "    cont = cont.replace(\"// flash 오류를 우회하기 위한 함수 추가\\nfunction _flash_removeCallback() {}\",\"\").strip()\n",
    "    res = re.search(r\"\\w+\\s+기자\",cont)\n",
    "    if res != None:\n",
    "        author = res.group()\n",
    "        author = author.replace(' 기자','')\n",
    "    else:\n",
    "        author = str()\n",
    "    press = article.select_one(\".link img\")\n",
    "    press = press.get('alt')\n",
    "    section = sect\n",
    "    data = (a_id, date, time, articleTitle, cont, press, author, section, url)\n",
    "    try:\n",
    "        cur.execute(\"INSERT INTO naver(a_ids, dates, times, titles, contents, press, authors, sections, urls) \\\n",
    "                        values(?,?,?,?,?,?,?,?,?)\", data)\n",
    "    except:\n",
    "        pass\n",
    "    else:\n",
    "        conn.commit()"
   ]
  },
  {
   "cell_type": "markdown",
   "metadata": {},
   "source": [
    "#### 0820 부분 링크긁기"
   ]
  },
  {
   "cell_type": "code",
   "execution_count": 9,
   "metadata": {},
   "outputs": [],
   "source": [
    "url = 'https://news.naver.com/main/list.nhn?mode=LS2D&mid=shm'\n",
    "sid = {'politics':'100','economic':'101','society':'102','culture':'103','globalList':'104','digital':'105'}\n",
    "\n",
    "politics = ['264','265','266','267','268','269']\n",
    "economic = ['259','258','261','771','260','262','310','263']\n",
    "society = ['249','250','251','254','252','59b','255','256','276','257']\n",
    "globalList = ['231','232','233','234','322']\n",
    "culture = ['241','239','240','237','238','376','242','243','244','248','245']\n",
    "digital = ['731','226','227','230','732','283','229','228']\n",
    "\n",
    "politicsLink = []\n",
    "economicLink = []\n",
    "societyLink = []\n",
    "globalLink = []\n",
    "cultureLink = []\n",
    "digitalLink = []\n",
    "\n",
    "for sid_k,sid_v in sid.items():\n",
    "    if sid_k == 'politics':\n",
    "        for t in politics:\n",
    "            temp = collectLinks(url+\"&sid1=\"+sid_v+\"&sid2=\"+t+\"&date=20180820\")\n",
    "            politicsLink.extend(temp)\n",
    "    elif sid_k == 'economic':\n",
    "        for t in economic:\n",
    "            temp = collectLinks(url+\"&sid1=\"+sid_v+\"&sid2=\"+t+\"&date=20180820\")\n",
    "            economicLink.extend(temp)\n",
    "    elif sid_k == 'culture':\n",
    "        for t in culture:\n",
    "            temp = collectLinks(url+\"&sid1=\"+sid_v+\"&sid2=\"+t+\"&date=20180820\")\n",
    "            cultureLink.extend(temp)\n",
    "    elif sid_k == 'society':\n",
    "        for t in society:\n",
    "            temp = collectLinks(url+\"&sid1=\"+sid_v+\"&sid2=\"+t+\"&date=20180820\")\n",
    "            societyLink.extend(temp)\n",
    "    elif sid_k == 'globalList':\n",
    "        for t in globalList:\n",
    "            temp = collectLinks(url+\"&sid1=\"+sid_v+\"&sid2=\"+t+\"&date=20180820\")\n",
    "            globalLink.extend(temp)\n",
    "    else:\n",
    "        for t in digital:\n",
    "            temp = collectLinks(url+\"&sid1=\"+sid_v+\"&sid2=\"+t+\"&date=20180820\")\n",
    "            digitalLink.extend(temp)"
   ]
  },
  {
   "cell_type": "markdown",
   "metadata": {},
   "source": [
    "#### DB만들기"
   ]
  },
  {
   "cell_type": "code",
   "execution_count": 10,
   "metadata": {},
   "outputs": [],
   "source": [
    "conn = sqlite3.connect('db/naver.db')\n",
    "\n",
    "cur = conn.cursor()"
   ]
  },
  {
   "cell_type": "code",
   "execution_count": 11,
   "metadata": {},
   "outputs": [
    {
     "data": {
      "text/plain": [
       "<sqlite3.Cursor at 0x19c814e8880>"
      ]
     },
     "execution_count": 11,
     "metadata": {},
     "output_type": "execute_result"
    }
   ],
   "source": [
    "cur.execute(\"CREATE TABLE naver(a_ids TEXT primary key, \\\n",
    "            dates DATE, times TIME, titles TEXT, contents TEXT, press TEXT, authors TEXT, sections TEXT, urls TEXT)\")"
   ]
  },
  {
   "cell_type": "markdown",
   "metadata": {},
   "source": [
    "#### 긁어온 링크에서 파싱"
   ]
  },
  {
   "cell_type": "code",
   "execution_count": 12,
   "metadata": {},
   "outputs": [],
   "source": [
    "headers = {\n",
    "    \"user-agent\": \"Mozilla/5.0 (Windows NT 10.0; Win64; x64) AppleWebKit/537.36 (KHTML, like Gecko) Chrome/68.0.3440.106 Safari/537.36\",\n",
    "}"
   ]
  },
  {
   "cell_type": "code",
   "execution_count": 13,
   "metadata": {},
   "outputs": [],
   "source": [
    "for p in politicsLink:\n",
    "    try:\n",
    "        parsingArticleReq(p, headers, '정치')\n",
    "    except:\n",
    "        try:\n",
    "            diffFormatCrawling(p, headers, '정치')\n",
    "        except:\n",
    "            print(p)"
   ]
  },
  {
   "cell_type": "code",
   "execution_count": 14,
   "metadata": {},
   "outputs": [],
   "source": [
    "for e in economicLink:\n",
    "    try:\n",
    "        parsingArticleReq(e, headers, '경제')\n",
    "    except:\n",
    "        try:\n",
    "            diffFormatCrawling(e, headers, '경제')\n",
    "        except:\n",
    "            print(e)"
   ]
  },
  {
   "cell_type": "code",
   "execution_count": 15,
   "metadata": {},
   "outputs": [],
   "source": [
    "for s in societyLink:\n",
    "    try:\n",
    "        parsingArticleReq(s, headers, '사회')\n",
    "    except:\n",
    "        try:\n",
    "            diffFormatCrawling(s, headers, '사회')\n",
    "        except:\n",
    "            print(s)"
   ]
  },
  {
   "cell_type": "code",
   "execution_count": 16,
   "metadata": {},
   "outputs": [
    {
     "name": "stdout",
     "output_type": "stream",
     "text": [
      "https://news.naver.com/main/read.nhn?mode=LS2D&mid=shm&sid1=103&sid2=245&oid=003&aid=0008764447\n",
      "https://news.naver.com/main/read.nhn?mode=LS2D&mid=shm&sid1=103&sid2=245&oid=003&aid=0008764447\n"
     ]
    }
   ],
   "source": [
    "for c in cultureLink:\n",
    "    try:\n",
    "        parsingArticleReq(c, headers, '문화')\n",
    "    except:\n",
    "        try:\n",
    "            diffFormatCrawling(c, headers, '사회')\n",
    "        except:\n",
    "            print(c)"
   ]
  },
  {
   "cell_type": "code",
   "execution_count": 17,
   "metadata": {},
   "outputs": [],
   "source": [
    "for d in digitalLink:\n",
    "    try:\n",
    "        parsingArticleReq(d, headers, 'IT')\n",
    "    except:\n",
    "        try:\n",
    "            diffFormatCrawling(d, headers, 'IT')\n",
    "        except:\n",
    "            print(d)    "
   ]
  },
  {
   "cell_type": "code",
   "execution_count": 18,
   "metadata": {},
   "outputs": [
    {
     "name": "stdout",
     "output_type": "stream",
     "text": [
      "https://news.naver.com/main/read.nhn?mode=LS2D&mid=shm&sid1=104&sid2=232&oid=001&aid=0010281833\n",
      "https://news.naver.com/main/read.nhn?mode=LS2D&mid=shm&sid1=104&sid2=232&oid=001&aid=0010281833\n"
     ]
    }
   ],
   "source": [
    "for g in globalLink:\n",
    "    try:\n",
    "        parsingArticleReq(g, headers, '세계')\n",
    "    except:\n",
    "        try:\n",
    "            diffFormatCrawling(g, headers, '세계')\n",
    "        except:\n",
    "            print(g)"
   ]
  }
 ],
 "metadata": {
  "kernelspec": {
   "display_name": "Python 3",
   "language": "python",
   "name": "python3"
  },
  "language_info": {
   "codemirror_mode": {
    "name": "ipython",
    "version": 3
   },
   "file_extension": ".py",
   "mimetype": "text/x-python",
   "name": "python",
   "nbconvert_exporter": "python",
   "pygments_lexer": "ipython3",
   "version": "3.6.6"
  }
 },
 "nbformat": 4,
 "nbformat_minor": 2
}
