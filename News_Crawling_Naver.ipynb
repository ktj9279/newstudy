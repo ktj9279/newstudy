{
 "cells": [
  {
   "cell_type": "markdown",
   "metadata": {},
   "source": [
    "### NAVER"
   ]
  },
  {
   "cell_type": "code",
   "execution_count": null,
   "metadata": {},
   "outputs": [],
   "source": [
    "import requests\n",
    "import sqlite3\n",
    "import re\n",
    "import pickle"
   ]
  },
  {
   "cell_type": "markdown",
   "metadata": {},
   "source": [
    "#### 불용어 제거"
   ]
  },
  {
   "cell_type": "code",
   "execution_count": null,
   "metadata": {},
   "outputs": [],
   "source": [
    "def check_title_delete_article(title):   \n",
    "    # 기본 정규식\n",
    "    reg_ex = {'email': r'[a-zA-Z0-9.!#$%&\\'*+/=?^_`{|}~-]+@[a-zA-Z0-9-]+\\.[a-zA-Z0-9-.]+',\n",
    "              'sb': r'\\[[^\\]]*\\]',\n",
    "              'pb': r'\\<[^\\>]*\\>'}\n",
    "    # 매칭되면 기사를 삭제하는 태그, 단어 및 정규식\n",
    "    stop_title_sb = ['[포토]', '[프로필]', '[★화보]', '[게시판]', '[경향포토]',\n",
    "                     '[리빙포인트]', '[머니S포토]', '[부고]', '[부음]', '[사람 人 사람]',\n",
    "                     '[사진]', '[서울포토]', '[영어]', \"[오래전 '이날']\", '[오마이포토]',\n",
    "                     '[이 시각 코스피]', '[이 시각 코스닥]', '[인사]', '[코스닥 공시]', '[코스닥(개장)]',\n",
    "                     '[코스닥(마감)]', '[코스피(개장)]', '[코스피(마감)]', '[포토뉴스]', '[표]',\n",
    "                     '[한경로보뉴스]', '[영상]', '[오늘의 국회 ', '[오늘의 주요일정]']\n",
    "\n",
    "    stop_title_pb = ['<부고>', '<오늘의 조간 정치뉴스>', '<인사>', '<포토>', '<코>', '<유>']\n",
    "    # Square brackets tag로 시작할 경우\n",
    "    p = r'^' + reg_ex['sb']\n",
    "    m = re.match(p, title)\n",
    "    # 매칭 안 되면 다음 정규식 검사로 넘어감.\n",
    "    if m == None:\n",
    "        pass\n",
    "    # 매칭된 문자열이 불용어 목록에 존재하면 True 반환하여 해당 기사 삭제\n",
    "    elif m[0] in stop_title_sb:\n",
    "        return True\n",
    "    \n",
    "    # Pointy brackets tag로 시작할 경우\n",
    "    p = r'^' + reg_ex['pb']\n",
    "    m = re.match(p, title)\n",
    "    if m == None:\n",
    "        pass\n",
    "    elif m[0] in stop_title_pb:\n",
    "        return True\n",
    "    \n",
    "    # 매칭 되지 않거나 매칭된 문자열이 불용어 목록에 존재하지 않으면 False 반환하여 해당 기사 수집\n",
    "    return "
   ]
  },
  {
   "cell_type": "code",
   "execution_count": null,
   "metadata": {},
   "outputs": [],
   "source": [
    "def check_content_delete_article(content):\n",
    "    stop_content_reg_ex = [r'^동영상[\\s]*뉴스']\n",
    "    # 특정 단어로 시작할 경우\n",
    "    for p in stop_content_reg_ex:\n",
    "        m = re.match(p, content)\n",
    "        # 매칭 안 되면 다음 정규식 검사로 넘어감.\n",
    "        if m == None:\n",
    "            pass\n",
    "        # 매칭될 경우 True 반환하여 해당 기사 삭제\n",
    "        else:\n",
    "            return True\n",
    "    # 매칭 되지 않거나 매칭된 문자열이 불용어 목록에 존재하지 않으면 False 반환하여 해당 기사 수집\n",
    "    return False"
   ]
  },
  {
   "cell_type": "code",
   "execution_count": null,
   "metadata": {},
   "outputs": [],
   "source": [
    "def check_content_crop_content(content):\n",
    "    # 기본 정규식\n",
    "    reg_ex = {'email': r'[a-zA-Z0-9.!#$%&\\'*+/=?^_`{|}~-]+@[a-zA-Z0-9-]+\\.[a-zA-Z0-9-.]+',\n",
    "              'sb': r'\\[[^\\]]*\\]',\n",
    "              'pb': r'\\<[^\\>]*\\>'}\n",
    "    stop_content_reg_ex_crop = [reg_ex['email']]\n",
    "\n",
    "    stop_content_reg_ex_ml_crop = [r'^[\\s]*\\【.*?\\】([^=\\n]*기자[\\s]*=)?',\n",
    "                                   r'^[\\s]*\\[.*?\\]([^=\\n)]*기자[\\s]*=)?',\n",
    "                                   r'^[\\s]*\\(.*?\\)([^=\\n]*기자[\\s]*=)?',\n",
    "                                   r'^[ㄱ-ㅎㅏ-ㅣ가-힣]+[\\s]?기자[\\s]?',\n",
    "                                   r'^© News1.*\\n',\n",
    "                                   '(- Copyrights )?ⓒ[^\\.]*$',\n",
    "                                   r'\\【.*?\\】[\\s]*$',\n",
    "                                   r'\\[.*?\\][\\s]*$',\n",
    "                                   r'\\(.*?\\)[\\s]*$',\n",
    "                                   r'[\\s\\.][ㄱ-ㅎㅏ-ㅣ가-힣]+[\\s]?기자$']\n",
    "    # Normal mode\n",
    "    for p in stop_content_reg_ex_crop:\n",
    "        # 매칭될 경우 매칭된 문자열 잘래낸 후 앞뒤 공백 제거\n",
    "        content = re.sub(p, '', content).strip()\n",
    "    \n",
    "    # Multiline mode\n",
    "    for p in stop_content_reg_ex_ml_crop:\n",
    "        content = re.sub(p, '', content, flags=re.MULTILINE).strip()\n",
    "\n",
    "    # 잘라낸 content 반환\n",
    "    return content"
   ]
  },
  {
   "cell_type": "markdown",
   "metadata": {},
   "source": [
    "#### 해당 링크에서 뷰티풀솝으로 파싱"
   ]
  },
  {
   "cell_type": "code",
   "execution_count": null,
   "metadata": {},
   "outputs": [],
   "source": [
    "def parsingArticleReq(link, headers, sect):\n",
    "    try:\n",
    "        article = requests.get(link, headers=headers)\n",
    "    except:\n",
    "        article = requests.get(link, headers=headers, verify=False)\n",
    "    article = BeautifulSoup(article.text, \"lxml\")\n",
    "    url = link\n",
    "    a_id = link.split('aid=')\n",
    "    a_id = \"na_\"+a_id[1]\n",
    "    try:\n",
    "        articleTitle = article.select_one(\"#articleTitle\")\n",
    "    except:\n",
    "        return\n",
    "    else:\n",
    "        articleTitle = articleTitle.text.strip()\n",
    "        if check_title_delete_article(articleTitle):\n",
    "            return\n",
    "        dateTime = article.select(\".t11\")\n",
    "        dateTime = dateTime[0].text.split(\" \")\n",
    "        date = dateTime[0]\n",
    "        time = dateTime[1]\n",
    "        reg_ex = {'email':r'[a-zA-Z0-9.!#$%&\\'*+/=?^_`{|}~-]+@[a-zA-Z0-9-]+\\.[a-zA-Z0-9-.]+'}\n",
    "        cont = article.select_one(\"#articleBodyContents\").text\n",
    "        if check_content_delete_article(cont):\n",
    "            return\n",
    "        cont = check_content_crop_content(cont)\n",
    "        # content : 기자 이메일 직전 개행문자부터 이하 내용 제거\n",
    "        try:\n",
    "            p = re.findall(r'.{20}' + reg_ex['email'], content, flags=re.DOTALL)[-1]\n",
    "            email_idx = re.search(p, cont).start() + 20\n",
    "            content_temp = cont[:email_idx].strip()\n",
    "            # 이메일이 본문 앞이나 중간에 들어가지 않은 경우에만 잘린 본문 사용\n",
    "            if (len(content_temp) / len(cont)) > 0.6:\n",
    "                cont = content_temp\n",
    "        except:\n",
    "             pass\n",
    "        cont = cont.replace(\"// flash 오류를 우회하기 위한 함수 추가\\nfunction _flash_removeCallback() {}\",\"\").strip()\n",
    "        if cont.find('▶') != -1:\n",
    "            tempIdx = cont.index('▶')\n",
    "            if tempIdx > 0:\n",
    "                cont = cont[:tempIdx]\n",
    "        res = re.search(r\"\\w+\\s+기자\",cont)\n",
    "        if res != None:\n",
    "            author = res.group()\n",
    "            author = author.replace(' 기자','')\n",
    "        else:\n",
    "            author = str()\n",
    "        press = article.select_one(\".press_logo a img\")\n",
    "        press = press.get('title')\n",
    "        section = sect\n",
    "        data = (a_id, date, time, articleTitle, cont, press, author, section, url)\n",
    "        try:\n",
    "            cur.execute(\"INSERT INTO Article(a_id, date, time, title, content, press, author, section, url) \\\n",
    "                        values(?,?,?,?,?,?,?,?,?)\", data)\n",
    "        except:\n",
    "            data = ''\n",
    "        else:\n",
    "            conn.commit()"
   ]
  },
  {
   "cell_type": "markdown",
   "metadata": {},
   "source": [
    "#### 다른포맷"
   ]
  },
  {
   "cell_type": "code",
   "execution_count": null,
   "metadata": {},
   "outputs": [],
   "source": [
    "def diffFormatCrawling(link, headers, sect):\n",
    "    try:\n",
    "        article = requests.get(link, headers=headers)\n",
    "    except:\n",
    "        article = requests.get(link, headers=headers, verify=False)\n",
    "    article = BeautifulSoup(article.text, \"lxml\")\n",
    "    url = link\n",
    "    a_id = link.split('aid=')\n",
    "    a_id = \"na_\"+a_id[1]\n",
    "    articleTitle = article.select_one('title').text.strip()\n",
    "    if check_title_delete_article(articleTitle):\n",
    "            return\n",
    "    dateTime = article.select('.info span')[1].text\n",
    "    dateTime = dateTime.split(\" \")\n",
    "    date = dateTime[1]\n",
    "    time = dateTime[2]+\" \"+dateTime[3]\n",
    "    reg_ex = {'email':r'[a-zA-Z0-9.!#$%&\\'*+/=?^_`{|}~-]+@[a-zA-Z0-9-]+\\.[a-zA-Z0-9-.]+'}\n",
    "    cont = article.select_one(\"#newsEndContents\").text\n",
    "    if check_content_delete_article(cont):\n",
    "            return\n",
    "    # content : 기자 이메일 직전 개행문자부터 이하 내용 제거\n",
    "    try:\n",
    "        p = re.findall(r'.{20}' + reg_ex['email'], content, flags=re.DOTALL)[-1]\n",
    "        email_idx = re.search(p, cont).start() + 20\n",
    "        content_temp = cont[:email_idx].strip()\n",
    "        # 이메일이 본문 앞이나 중간에 들어가지 않은 경우에만 잘린 본문 사용\n",
    "        if (len(content_temp) / len(cont)) > 0.6:\n",
    "            cont = content_temp\n",
    "    except:\n",
    "        pass\n",
    "    cont = cont.replace(\"// flash 오류를 우회하기 위한 함수 추가\\nfunction _flash_removeCallback() {}\",\"\").strip()\n",
    "    if cont.find('▶') != -1:\n",
    "            tempIdx = cont.index('▶')\n",
    "            if tempIdx > 0:\n",
    "                cont = cont[:tempIdx]\n",
    "    res = re.search(r\"\\w+\\s+기자\",cont)\n",
    "    if res != None:\n",
    "        author = res.group()\n",
    "        author = author.replace(' 기자','')\n",
    "    else:\n",
    "        author = str()\n",
    "    press = article.select_one(\".link img\")\n",
    "    press = press.get('alt')\n",
    "    section = sect\n",
    "    data = (a_id, date, time, articleTitle, cont, press, author, section, url)\n",
    "    try:\n",
    "        cur.execute(\"INSERT INTO Article(a_id, date, time, title, content, press, author, section, url) \\\n",
    "                        values(?,?,?,?,?,?,?,?,?)\", data)\n",
    "    except:\n",
    "        pass\n",
    "    else:\n",
    "        conn.commit()"
   ]
  },
  {
   "cell_type": "markdown",
   "metadata": {},
   "source": [
    "#### 긁어온 링크에서 파싱"
   ]
  },
  {
   "cell_type": "code",
   "execution_count": null,
   "metadata": {},
   "outputs": [],
   "source": [
    "headers = {\n",
    "    \"Mozilla/5.0 (Windows NT 10.0; Win64; x64) AppleWebKit/537.36 (KHTML, like Gecko) Chrome/68.0.3440.106 Safari/537.36\",\n",
    "}"
   ]
  },
  {
   "cell_type": "code",
   "execution_count": null,
   "metadata": {},
   "outputs": [],
   "source": [
    "e_date = 20180823\n",
    "period = 1\n",
    "path = 'db\\\\urls\\\\naver\\\\'\n",
    "sections = ['Society']\n",
    "# sections = ['politics', 'economic', 'society', 'global', 'culture', 'digital']"
   ]
  },
  {
   "cell_type": "code",
   "execution_count": null,
   "metadata": {
    "scrolled": true
   },
   "outputs": [],
   "source": [
    "cdates = [str(i) for i in range(e_date-period+1, e_date+1)]\n",
    "for cdate in cdates:\n",
    "    for section in sections:\n",
    "        with open(f'{path}naver_{section}_{cdate}.pkl', 'rb') as f:\n",
    "            urls = pickle.load(f)\n",
    "            print(f'{path}naver_{section}_{cdate}.pkl')\n",
    "            for i, url in enumerate(urls):\n",
    "                if (i % 1000) == 0:\n",
    "                    print(f'{i:6,}/{len(urls):6,}')\n",
    "                print(url)"
   ]
  },
  {
   "cell_type": "code",
   "execution_count": null,
   "metadata": {},
   "outputs": [],
   "source": [
    "for p in politicsLink:\n",
    "    try:\n",
    "        parsingArticleReq(p, headers, '정치')\n",
    "    except:\n",
    "        try:\n",
    "            diffFormatCrawling(p, headers, '정치')\n",
    "        except:\n",
    "            print(p)"
   ]
  },
  {
   "cell_type": "code",
   "execution_count": null,
   "metadata": {},
   "outputs": [],
   "source": [
    "for e in economicLink:\n",
    "    try:\n",
    "        parsingArticleReq(e, headers, '경제')\n",
    "    except:\n",
    "        try:\n",
    "            diffFormatCrawling(e, headers, '경제')\n",
    "        except:\n",
    "            print(e)"
   ]
  },
  {
   "cell_type": "code",
   "execution_count": null,
   "metadata": {},
   "outputs": [],
   "source": [
    "for s in societyLink:\n",
    "    try:\n",
    "        parsingArticleReq(s, headers, '사회')\n",
    "    except:\n",
    "        try:\n",
    "            diffFormatCrawling(s, headers, '사회')\n",
    "        except:\n",
    "            print(s)"
   ]
  },
  {
   "cell_type": "code",
   "execution_count": null,
   "metadata": {},
   "outputs": [],
   "source": [
    "for c in cultureLink:\n",
    "    try:\n",
    "        parsingArticleReq(c, headers, '문화')\n",
    "    except:\n",
    "        try:\n",
    "            diffFormatCrawling(c, headers, '문화')\n",
    "        except:\n",
    "            print(c)"
   ]
  },
  {
   "cell_type": "code",
   "execution_count": null,
   "metadata": {},
   "outputs": [],
   "source": [
    "for d in digitalLink:\n",
    "    try:\n",
    "        parsingArticleReq(d, headers, 'IT')\n",
    "    except:\n",
    "        try:\n",
    "            diffFormatCrawling(d, headers, 'IT')\n",
    "        except:\n",
    "            print(d)    "
   ]
  },
  {
   "cell_type": "code",
   "execution_count": null,
   "metadata": {},
   "outputs": [],
   "source": [
    "for g in globalLink:\n",
    "    try:\n",
    "        parsingArticleReq(g, headers, '세계')\n",
    "    except:\n",
    "        try:\n",
    "            diffFormatCrawling(g, headers, '세계')\n",
    "        except:\n",
    "            print(g)"
   ]
  },
  {
   "cell_type": "markdown",
   "metadata": {},
   "source": [
    "#### DB만들기"
   ]
  },
  {
   "cell_type": "code",
   "execution_count": null,
   "metadata": {},
   "outputs": [],
   "source": [
    "conn = sqlite3.connect('\\\\db\\\\news_db.db')\n",
    "cur = conn.cursor()"
   ]
  },
  {
   "cell_type": "code",
   "execution_count": null,
   "metadata": {},
   "outputs": [],
   "source": [
    "try:\n",
    "    cur.execute(\"CREATE TABLE Article(a_id TEXT primary key, \\\n",
    "                 date DATE, time TIME, title TEXT, content TEXT, press TEXT,author TEXT, section TEXT, url TEXT)\")\n",
    "    conn.commit()\n",
    "except:\n",
    "    pass"
   ]
  },
  {
   "cell_type": "code",
   "execution_count": null,
   "metadata": {},
   "outputs": [],
   "source": [
    "#cur.execute(\"DELETE FROM naver\")"
   ]
  },
  {
   "cell_type": "markdown",
   "metadata": {},
   "source": [
    "#### 링크 모으기"
   ]
  },
  {
   "cell_type": "code",
   "execution_count": null,
   "metadata": {},
   "outputs": [],
   "source": [
    "# from bs4 import BeautifulSoup\n",
    "# from selenium import webdriver"
   ]
  },
  {
   "cell_type": "code",
   "execution_count": null,
   "metadata": {},
   "outputs": [],
   "source": [
    "# driver = webdriver.Chrome()\n",
    "\n",
    "# def collectLinks(url):\n",
    "#     driver.get(url)\n",
    "#     curPage = 0\n",
    "#     links = []\n",
    "#     pages = driver.find_elements_by_css_selector('.paging a')\n",
    "#     pages = [page.get_attribute('href') for page in pages] #2부터\n",
    "#     while curPage < len(pages):\n",
    "#         obj = driver.find_elements_by_css_selector(\".type06_headline dt a\")        \n",
    "#         tempLinks = [link.get_attribute('href') for link in obj]\n",
    "#         links.extend(tempLinks)\n",
    "#         driver.get(pages[curPage])\n",
    "#         curPage += 1\n",
    "#         if curPage==10:\n",
    "#             curPage = 0\n",
    "#             pages = driver.find_elements_by_css_selector('.paging a')\n",
    "#             pages = [page.get_attribute('href') for page in pages]\n",
    "#             pages = pages[1:]\n",
    "#     return links"
   ]
  },
  {
   "cell_type": "markdown",
   "metadata": {},
   "source": [
    "#### 특정 날짜 링크긁기"
   ]
  },
  {
   "cell_type": "code",
   "execution_count": null,
   "metadata": {},
   "outputs": [],
   "source": [
    "# cdates = ['20180823']\n",
    "\n",
    "# url = 'https://news.naver.com/main/list.nhn?mode=LS2D&mid=shm'\n",
    "# # sid = {'politics':'100','economic':'101','society':'102','culture':'103',\n",
    "# #        'globalList':'104','digital':'105'}\n",
    "# sid = {'globalList':'104'}\n",
    "# politics = ['264','265','266','267','268','269']\n",
    "# economic = ['258','259','260','261','262','263','310','771']\n",
    "# society = ['249','250','251','252','254','255','256','257','276','59b']\n",
    "# globalList = ['231','232','233','234','322']\n",
    "# culture = ['237','238','239','240','241','242','243','244','245','248','376']\n",
    "# digital = ['226','227','228','229','230','283','731','732']\n",
    "\n",
    "# politicsLink = []\n",
    "# economicLink = []\n",
    "# societyLink = []\n",
    "# globalLink = []\n",
    "# cultureLink = []\n",
    "# digitalLink = []\n",
    "\n",
    "# for cdate in cdates:\n",
    "#     for sid_k,sid_v in sid.items():\n",
    "# #         if sid_k == 'politics':\n",
    "# #             for t in politics:\n",
    "# #                 temp = collectLinks(url+\"&sid1=\"+sid_v+\"&sid2=\"+t+\"&date=\"+cdate)\n",
    "# #                 politicsLink.extend(temp)\n",
    "# #         elif sid_k == 'economic':\n",
    "# #             for t in economic:\n",
    "# #                 temp = collectLinks(url+\"&sid1=\"+sid_v+\"&sid2=\"+t+\"&date=\"+cdate)\n",
    "# #                 economicLink.extend(temp)\n",
    "# #         elif sid_k == 'culture':\n",
    "# #             for t in culture:\n",
    "# #                 temp = collectLinks(url+\"&sid1=\"+sid_v+\"&sid2=\"+t+\"&date=\"+cdate)\n",
    "# #                 cultureLink.extend(temp)\n",
    "# #         elif sid_k == 'society':\n",
    "# #             for t in society:\n",
    "# #                 temp = collectLinks(url+\"&sid1=\"+sid_v+\"&sid2=\"+t+\"&date=\"+cdate)\n",
    "# #                 societyLink.extend(temp)\n",
    "#         if sid_k == 'globalList':\n",
    "#             for t in globalList:\n",
    "#                 temp = collectLinks(url+\"&sid1=\"+sid_v+\"&sid2=\"+t+\"&date=\"+cdate)\n",
    "#                 globalLink.extend(temp)\n",
    "# #         else:\n",
    "# #             for t in digital:\n",
    "# #                 temp = collectLinks(url+\"&sid1=\"+sid_v+\"&sid2=\"+t+\"&date=\"+cdate)\n",
    "# #                 digitalLink.extend(temp)"
   ]
  },
  {
   "cell_type": "markdown",
   "metadata": {},
   "source": [
    "#### 피클 저장하기"
   ]
  },
  {
   "cell_type": "code",
   "execution_count": null,
   "metadata": {},
   "outputs": [],
   "source": [
    "# def savePickle(date):\n",
    "# #     with open('db\\\\urls\\\\naver\\\\naver_politics_' + date + '.pkl', 'wb') as f:\n",
    "# #         pickle.dump(politicsLink,f)\n",
    "# #     with open('db\\\\urls\\\\naver\\\\naver_economic_' + date + '.pkl', 'wb') as f:\n",
    "# #         pickle.dump(economicLink,f)\n",
    "# #     with open('db\\\\urls\\\\naver\\\\naver_society_'+ date + '.pkl', 'wb') as f:\n",
    "# #         pickle.dump(societyLink,f)\n",
    "#     with open('db\\\\urls\\\\naver\\\\naver_global_' + date + '.pkl', 'wb') as f:\n",
    "#         pickle.dump(globalLink,f)\n",
    "# #     with open('db\\\\urls\\\\naver\\\\naver_culture_'+ date + '.pkl', 'wb') as f:\n",
    "# #         pickle.dump(cultureLink,f)\n",
    "# #     with open('db\\\\urls\\\\naver\\\\naver_digital_'+ date + '.pkl', 'wb') as f:\n",
    "# #         pickle.dump(digitalLink,f)"
   ]
  },
  {
   "cell_type": "code",
   "execution_count": null,
   "metadata": {},
   "outputs": [],
   "source": [
    "# savePickle('20180823')"
   ]
  }
 ],
 "metadata": {
  "kernelspec": {
   "display_name": "Python 3",
   "language": "python",
   "name": "python3"
  },
  "language_info": {
   "codemirror_mode": {
    "name": "ipython",
    "version": 3
   },
   "file_extension": ".py",
   "mimetype": "text/x-python",
   "name": "python",
   "nbconvert_exporter": "python",
   "pygments_lexer": "ipython3",
   "version": "3.6.5"
  }
 },
 "nbformat": 4,
 "nbformat_minor": 2
}
