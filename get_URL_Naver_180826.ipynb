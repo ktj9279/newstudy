{
 "cells": [
  {
   "cell_type": "markdown",
   "metadata": {},
   "source": [
    "### get URL --> pkl"
   ]
  },
  {
   "cell_type": "code",
   "execution_count": 1,
   "metadata": {},
   "outputs": [],
   "source": [
    "from bs4 import BeautifulSoup\n",
    "from selenium import webdriver\n",
    "import pickle"
   ]
  },
  {
   "cell_type": "code",
   "execution_count": 2,
   "metadata": {},
   "outputs": [],
   "source": [
    "def collectLinks(url):\n",
    "    driver.get(url)\n",
    "    curPage = 0\n",
    "    links = []\n",
    "    pages = driver.find_elements_by_css_selector('.paging a')\n",
    "    pages = [page.get_attribute('href') for page in pages] #2부터\n",
    "    while curPage < len(pages):\n",
    "        obj = driver.find_elements_by_css_selector(\".type06_headline dt a\")        \n",
    "        tempLinks = [link.get_attribute('href') for link in obj]\n",
    "        links.extend(tempLinks)\n",
    "        driver.get(pages[curPage])\n",
    "        curPage += 1\n",
    "        if curPage == 10:\n",
    "            curPage = 0\n",
    "            pages = driver.find_elements_by_css_selector('.paging a')\n",
    "            pages = [page.get_attribute('href') for page in pages]\n",
    "            pages = pages[1:]\n",
    "    return links"
   ]
  },
  {
   "cell_type": "code",
   "execution_count": 3,
   "metadata": {},
   "outputs": [],
   "source": [
    "def get_url_naver(e_date, period, path):\n",
    "    cdates = [str(i) for i in range(e_date-period+1, e_date+1)]\n",
    "    url = 'https://news.naver.com/main/list.nhn?mode=LS2D&mid=shm'\n",
    "    sid = {'100':'politics', '101':'economic', '102':'society',\n",
    "           '103':'culture', '104':'global', '105':'digital'}\n",
    "\n",
    "    politics = ['264','265','266','267','268','269']\n",
    "    economic = ['258','259','260','261','262','263','310','771']\n",
    "    society = ['249','250','251','252','254','255','256','257','276','59b']\n",
    "    globalList = ['231','232','233','234','322']\n",
    "    culture = ['237','238','239','240','241','242','243','244','245','248','376']\n",
    "    digital = ['226','227','228','229','230','283','731','732']\n",
    "\n",
    "    sections = {'politics':politics, 'economic':economic, 'society':society,\n",
    "                'global':globalList, 'culture':culture, 'digital':digital}\n",
    "\n",
    "    links = {'politics':[], 'economic':[], 'society':[],\n",
    "             'global':[], 'culture':[], 'digital':[]}\n",
    "    \n",
    "    driver = webdriver.Chrome()\n",
    "    \n",
    "    for cdate in cdates:\n",
    "        for sid_k,sid_v in sid.items():\n",
    "            for t in sections[sid_v]:\n",
    "                links[sid_v].extend(collectLinks(\n",
    "                    f'{url}&sid1={sid_k}&sid2={t}&date={cdate}'))\n",
    "            with open(f'{path}naver_{sid_v}_{cdate}.pkl','wb') as f:\n",
    "                pickle.dump(list(set(links[sid_v])),f)"
   ]
  },
  {
   "cell_type": "code",
   "execution_count": 4,
   "metadata": {},
   "outputs": [],
   "source": [
    "e_date = 20180823\n",
    "period = 14\n",
    "path = 'db\\\\urls\\\\naver\\\\'"
   ]
  },
  {
   "cell_type": "code",
   "execution_count": null,
   "metadata": {},
   "outputs": [],
   "source": [
    "get_url_naver(e_date, period, path)"
   ]
  }
 ],
 "metadata": {
  "kernelspec": {
   "display_name": "Python 3",
   "language": "python",
   "name": "python3"
  },
  "language_info": {
   "codemirror_mode": {
    "name": "ipython",
    "version": 3
   },
   "file_extension": ".py",
   "mimetype": "text/x-python",
   "name": "python",
   "nbconvert_exporter": "python",
   "pygments_lexer": "ipython3",
   "version": "3.6.5"
  }
 },
 "nbformat": 4,
 "nbformat_minor": 2
}
