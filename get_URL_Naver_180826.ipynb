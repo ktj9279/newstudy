{
 "cells": [
  {
   "cell_type": "markdown",
   "metadata": {},
   "source": [
    "### get URL --> pkl"
   ]
  },
  {
   "cell_type": "code",
   "execution_count": null,
   "metadata": {},
   "outputs": [],
   "source": [
    "from bs4 import BeautifulSoup\n",
    "from selenium import webdriver\n",
    "import pickle"
   ]
  },
  {
   "cell_type": "code",
   "execution_count": null,
   "metadata": {},
   "outputs": [],
   "source": [
    "def collectLinks(url):\n",
    "    driver.get(url)\n",
    "    curPage = 0\n",
    "    links = []\n",
    "    presses = []\n",
    "    pages = driver.find_elements_by_css_selector('.paging a')\n",
    "    pages = [page.get_attribute('href') for page in pages] #2부터\n",
    "    while curPage < len(pages):\n",
    "        obj1 = driver.find_elements_by_css_selector(\".type06_headline > dl:first-child > a\")\n",
    "#         linkTags = obj1.find_elements_by_css_selector('dt a')\n",
    "        tempLinks = [link.get_attribute('href') for link in obj1]\n",
    "#         pressTags = obj1.find_elements_by_css_selector('dd span.writing')\n",
    "#         tempPress = [press.text for press in presstags]\n",
    "#   obj2 = driver.find_elements_by_css_selector(\".type06\")\n",
    "        links.extend(tempLinks)\n",
    "#         presses.extend(tempLinks2)\n",
    "        driver.get(pages[curPage])\n",
    "        curPage += 1\n",
    "        if curPage == 10:\n",
    "            curPage = 0\n",
    "            pages = driver.find_elements_by_css_selector('.paging a')\n",
    "            pages = [page.get_attribute('href') for page in pages]\n",
    "            pages = pages[1:]\n",
    "    return links"
   ]
  },
  {
   "cell_type": "code",
   "execution_count": null,
   "metadata": {},
   "outputs": [],
   "source": [
    "driver = webdriver.Chrome()"
   ]
  },
  {
   "cell_type": "code",
   "execution_count": null,
   "metadata": {},
   "outputs": [],
   "source": [
    "a = collectLinks(url)"
   ]
  },
  {
   "cell_type": "code",
   "execution_count": null,
   "metadata": {},
   "outputs": [],
   "source": [
    "url = 'https://news.naver.com/main/list.nhn?mode=LS2D&mid=shm&sid1=102&sid2=249&date=20180825'\n",
    "driver.get(url)\n",
    "obj = driver.find_elements_by_css_selector(\".type06_headline dl a\")\n",
    "tempLinks = [link.get_attribute('href') for link in obj]\n",
    "tempLinks"
   ]
  },
  {
   "cell_type": "code",
   "execution_count": null,
   "metadata": {},
   "outputs": [],
   "source": [
    "#main_content > div.list_body.newsflash_body > ul.type06_headline > li:nth-child(1) > dl > dt > a\n",
    "#main_content > div.list_body.newsflash_body > ul.type06_headline > li:nth-child(1) > dl > dd > span.writing"
   ]
  },
  {
   "cell_type": "code",
   "execution_count": null,
   "metadata": {},
   "outputs": [],
   "source": [
    "def get_url_naver(e_date, period, path):\n",
    "    cdates = [str(i) for i in range(e_date-period+1, e_date+1)]\n",
    "    url = 'https://news.naver.com/main/list.nhn?mode=LS2D&mid=shm'\n",
    "    sid = {'100':'politics', '101':'economic', '102':'society',\n",
    "       '103':'culture', '104':'global', '105':'digital'}\n",
    "\n",
    "    politics = ['264','265','266','267','268','269']\n",
    "    economic = ['258','259','260','261','262','263','310','771']\n",
    "    society = ['249','250','251','252','254','255','256','257','276','59b']\n",
    "    globalList = ['231','232','233','234','322']\n",
    "    culture = ['237','238','239','240','241','242','243','244','245','248','376']\n",
    "    digital = ['226','227','228','229','230','283','731','732']\n",
    "\n",
    "    sections = {'politics':politics, 'economic':economic, 'society':society,\n",
    "                'global':globalList, 'culture':culture, 'digital':digital}\n",
    "    \n",
    "    for cdate in cdates:\n",
    "        links = {'politics':[], 'economic':[], 'society':[],\n",
    "                 'global':[], 'culture':[], 'digital':[]}\n",
    "        for sid_k,sid_v in sid.items():\n",
    "            for t in sections[sid_v]:\n",
    "                links[sid_v].extend(collectLinks(\n",
    "                    f'{url}&sid1={sid_k}&sid2={t}&date={cdate}'))\n",
    "            with open(f'{path}naver_{sid_v}_{cdate}.pkl2','wb') as f: # save in pkl\n",
    "                pickle.dump(list(set(links[sid_v])),f) # deduplication\n",
    "                f.close()"
   ]
  },
  {
   "cell_type": "code",
   "execution_count": null,
   "metadata": {},
   "outputs": [],
   "source": [
    "e_date = 20180823\n",
    "period = 2\n",
    "path = 'db\\\\urls\\\\test\\\\'"
   ]
  },
  {
   "cell_type": "code",
   "execution_count": null,
   "metadata": {},
   "outputs": [],
   "source": [
    "driver = webdriver.Chrome()"
   ]
  },
  {
   "cell_type": "code",
   "execution_count": null,
   "metadata": {},
   "outputs": [],
   "source": [
    "get_url_naver(e_date, period, path)"
   ]
  },
  {
   "cell_type": "code",
   "execution_count": null,
   "metadata": {},
   "outputs": [],
   "source": [
    "cdates = [str(i) for i in range(e_date-period+1, e_date+1)]"
   ]
  },
  {
   "cell_type": "code",
   "execution_count": null,
   "metadata": {},
   "outputs": [],
   "source": [
    "for cdate in cdates:\n",
    "    with open(f'{path}naver_global_{cdate}.pkl2', 'rb') as f:\n",
    "            urls = pickle.load(f)\n",
    "            print(f'{path}naver_global_{cdate}.pkl2')\n",
    "            with codecs.open(f'{path}naver_global_{cdate}_2.csv', 'w', 'utf-8') as csvOut:\n",
    "                csvOut.write(f'index, url\\n')\n",
    "                for i, url in enumerate(urls):\n",
    "                    csvOut.write(f'{i},{url}\\n')\n",
    "                    if (i % 1000) == 0:\n",
    "                        print(f'{i:6,}/{len(urls):6,}')"
   ]
  },
  {
   "cell_type": "code",
   "execution_count": null,
   "metadata": {},
   "outputs": [],
   "source": [
    "'TV조선'\n",
    "'강원일보'\n",
    "'디지털데일리'\n",
    "'매일신문'\n",
    "'미디어오늘'\n",
    "'부산일보'\n",
    "'블로터'\n",
    "'여성신문'\n",
    "'일다'\n",
    "'조세일보'\n",
    "'참세상'\n",
    "'코메디닷컴'\n",
    "'헬스조선'"
   ]
  }
 ],
 "metadata": {
  "kernelspec": {
   "display_name": "Python 3",
   "language": "python",
   "name": "python3"
  },
  "language_info": {
   "codemirror_mode": {
    "name": "ipython",
    "version": 3
   },
   "file_extension": ".py",
   "mimetype": "text/x-python",
   "name": "python",
   "nbconvert_exporter": "python",
   "pygments_lexer": "ipython3",
   "version": "3.6.5"
  }
 },
 "nbformat": 4,
 "nbformat_minor": 2
}
