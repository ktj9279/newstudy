{
 "cells": [
  {
   "cell_type": "markdown",
   "metadata": {},
   "source": [
    "# Preprocessing\n",
    "---"
   ]
  },
  {
   "cell_type": "code",
   "execution_count": 1,
   "metadata": {},
   "outputs": [],
   "source": [
    "import pandas as pd\n",
    "import re\n",
    "import sqlite3"
   ]
  },
  {
   "cell_type": "code",
   "execution_count": 2,
   "metadata": {},
   "outputs": [],
   "source": [
    "press_list = ['daum', 'naver',\n",
    "              'seoulilbo', 'dtoday', 'asiailbo', 'labortoday', 'm-i',\n",
    "              'ekn', 'busan', 'imaeil', 'kookje', 'yeongnam']\n",
    "press_dict = {'daum':'다음', 'naver':'네이버',\n",
    "              'seoulilbo':'서울일보', 'dtoday':'일간투데이', 'asiailbo':'아시아일보',\n",
    "              'labortoday':'매일노동뉴스', 'm-i':'매일일보', 'ekn':'에너지경제',\n",
    "              'busan':'부산일보', 'imaeil':'매일신문', 'kookje':'국제신문',\n",
    "              'yeongnam':'영남일보'}\n",
    "\n",
    "daum_press_list = ['EBS', 'IT동아', 'JTBC', 'KBS', 'KTV',\n",
    "                   'MBC', 'MBN', 'SBS', 'SBS CNBC', 'YTN',\n",
    "                   'ZDNet Korea', 'bnt뉴스', '게임동아', '게임톡', '경향신문',\n",
    "                   '국민일보', '기자협회보', '노컷뉴스', '뉴스1', '뉴시스',\n",
    "                   '데일리안', '동아사이언스', '동아일보', '디지털타임스', '로이터',\n",
    "                   '매경게임진', '매일경제', '머니S', '머니투데이', '문화일보',\n",
    "                   '미디어오늘', '서울경제', '서울신문', '세계일보', '아시아경제',\n",
    "                   '아이뉴스24', '연합뉴스', '연합뉴스TV', '오마이뉴스', '오토타임즈',\n",
    "                   '이데일리', '전자신문', '조선비즈', '조선일보', '중앙일보',\n",
    "                   '채널A', '코리아헤럴드', '쿠키뉴스', '파이낸셜뉴스', '포토친구',\n",
    "                   '프레시안', '한겨레', '한국경제', '한국경제TV', '한국일보',\n",
    "                   '헤럴드경제']\n",
    "naver_press_list = ['JTBC', 'KBS', 'MBC', 'MBN', 'SBS',\n",
    "                    'SBS CNBC', 'TV조선', 'YTN', 'ZDNet Korea', '강원일보',\n",
    "                    '경향신문', '국민일보', '기자협회보', '노컷뉴스', '뉴스1',\n",
    "                    '뉴시스', '데일리안', '동아사이언스', '동아일보', '디지털데일리',\n",
    "                    '디지털타임스', '로이터', '매일경제', '매일신문', '머니S',\n",
    "                    '머니투데이', '문화일보', '미디어오늘', '부산일보', '블로터',\n",
    "                    '서울경제', '서울신문', '세계일보', '아시아경제', '아이뉴스24',\n",
    "                    '여성신문', '연합뉴스', '연합뉴스TV', '오마이뉴스', '이데일리',\n",
    "                    '일다', '전자신문', '조선비즈', '조선일보', '조세일보',\n",
    "                    '중앙일보', '참세상', '채널A', '코리아헤럴드', '코메디닷컴',\n",
    "                    '파이낸셜뉴스', '프레시안', '한겨레', '한국경제', '한국경제TV',\n",
    "                    '한국일보', '헤럴드경제', '헬스조선']\n",
    "\n",
    "section_list = ['society', 'politics', 'economic', 'culture', 'digital', 'global']\n",
    "section_dict = {'society':'사회', 'politics':'정치', 'economic':'경제',\n",
    "               'culture':'문화', 'digital':'IT', 'global':'세계'}\n",
    "\n",
    "base_urls = {'daum':\n",
    "             {'society':'http://media.daum.net/breakingnews/society',\n",
    "              'politics':'http://media.daum.net/breakingnews/politics',\n",
    "              'economic':'http://media.daum.net/breakingnews/economic',\n",
    "              'culture':'http://media.daum.net/breakingnews/culture',\n",
    "              'digital':'http://media.daum.net/breakingnews/digital',\n",
    "              'global':'http://media.daum.net/breakingnews/foreign'\n",
    "             },\n",
    "             'seoulilbo':\n",
    "             {'society':'http://www.seoulilbo.com/news/articleList.html?sc_section_code=S1N10&view_type=sm',\n",
    "              'politics':'http://www.seoulilbo.com/news/articleList.html?sc_section_code=S1N8&view_type=sm',\n",
    "              'economic':'http://www.seoulilbo.com/news/articleList.html?sc_section_code=S1N9&view_type=sm',\n",
    "              'culture':'http://www.seoulilbo.com/news/articleList.html?sc_section_code=S1N11&view_type=sm',\n",
    "              'digital':'',\n",
    "              'global':''\n",
    "             },\n",
    "             'dtoday':\n",
    "             {'society':'',\n",
    "              'politics':'http://www.dtoday.co.kr/news/articleList.html?sc_section_code=S1N1&view_type=sm',\n",
    "              'economic':'http://www.dtoday.co.kr/news/articleList.html?sc_section_code=S1N2&view_type=sm',\n",
    "              'culture':'',\n",
    "              'digital':'',\n",
    "              'global':''\n",
    "             },\n",
    "             'asiailbo':\n",
    "             {'society':'http://www.asiailbo.co.kr/etnews/?cid=21030000',\n",
    "              'politics':'http://www.asiailbo.co.kr/etnews/?cid=21010000',\n",
    "              'economic':'http://www.asiailbo.co.kr/etnews/?cid=21020000',\n",
    "              'culture':'http://www.asiailbo.co.kr/etnews/?cid=21040000',\n",
    "              'digital':'',\n",
    "              'global':''\n",
    "             },\n",
    "             'labortoday':\n",
    "             {'society':'http://www.labortoday.co.kr/news/articleList.html?sc_section_code=S1N3&view_type=sm',\n",
    "              'politics':'http://www.labortoday.co.kr/news/articleList.html?sc_section_code=S1N2&view_type=sm',\n",
    "              'economic':'',    # 정치, 경제\n",
    "              'culture':'',\n",
    "              'digital':'',\n",
    "              'global':''\n",
    "             },\n",
    "             'm-i':\n",
    "             {'society':'http://www.m-i.kr/news/articleList.html?sc_section_code=S1N3&view_type=sm',\n",
    "              'politics':'http://www.m-i.kr/news/articleList.html?sc_section_code=S1N1&view_type=tm',\n",
    "              'economic':'http://www.m-i.kr/news/articleList.html?sc_section_code=S1N2&view_type=sm',\n",
    "              'culture':'http://www.m-i.kr/news/articleList.html?sc_section_code=S1N22&view_type=tm',\n",
    "              'digital':'',\n",
    "              'global':''\n",
    "             },\n",
    "             'ekn':\n",
    "             {'society':'http://www.ekn.kr/news/section_list_all.html?sec_no=25',\n",
    "              'politics':'',    # 정치, 사회\n",
    "              'economic':'http://www.ekn.kr/news/section_list_all.html?sec_no=130',\n",
    "              'culture':'',\n",
    "              'digital':'',\n",
    "              'global':''\n",
    "             },\n",
    "             'busan':\n",
    "             {'society':'http://news20.busan.com/news/social.jsp',\n",
    "              'politics':'http://news20.busan.com/news/politics.jsp',\n",
    "              'economic':'http://news20.busan.com/EconomyAndOcean/econocean.jsp',\n",
    "              'culture':'http://news20.busan.com/news/culture.jsp',\n",
    "              'digital':'',\n",
    "              'global':''\n",
    "             },\n",
    "             'imaeil':\n",
    "             {'society':'http://news.imaeil.com/SocietyAll/',\n",
    "              'politics':'http://news.imaeil.com/PoliticsAll/',\n",
    "              'economic':'http://news.imaeil.com/EconomyAll/',\n",
    "              'culture':'http://news.imaeil.com/CultureAll/',\n",
    "              'digital':'',\n",
    "              'global':'http://news.imaeil.com/InternationalAll/'\n",
    "             },\n",
    "             'kookje':\n",
    "             {'society':'http://www.kookje.co.kr/sub.htm?code=0300&vHeadTitle=%BB%E7%C8%B8',\n",
    "              'politics':'http://www.kookje.co.kr/sub.htm?code=0100&vHeadTitle=%C1%A4%C4%A1',\n",
    "              'economic':'http://www.kookje.co.kr/sub.htm?code=0200&vHeadTitle=%B0%E6%C1%A6',\n",
    "              'culture':'http://www.kookje.co.kr/sub.htm?code=0500&vHeadTitle=%B9%AE%C8%AD',\n",
    "              'digital':'http://www.kookje.co.kr/sub.htm?code=0800&vHeadTitle=IT%B0%FA%C7%D0',\n",
    "              'global':'http://www.kookje.co.kr/sub.htm?code=0400&vHeadTitle=%B1%B9%C1%A6'\n",
    "             },\n",
    "             'yeongnam':\n",
    "             {'society':'http://www.yeongnam.com/mnews/newsview.do?mode=subMain&cId=04',\n",
    "              'politics':'http://www.yeongnam.com/mnews/newsview.do?mode=subMain&cId=02',\n",
    "              'economic':'http://www.yeongnam.com/mnews/newsview.do?mode=subMain&cId=03',\n",
    "              'culture':'http://www.yeongnam.com/mnews/newsview.do?mode=subMain&cId=08',\n",
    "              'digital':'',    # 교육, 과학\n",
    "              'global':'http://www.yeongnam.com/mnews/newsview.do?mode=subMain&cId=06'\n",
    "             }\n",
    "            }\n",
    "\n",
    "headers = {\"user-agent\":\"Mozilla/5.0 (Windows NT 10.0; Win64; x64) AppleWebKit/537.36 (KHTML, like Gecko) Chrome/67.0.3396.99 Safari/537.36\"}"
   ]
  },
  {
   "cell_type": "code",
   "execution_count": 3,
   "metadata": {},
   "outputs": [],
   "source": [
    "reg_ex = {'email':r'[a-zA-Z0-9.!#$%&\\'*+/=?^_`{|}~-]+@[a-zA-Z0-9-]+\\.[a-zA-Z0-9-.]+'}"
   ]
  },
  {
   "cell_type": "code",
   "execution_count": 4,
   "metadata": {},
   "outputs": [],
   "source": [
    "# # Delete\n",
    "# cur.execute(\"DELETE FROM daum WHERE sections LIKE '세계'\")\n",
    "\n",
    "# conn.commit()"
   ]
  },
  {
   "cell_type": "code",
   "execution_count": 5,
   "metadata": {},
   "outputs": [],
   "source": [
    "# # Rename column\n",
    "# cur.execute(\"ALTER TABLE daum RENAME TO daum_temp\")\n",
    "\n",
    "# cur.execute(\"CREATE TABLE daum(a_ids TEXT primary key, \\\n",
    "#             dates DATE, times TIME, titles TEXT, contents TEXT, \\\n",
    "#             press TEXT, authors TEXT, sections TEXT, urls TEXT)\")\n",
    "\n",
    "# cur.execute(\"INSERT INTO daum (a_ids, dates, times, titles, contents, press, authors, sections, urls) \\\n",
    "#             SELECT a_ids, dates, times, titles, contents, press_ko, authors, section_ko, urls \\\n",
    "#             FROM daum_temp\")\n",
    "\n",
    "# conn.commit()"
   ]
  },
  {
   "cell_type": "markdown",
   "metadata": {},
   "source": [
    "## Null Data 제거\n",
    "---\n",
    "\n",
    "* dates, times, titles, press column이 NULL 또는 빈 문자열인 경우"
   ]
  },
  {
   "cell_type": "code",
   "execution_count": 6,
   "metadata": {},
   "outputs": [],
   "source": [
    "def delete_null_data(db_name, table_name):\n",
    "    conn = sqlite3.connect('db/' + db_name + '.db')\n",
    "    cur = conn.cursor()\n",
    "    \n",
    "    cols = ('dates', 'times', 'titles', 'press')\n",
    "    for col in cols:\n",
    "        cur.execute(\"DELETE FROM {0} WHERE {1} IS NULL OR TRIM({1}) = ''\".format(table_name, col))\n",
    "\n",
    "    conn.commit()"
   ]
  },
  {
   "cell_type": "code",
   "execution_count": 7,
   "metadata": {},
   "outputs": [],
   "source": [
    "delete_null_data('daum', 'daum')"
   ]
  },
  {
   "cell_type": "code",
   "execution_count": 8,
   "metadata": {},
   "outputs": [],
   "source": [
    "delete_null_data('naver', 'naver')"
   ]
  },
  {
   "cell_type": "code",
   "execution_count": null,
   "metadata": {},
   "outputs": [],
   "source": [
    "delete_null_data('news_db', 'news_db')"
   ]
  },
  {
   "cell_type": "markdown",
   "metadata": {},
   "source": [
    "## Daum, Naver에서 리스트에 없는 언론사 제외\n",
    "---"
   ]
  },
  {
   "cell_type": "code",
   "execution_count": 9,
   "metadata": {},
   "outputs": [],
   "source": [
    "def delete_excluded_press(db_name, table_name, press_list):\n",
    "    conn = sqlite3.connect('db/' + db_name + '.db')\n",
    "    cur = conn.cursor()\n",
    "    \n",
    "    cur.execute(\"DELETE FROM {0} WHERE press NOT IN {1}\".format(table_name, tuple(press_list)))\n",
    "\n",
    "    conn.commit()"
   ]
  },
  {
   "cell_type": "code",
   "execution_count": 10,
   "metadata": {},
   "outputs": [],
   "source": [
    "delete_excluded_press('daum', 'daum', daum_press_list)"
   ]
  },
  {
   "cell_type": "code",
   "execution_count": 11,
   "metadata": {},
   "outputs": [],
   "source": [
    "delete_excluded_press('naver', 'naver', naver_press_list)"
   ]
  },
  {
   "cell_type": "code",
   "execution_count": null,
   "metadata": {},
   "outputs": [],
   "source": [
    "delete_excluded_press('news_db', 'news_db')"
   ]
  },
  {
   "cell_type": "markdown",
   "metadata": {},
   "source": [
    "## Contents 길이가 100 미만일 경우 제거\n",
    "---"
   ]
  },
  {
   "cell_type": "code",
   "execution_count": 12,
   "metadata": {},
   "outputs": [],
   "source": [
    "# Contents 길이 분석\n",
    "def analysis_contents_length(db_name, table_name):\n",
    "    conn = sqlite3.connect('db/' + db_name + '.db')\n",
    "    cur = conn.cursor()\n",
    "    \n",
    "    cur.execute(\"SELECT contents FROM \" + table_name)\n",
    "\n",
    "    temp_contents_list = []\n",
    "    for content_tuple in cur.fetchall():\n",
    "        temp_contents_list.append(content_tuple[0])\n",
    "\n",
    "    df = pd.DataFrame({'contents':temp_contents_list})\n",
    "    \n",
    "    df['contents_length'] = None\n",
    "    for idx, content in enumerate(df.contents):\n",
    "        df.contents_length.iloc[idx] = len(content)\n",
    "    \n",
    "    return df"
   ]
  },
  {
   "cell_type": "code",
   "execution_count": 13,
   "metadata": {},
   "outputs": [
    {
     "data": {
      "text/html": [
       "<div>\n",
       "<style scoped>\n",
       "    .dataframe tbody tr th:only-of-type {\n",
       "        vertical-align: middle;\n",
       "    }\n",
       "\n",
       "    .dataframe tbody tr th {\n",
       "        vertical-align: top;\n",
       "    }\n",
       "\n",
       "    .dataframe thead th {\n",
       "        text-align: right;\n",
       "    }\n",
       "</style>\n",
       "<table border=\"1\" class=\"dataframe\">\n",
       "  <thead>\n",
       "    <tr style=\"text-align: right;\">\n",
       "      <th></th>\n",
       "      <th>contents</th>\n",
       "      <th>contents_length</th>\n",
       "    </tr>\n",
       "  </thead>\n",
       "  <tbody>\n",
       "    <tr>\n",
       "      <th>0</th>\n",
       "      <td>(속초=연합뉴스) 제19호 태풍 '솔릭' 북상에 대비한 속초시청들이 23일 상습침수...</td>\n",
       "      <td>92</td>\n",
       "    </tr>\n",
       "    <tr>\n",
       "      <th>1</th>\n",
       "      <td>제19호 태풍 ‘솔릭’이 제주 서귀포시 서쪽 해상에서 매우 느린 속도로 북상하고 있...</td>\n",
       "      <td>1392</td>\n",
       "    </tr>\n",
       "    <tr>\n",
       "      <th>2</th>\n",
       "      <td>(서울=연합뉴스) 김인철 기자 = 23일 오후 서울 동작구 숭실대학교 한경직기념관에...</td>\n",
       "      <td>108</td>\n",
       "    </tr>\n",
       "    <tr>\n",
       "      <th>3</th>\n",
       "      <td>(속초=뉴스1) 고재교 기자 = 23일 속초시청 직원들이 태풍 '솔릭'을 대비해 공...</td>\n",
       "      <td>133</td>\n",
       "    </tr>\n",
       "    <tr>\n",
       "      <th>4</th>\n",
       "      <td>(속초=뉴스1) 고재교 기자 = 23일 속초시청 직원들이 태풍 '솔릭'을 대비해 공...</td>\n",
       "      <td>121</td>\n",
       "    </tr>\n",
       "  </tbody>\n",
       "</table>\n",
       "</div>"
      ],
      "text/plain": [
       "                                            contents  contents_length\n",
       "0  (속초=연합뉴스) 제19호 태풍 '솔릭' 북상에 대비한 속초시청들이 23일 상습침수...               92\n",
       "1  제19호 태풍 ‘솔릭’이 제주 서귀포시 서쪽 해상에서 매우 느린 속도로 북상하고 있...             1392\n",
       "2  (서울=연합뉴스) 김인철 기자 = 23일 오후 서울 동작구 숭실대학교 한경직기념관에...              108\n",
       "3  (속초=뉴스1) 고재교 기자 = 23일 속초시청 직원들이 태풍 '솔릭'을 대비해 공...              133\n",
       "4  (속초=뉴스1) 고재교 기자 = 23일 속초시청 직원들이 태풍 '솔릭'을 대비해 공...              121"
      ]
     },
     "execution_count": 13,
     "metadata": {},
     "output_type": "execute_result"
    }
   ],
   "source": [
    "df = analysis_contents_length('daum', 'daum')\n",
    "\n",
    "df.head()    "
   ]
  },
  {
   "cell_type": "code",
   "execution_count": 14,
   "metadata": {
    "scrolled": true
   },
   "outputs": [
    {
     "name": "stdout",
     "output_type": "stream",
     "text": [
      "<class 'pandas.core.frame.DataFrame'>\n",
      "RangeIndex: 1363 entries, 0 to 1362\n",
      "Data columns (total 2 columns):\n",
      "contents           1363 non-null object\n",
      "contents_length    1363 non-null int64\n",
      "dtypes: int64(1), object(1)\n",
      "memory usage: 21.4+ KB\n"
     ]
    }
   ],
   "source": [
    "df.info()"
   ]
  },
  {
   "cell_type": "code",
   "execution_count": 15,
   "metadata": {
    "scrolled": true
   },
   "outputs": [
    {
     "data": {
      "text/html": [
       "<div>\n",
       "<style scoped>\n",
       "    .dataframe tbody tr th:only-of-type {\n",
       "        vertical-align: middle;\n",
       "    }\n",
       "\n",
       "    .dataframe tbody tr th {\n",
       "        vertical-align: top;\n",
       "    }\n",
       "\n",
       "    .dataframe thead th {\n",
       "        text-align: right;\n",
       "    }\n",
       "</style>\n",
       "<table border=\"1\" class=\"dataframe\">\n",
       "  <thead>\n",
       "    <tr style=\"text-align: right;\">\n",
       "      <th></th>\n",
       "      <th>contents_length</th>\n",
       "    </tr>\n",
       "  </thead>\n",
       "  <tbody>\n",
       "    <tr>\n",
       "      <th>count</th>\n",
       "      <td>1363.000000</td>\n",
       "    </tr>\n",
       "    <tr>\n",
       "      <th>mean</th>\n",
       "      <td>740.853999</td>\n",
       "    </tr>\n",
       "    <tr>\n",
       "      <th>std</th>\n",
       "      <td>784.201961</td>\n",
       "    </tr>\n",
       "    <tr>\n",
       "      <th>min</th>\n",
       "      <td>30.000000</td>\n",
       "    </tr>\n",
       "    <tr>\n",
       "      <th>1%</th>\n",
       "      <td>79.620000</td>\n",
       "    </tr>\n",
       "    <tr>\n",
       "      <th>2%</th>\n",
       "      <td>90.000000</td>\n",
       "    </tr>\n",
       "    <tr>\n",
       "      <th>3%</th>\n",
       "      <td>92.860000</td>\n",
       "    </tr>\n",
       "    <tr>\n",
       "      <th>4%</th>\n",
       "      <td>100.480000</td>\n",
       "    </tr>\n",
       "    <tr>\n",
       "      <th>5%</th>\n",
       "      <td>107.000000</td>\n",
       "    </tr>\n",
       "    <tr>\n",
       "      <th>10%</th>\n",
       "      <td>124.000000</td>\n",
       "    </tr>\n",
       "    <tr>\n",
       "      <th>50%</th>\n",
       "      <td>603.000000</td>\n",
       "    </tr>\n",
       "    <tr>\n",
       "      <th>max</th>\n",
       "      <td>14952.000000</td>\n",
       "    </tr>\n",
       "  </tbody>\n",
       "</table>\n",
       "</div>"
      ],
      "text/plain": [
       "       contents_length\n",
       "count      1363.000000\n",
       "mean        740.853999\n",
       "std         784.201961\n",
       "min          30.000000\n",
       "1%           79.620000\n",
       "2%           90.000000\n",
       "3%           92.860000\n",
       "4%          100.480000\n",
       "5%          107.000000\n",
       "10%         124.000000\n",
       "50%         603.000000\n",
       "max       14952.000000"
      ]
     },
     "execution_count": 15,
     "metadata": {},
     "output_type": "execute_result"
    }
   ],
   "source": [
    "df.describe(percentiles=(0.01, 0.02, 0.03, 0.04, 0.05, 0.1))"
   ]
  },
  {
   "cell_type": "code",
   "execution_count": 16,
   "metadata": {
    "scrolled": true
   },
   "outputs": [
    {
     "data": {
      "text/html": [
       "<div>\n",
       "<style scoped>\n",
       "    .dataframe tbody tr th:only-of-type {\n",
       "        vertical-align: middle;\n",
       "    }\n",
       "\n",
       "    .dataframe tbody tr th {\n",
       "        vertical-align: top;\n",
       "    }\n",
       "\n",
       "    .dataframe thead th {\n",
       "        text-align: right;\n",
       "    }\n",
       "</style>\n",
       "<table border=\"1\" class=\"dataframe\">\n",
       "  <thead>\n",
       "    <tr style=\"text-align: right;\">\n",
       "      <th></th>\n",
       "      <th>contents</th>\n",
       "      <th>contents_length</th>\n",
       "    </tr>\n",
       "  </thead>\n",
       "  <tbody>\n",
       "    <tr>\n",
       "      <th>0</th>\n",
       "      <td>ㆍ수석·보좌관 회의서 규제혁신·세수 활용 등 대책 강조ㆍ“완벽 팀워크로 믿음 줘야”...</td>\n",
       "      <td>1841</td>\n",
       "    </tr>\n",
       "    <tr>\n",
       "      <th>1</th>\n",
       "      <td>헌재파견 판사, 탄핵절차 관련 문건 전달檢, 해당 판사 및 이규진 사무실 등 압색【...</td>\n",
       "      <td>742</td>\n",
       "    </tr>\n",
       "    <tr>\n",
       "      <th>2</th>\n",
       "      <td>문재인 대통령은 20일 장관급인 군사망사고 진상규명위원회 위원장에 '민변' 출신의 ...</td>\n",
       "      <td>303</td>\n",
       "    </tr>\n",
       "    <tr>\n",
       "      <th>3</th>\n",
       "      <td>[한겨레] 뉴스분석장하성·김동연에 고용대책 지시“고용 안 좋은 분야·연령대 집중” ...</td>\n",
       "      <td>2569</td>\n",
       "    </tr>\n",
       "    <tr>\n",
       "      <th>4</th>\n",
       "      <td>&lt;아이뉴스24&gt;[아이뉴스24 김상도 기자]문재인 대통령은 20일 장관급인 군사망사고...</td>\n",
       "      <td>205</td>\n",
       "    </tr>\n",
       "  </tbody>\n",
       "</table>\n",
       "</div>"
      ],
      "text/plain": [
       "                                            contents  contents_length\n",
       "0  ㆍ수석·보좌관 회의서 규제혁신·세수 활용 등 대책 강조ㆍ“완벽 팀워크로 믿음 줘야”...             1841\n",
       "1  헌재파견 판사, 탄핵절차 관련 문건 전달檢, 해당 판사 및 이규진 사무실 등 압색【...              742\n",
       "2  문재인 대통령은 20일 장관급인 군사망사고 진상규명위원회 위원장에 '민변' 출신의 ...              303\n",
       "3  [한겨레] 뉴스분석장하성·김동연에 고용대책 지시“고용 안 좋은 분야·연령대 집중” ...             2569\n",
       "4  <아이뉴스24>[아이뉴스24 김상도 기자]문재인 대통령은 20일 장관급인 군사망사고...              205"
      ]
     },
     "execution_count": 16,
     "metadata": {},
     "output_type": "execute_result"
    }
   ],
   "source": [
    "df = analysis_contents_length('naver', 'naver')\n",
    "\n",
    "df.head()"
   ]
  },
  {
   "cell_type": "code",
   "execution_count": 17,
   "metadata": {},
   "outputs": [
    {
     "name": "stdout",
     "output_type": "stream",
     "text": [
      "<class 'pandas.core.frame.DataFrame'>\n",
      "RangeIndex: 8175 entries, 0 to 8174\n",
      "Data columns (total 2 columns):\n",
      "contents           8175 non-null object\n",
      "contents_length    8175 non-null int64\n",
      "dtypes: int64(1), object(1)\n",
      "memory usage: 127.8+ KB\n"
     ]
    }
   ],
   "source": [
    "df.info()"
   ]
  },
  {
   "cell_type": "code",
   "execution_count": 18,
   "metadata": {},
   "outputs": [
    {
     "data": {
      "text/html": [
       "<div>\n",
       "<style scoped>\n",
       "    .dataframe tbody tr th:only-of-type {\n",
       "        vertical-align: middle;\n",
       "    }\n",
       "\n",
       "    .dataframe tbody tr th {\n",
       "        vertical-align: top;\n",
       "    }\n",
       "\n",
       "    .dataframe thead th {\n",
       "        text-align: right;\n",
       "    }\n",
       "</style>\n",
       "<table border=\"1\" class=\"dataframe\">\n",
       "  <thead>\n",
       "    <tr style=\"text-align: right;\">\n",
       "      <th></th>\n",
       "      <th>contents_length</th>\n",
       "    </tr>\n",
       "  </thead>\n",
       "  <tbody>\n",
       "    <tr>\n",
       "      <th>count</th>\n",
       "      <td>8175.000000</td>\n",
       "    </tr>\n",
       "    <tr>\n",
       "      <th>mean</th>\n",
       "      <td>890.705443</td>\n",
       "    </tr>\n",
       "    <tr>\n",
       "      <th>std</th>\n",
       "      <td>2454.079574</td>\n",
       "    </tr>\n",
       "    <tr>\n",
       "      <th>min</th>\n",
       "      <td>0.000000</td>\n",
       "    </tr>\n",
       "    <tr>\n",
       "      <th>1%</th>\n",
       "      <td>81.000000</td>\n",
       "    </tr>\n",
       "    <tr>\n",
       "      <th>2%</th>\n",
       "      <td>92.000000</td>\n",
       "    </tr>\n",
       "    <tr>\n",
       "      <th>3%</th>\n",
       "      <td>97.000000</td>\n",
       "    </tr>\n",
       "    <tr>\n",
       "      <th>4%</th>\n",
       "      <td>105.000000</td>\n",
       "    </tr>\n",
       "    <tr>\n",
       "      <th>5%</th>\n",
       "      <td>112.000000</td>\n",
       "    </tr>\n",
       "    <tr>\n",
       "      <th>10%</th>\n",
       "      <td>151.000000</td>\n",
       "    </tr>\n",
       "    <tr>\n",
       "      <th>50%</th>\n",
       "      <td>610.000000</td>\n",
       "    </tr>\n",
       "    <tr>\n",
       "      <th>max</th>\n",
       "      <td>48014.000000</td>\n",
       "    </tr>\n",
       "  </tbody>\n",
       "</table>\n",
       "</div>"
      ],
      "text/plain": [
       "       contents_length\n",
       "count      8175.000000\n",
       "mean        890.705443\n",
       "std        2454.079574\n",
       "min           0.000000\n",
       "1%           81.000000\n",
       "2%           92.000000\n",
       "3%           97.000000\n",
       "4%          105.000000\n",
       "5%          112.000000\n",
       "10%         151.000000\n",
       "50%         610.000000\n",
       "max       48014.000000"
      ]
     },
     "execution_count": 18,
     "metadata": {},
     "output_type": "execute_result"
    }
   ],
   "source": [
    "df.describe(percentiles=(0.01, 0.02, 0.03, 0.04, 0.05, 0.1))"
   ]
  },
  {
   "cell_type": "code",
   "execution_count": 19,
   "metadata": {},
   "outputs": [],
   "source": [
    "def delete_short_contents(db_name, table_name, threshold_len):\n",
    "    conn = sqlite3.connect('db/' + db_name + '.db')\n",
    "    cur = conn.cursor()\n",
    "    \n",
    "    cur.execute(\"DELETE FROM {0} WHERE LENGTH(contents) < {1}\".format(table_name, threshold_len))\n",
    "\n",
    "    conn.commit()"
   ]
  },
  {
   "cell_type": "code",
   "execution_count": 20,
   "metadata": {},
   "outputs": [
    {
     "data": {
      "text/html": [
       "<div>\n",
       "<style scoped>\n",
       "    .dataframe tbody tr th:only-of-type {\n",
       "        vertical-align: middle;\n",
       "    }\n",
       "\n",
       "    .dataframe tbody tr th {\n",
       "        vertical-align: top;\n",
       "    }\n",
       "\n",
       "    .dataframe thead th {\n",
       "        text-align: right;\n",
       "    }\n",
       "</style>\n",
       "<table border=\"1\" class=\"dataframe\">\n",
       "  <thead>\n",
       "    <tr style=\"text-align: right;\">\n",
       "      <th></th>\n",
       "      <th>contents_length</th>\n",
       "    </tr>\n",
       "  </thead>\n",
       "  <tbody>\n",
       "    <tr>\n",
       "      <th>count</th>\n",
       "      <td>1310.000000</td>\n",
       "    </tr>\n",
       "    <tr>\n",
       "      <th>mean</th>\n",
       "      <td>767.532061</td>\n",
       "    </tr>\n",
       "    <tr>\n",
       "      <th>std</th>\n",
       "      <td>788.379035</td>\n",
       "    </tr>\n",
       "    <tr>\n",
       "      <th>min</th>\n",
       "      <td>100.000000</td>\n",
       "    </tr>\n",
       "    <tr>\n",
       "      <th>25%</th>\n",
       "      <td>234.250000</td>\n",
       "    </tr>\n",
       "    <tr>\n",
       "      <th>50%</th>\n",
       "      <td>633.000000</td>\n",
       "    </tr>\n",
       "    <tr>\n",
       "      <th>75%</th>\n",
       "      <td>1014.750000</td>\n",
       "    </tr>\n",
       "    <tr>\n",
       "      <th>max</th>\n",
       "      <td>14952.000000</td>\n",
       "    </tr>\n",
       "  </tbody>\n",
       "</table>\n",
       "</div>"
      ],
      "text/plain": [
       "       contents_length\n",
       "count      1310.000000\n",
       "mean        767.532061\n",
       "std         788.379035\n",
       "min         100.000000\n",
       "25%         234.250000\n",
       "50%         633.000000\n",
       "75%        1014.750000\n",
       "max       14952.000000"
      ]
     },
     "execution_count": 20,
     "metadata": {},
     "output_type": "execute_result"
    }
   ],
   "source": [
    "delete_short_contents('daum', 'daum', 100)\n",
    "\n",
    "df = analysis_contents_length('daum', 'daum')\n",
    "\n",
    "df.describe()"
   ]
  },
  {
   "cell_type": "code",
   "execution_count": 21,
   "metadata": {},
   "outputs": [
    {
     "data": {
      "text/html": [
       "<div>\n",
       "<style scoped>\n",
       "    .dataframe tbody tr th:only-of-type {\n",
       "        vertical-align: middle;\n",
       "    }\n",
       "\n",
       "    .dataframe tbody tr th {\n",
       "        vertical-align: top;\n",
       "    }\n",
       "\n",
       "    .dataframe thead th {\n",
       "        text-align: right;\n",
       "    }\n",
       "</style>\n",
       "<table border=\"1\" class=\"dataframe\">\n",
       "  <thead>\n",
       "    <tr style=\"text-align: right;\">\n",
       "      <th></th>\n",
       "      <th>contents_length</th>\n",
       "    </tr>\n",
       "  </thead>\n",
       "  <tbody>\n",
       "    <tr>\n",
       "      <th>count</th>\n",
       "      <td>7896.000000</td>\n",
       "    </tr>\n",
       "    <tr>\n",
       "      <th>mean</th>\n",
       "      <td>919.172239</td>\n",
       "    </tr>\n",
       "    <tr>\n",
       "      <th>std</th>\n",
       "      <td>2492.304182</td>\n",
       "    </tr>\n",
       "    <tr>\n",
       "      <th>min</th>\n",
       "      <td>100.000000</td>\n",
       "    </tr>\n",
       "    <tr>\n",
       "      <th>25%</th>\n",
       "      <td>306.000000</td>\n",
       "    </tr>\n",
       "    <tr>\n",
       "      <th>50%</th>\n",
       "      <td>638.000000</td>\n",
       "    </tr>\n",
       "    <tr>\n",
       "      <th>75%</th>\n",
       "      <td>1073.000000</td>\n",
       "    </tr>\n",
       "    <tr>\n",
       "      <th>max</th>\n",
       "      <td>48014.000000</td>\n",
       "    </tr>\n",
       "  </tbody>\n",
       "</table>\n",
       "</div>"
      ],
      "text/plain": [
       "       contents_length\n",
       "count      7896.000000\n",
       "mean        919.172239\n",
       "std        2492.304182\n",
       "min         100.000000\n",
       "25%         306.000000\n",
       "50%         638.000000\n",
       "75%        1073.000000\n",
       "max       48014.000000"
      ]
     },
     "execution_count": 21,
     "metadata": {},
     "output_type": "execute_result"
    }
   ],
   "source": [
    "delete_short_contents('naver', 'naver', 100)\n",
    "\n",
    "df = analysis_contents_length('naver', 'naver')\n",
    "\n",
    "df.describe()"
   ]
  },
  {
   "cell_type": "code",
   "execution_count": null,
   "metadata": {},
   "outputs": [],
   "source": [
    "delete_short_contents('news_db', 'news_db')"
   ]
  },
  {
   "cell_type": "markdown",
   "metadata": {},
   "source": [
    "## Contents가 같을 경우 제거\n",
    "---"
   ]
  },
  {
   "cell_type": "code",
   "execution_count": 22,
   "metadata": {},
   "outputs": [
    {
     "data": {
      "text/plain": [
       "1167"
      ]
     },
     "execution_count": 22,
     "metadata": {},
     "output_type": "execute_result"
    }
   ],
   "source": [
    "conn = sqlite3.connect('db/daum.db')\n",
    "cur = conn.cursor()\n",
    "\n",
    "cur.execute(\"SELECT DISTINCT contents FROM daum\")\n",
    "\n",
    "len(cur.fetchall())"
   ]
  },
  {
   "cell_type": "code",
   "execution_count": 23,
   "metadata": {},
   "outputs": [
    {
     "data": {
      "text/plain": [
       "7083"
      ]
     },
     "execution_count": 23,
     "metadata": {},
     "output_type": "execute_result"
    }
   ],
   "source": [
    "conn = sqlite3.connect('db/naver.db')\n",
    "cur = conn.cursor()\n",
    "\n",
    "cur.execute(\"SELECT DISTINCT contents FROM naver\")\n",
    "\n",
    "len(cur.fetchall())"
   ]
  },
  {
   "cell_type": "code",
   "execution_count": 24,
   "metadata": {},
   "outputs": [],
   "source": [
    "def delete_dupl_contents(db_name, table_name):\n",
    "    conn = sqlite3.connect('db/' + db_name + '.db')\n",
    "    cur = conn.cursor()\n",
    "    \n",
    "    cur.execute(\"DELETE FROM {0} WHERE a_ids NOT IN (SELECT min(a_ids) FROM {0} GROUP BY contents)\"\n",
    "                .format(table_name))\n",
    "\n",
    "    conn.commit()"
   ]
  },
  {
   "cell_type": "code",
   "execution_count": 25,
   "metadata": {},
   "outputs": [],
   "source": [
    "delete_dupl_contents('daum', 'daum')"
   ]
  },
  {
   "cell_type": "code",
   "execution_count": 26,
   "metadata": {},
   "outputs": [],
   "source": [
    "delete_dupl_contents('naver', 'naver')"
   ]
  },
  {
   "cell_type": "code",
   "execution_count": null,
   "metadata": {},
   "outputs": [],
   "source": [
    "delete_dupl_contents('news_db', 'news_db')"
   ]
  }
 ],
 "metadata": {
  "kernelspec": {
   "display_name": "Python 3",
   "language": "python",
   "name": "python3"
  },
  "language_info": {
   "codemirror_mode": {
    "name": "ipython",
    "version": 3
   },
   "file_extension": ".py",
   "mimetype": "text/x-python",
   "name": "python",
   "nbconvert_exporter": "python",
   "pygments_lexer": "ipython3",
   "version": "3.6.5"
  }
 },
 "nbformat": 4,
 "nbformat_minor": 2
}
