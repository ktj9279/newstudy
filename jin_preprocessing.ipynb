{
 "cells": [
  {
   "cell_type": "markdown",
   "metadata": {},
   "source": [
    "# Preprocessing\n",
    "---"
   ]
  },
  {
   "cell_type": "code",
   "execution_count": 1,
   "metadata": {},
   "outputs": [],
   "source": [
    "import pandas as pd\n",
    "import re\n",
    "import sqlite3"
   ]
  },
  {
   "cell_type": "code",
   "execution_count": 2,
   "metadata": {},
   "outputs": [],
   "source": [
    "press_list = ['daum', 'naver',\n",
    "              'seoulilbo', 'dtoday', 'asiailbo', 'labortoday', 'm-i',\n",
    "              'ekn', 'busan', 'imaeil', 'kookje', 'yeongnam']\n",
    "press_dict = {'daum':'다음', 'naver':'네이버',\n",
    "              'seoulilbo':'서울일보', 'dtoday':'일간투데이', 'asiailbo':'아시아일보',\n",
    "              'labortoday':'매일노동뉴스', 'm-i':'매일일보', 'ekn':'에너지경제',\n",
    "              'busan':'부산일보', 'imaeil':'매일신문', 'kookje':'국제신문',\n",
    "              'yeongnam':'영남일보'}\n",
    "\n",
    "daum_press_list = ['EBS', 'IT동아', 'JTBC', 'KBS', 'KTV',\n",
    "                   'MBC', 'MBN', 'SBS', 'SBS CNBC', 'YTN',\n",
    "                   'ZDNet Korea', 'bnt뉴스', '게임동아', '게임톡', '경향신문',\n",
    "                   '국민일보', '기자협회보', '노컷뉴스', '뉴스1', '뉴시스',\n",
    "                   '데일리안', '동아사이언스', '동아일보', '디지털타임스', '로이터',\n",
    "                   '매경게임진', '매일경제', '머니S', '머니투데이', '문화일보',\n",
    "                   '미디어오늘', '서울경제', '서울신문', '세계일보', '아시아경제',\n",
    "                   '아이뉴스24', '연합뉴스', '연합뉴스TV', '오마이뉴스', '오토타임즈',\n",
    "                   '이데일리', '전자신문', '조선비즈', '조선일보', '중앙일보',\n",
    "                   '채널A', '코리아헤럴드', '쿠키뉴스', '파이낸셜뉴스', '포토친구',\n",
    "                   '프레시안', '한겨레', '한국경제', '한국경제TV', '한국일보',\n",
    "                   '헤럴드경제']\n",
    "naver_press_list = ['JTBC', 'KBS', 'MBC', 'MBN', 'SBS',\n",
    "                    'SBS CNBC', 'TV조선', 'YTN', 'ZDNet Korea', '강원일보',\n",
    "                    '경향신문', '국민일보', '기자협회보', '노컷뉴스', '뉴스1',\n",
    "                    '뉴시스', '데일리안', '동아사이언스', '동아일보', '디지털데일리',\n",
    "                    '디지털타임스', '로이터', '매일경제', '매일신문', '머니S',\n",
    "                    '머니투데이', '문화일보', '미디어오늘', '부산일보', '블로터',\n",
    "                    '서울경제', '서울신문', '세계일보', '아시아경제', '아이뉴스24',\n",
    "                    '여성신문', '연합뉴스', '연합뉴스TV', '오마이뉴스', '이데일리',\n",
    "                    '일다', '전자신문', '조선비즈', '조선일보', '조세일보',\n",
    "                    '중앙일보', '참세상', '채널A', '코리아헤럴드', '코메디닷컴',\n",
    "                    '파이낸셜뉴스', '프레시안', '한겨레', '한국경제', '한국경제TV',\n",
    "                    '한국일보', '헤럴드경제', '헬스조선']\n",
    "\n",
    "section_list = ['society', 'politics', 'economic', 'culture', 'digital', 'global']\n",
    "section_dict = {'society':'사회', 'politics':'정치', 'economic':'경제',\n",
    "               'culture':'문화', 'digital':'IT', 'global':'세계'}\n",
    "\n",
    "base_urls = {'daum':\n",
    "             {'society':'http://media.daum.net/breakingnews/society',\n",
    "              'politics':'http://media.daum.net/breakingnews/politics',\n",
    "              'economic':'http://media.daum.net/breakingnews/economic',\n",
    "              'culture':'http://media.daum.net/breakingnews/culture',\n",
    "              'digital':'http://media.daum.net/breakingnews/digital',\n",
    "              'global':'http://media.daum.net/breakingnews/foreign'\n",
    "             },\n",
    "             'seoulilbo':\n",
    "             {'society':'http://www.seoulilbo.com/news/articleList.html?sc_section_code=S1N10&view_type=sm',\n",
    "              'politics':'http://www.seoulilbo.com/news/articleList.html?sc_section_code=S1N8&view_type=sm',\n",
    "              'economic':'http://www.seoulilbo.com/news/articleList.html?sc_section_code=S1N9&view_type=sm',\n",
    "              'culture':'http://www.seoulilbo.com/news/articleList.html?sc_section_code=S1N11&view_type=sm',\n",
    "              'digital':'',\n",
    "              'global':''\n",
    "             },\n",
    "             'dtoday':\n",
    "             {'society':'',\n",
    "              'politics':'http://www.dtoday.co.kr/news/articleList.html?sc_section_code=S1N1&view_type=sm',\n",
    "              'economic':'http://www.dtoday.co.kr/news/articleList.html?sc_section_code=S1N2&view_type=sm',\n",
    "              'culture':'',\n",
    "              'digital':'',\n",
    "              'global':''\n",
    "             },\n",
    "             'asiailbo':\n",
    "             {'society':'http://www.asiailbo.co.kr/etnews/?cid=21030000',\n",
    "              'politics':'http://www.asiailbo.co.kr/etnews/?cid=21010000',\n",
    "              'economic':'http://www.asiailbo.co.kr/etnews/?cid=21020000',\n",
    "              'culture':'http://www.asiailbo.co.kr/etnews/?cid=21040000',\n",
    "              'digital':'',\n",
    "              'global':''\n",
    "             },\n",
    "             'labortoday':\n",
    "             {'society':'http://www.labortoday.co.kr/news/articleList.html?sc_section_code=S1N3&view_type=sm',\n",
    "              'politics':'http://www.labortoday.co.kr/news/articleList.html?sc_section_code=S1N2&view_type=sm',\n",
    "              'economic':'',    # 정치, 경제\n",
    "              'culture':'',\n",
    "              'digital':'',\n",
    "              'global':''\n",
    "             },\n",
    "             'm-i':\n",
    "             {'society':'http://www.m-i.kr/news/articleList.html?sc_section_code=S1N3&view_type=sm',\n",
    "              'politics':'http://www.m-i.kr/news/articleList.html?sc_section_code=S1N1&view_type=tm',\n",
    "              'economic':'http://www.m-i.kr/news/articleList.html?sc_section_code=S1N2&view_type=sm',\n",
    "              'culture':'http://www.m-i.kr/news/articleList.html?sc_section_code=S1N22&view_type=tm',\n",
    "              'digital':'',\n",
    "              'global':''\n",
    "             },\n",
    "             'ekn':\n",
    "             {'society':'http://www.ekn.kr/news/section_list_all.html?sec_no=25',\n",
    "              'politics':'',    # 정치, 사회\n",
    "              'economic':'http://www.ekn.kr/news/section_list_all.html?sec_no=130',\n",
    "              'culture':'',\n",
    "              'digital':'',\n",
    "              'global':''\n",
    "             },\n",
    "             'busan':\n",
    "             {'society':'http://news20.busan.com/news/social.jsp',\n",
    "              'politics':'http://news20.busan.com/news/politics.jsp',\n",
    "              'economic':'http://news20.busan.com/EconomyAndOcean/econocean.jsp',\n",
    "              'culture':'http://news20.busan.com/news/culture.jsp',\n",
    "              'digital':'',\n",
    "              'global':''\n",
    "             },\n",
    "             'imaeil':\n",
    "             {'society':'http://news.imaeil.com/SocietyAll/',\n",
    "              'politics':'http://news.imaeil.com/PoliticsAll/',\n",
    "              'economic':'http://news.imaeil.com/EconomyAll/',\n",
    "              'culture':'http://news.imaeil.com/CultureAll/',\n",
    "              'digital':'',\n",
    "              'global':'http://news.imaeil.com/InternationalAll/'\n",
    "             },\n",
    "             'kookje':\n",
    "             {'society':'http://www.kookje.co.kr/sub.htm?code=0300&vHeadTitle=%BB%E7%C8%B8',\n",
    "              'politics':'http://www.kookje.co.kr/sub.htm?code=0100&vHeadTitle=%C1%A4%C4%A1',\n",
    "              'economic':'http://www.kookje.co.kr/sub.htm?code=0200&vHeadTitle=%B0%E6%C1%A6',\n",
    "              'culture':'http://www.kookje.co.kr/sub.htm?code=0500&vHeadTitle=%B9%AE%C8%AD',\n",
    "              'digital':'http://www.kookje.co.kr/sub.htm?code=0800&vHeadTitle=IT%B0%FA%C7%D0',\n",
    "              'global':'http://www.kookje.co.kr/sub.htm?code=0400&vHeadTitle=%B1%B9%C1%A6'\n",
    "             },\n",
    "             'yeongnam':\n",
    "             {'society':'http://www.yeongnam.com/mnews/newsview.do?mode=subMain&cId=04',\n",
    "              'politics':'http://www.yeongnam.com/mnews/newsview.do?mode=subMain&cId=02',\n",
    "              'economic':'http://www.yeongnam.com/mnews/newsview.do?mode=subMain&cId=03',\n",
    "              'culture':'http://www.yeongnam.com/mnews/newsview.do?mode=subMain&cId=08',\n",
    "              'digital':'',    # 교육, 과학\n",
    "              'global':'http://www.yeongnam.com/mnews/newsview.do?mode=subMain&cId=06'\n",
    "             }\n",
    "            }\n",
    "\n",
    "headers = {\"user-agent\":\"Mozilla/5.0 (Windows NT 10.0; Win64; x64) AppleWebKit/537.36 (KHTML, like Gecko) Chrome/67.0.3396.99 Safari/537.36\"}"
   ]
  },
  {
   "cell_type": "code",
   "execution_count": 3,
   "metadata": {},
   "outputs": [],
   "source": [
    "reg_ex = {'email':r'[a-zA-Z0-9.!#$%&\\'*+/=?^_`{|}~-]+@[a-zA-Z0-9-]+\\.[a-zA-Z0-9-.]+'}"
   ]
  },
  {
   "cell_type": "code",
   "execution_count": 4,
   "metadata": {},
   "outputs": [],
   "source": [
    "# # Delete\n",
    "# cur.execute(\"DELETE FROM daum WHERE sections LIKE '세계'\")\n",
    "\n",
    "# conn.commit()"
   ]
  },
  {
   "cell_type": "code",
   "execution_count": 5,
   "metadata": {},
   "outputs": [],
   "source": [
    "# # Rename column\n",
    "# cur.execute(\"ALTER TABLE daum RENAME TO daum_temp\")\n",
    "\n",
    "# cur.execute(\"CREATE TABLE daum(a_ids TEXT primary key, \\\n",
    "#             dates DATE, times TIME, titles TEXT, contents TEXT, \\\n",
    "#             press TEXT, authors TEXT, sections TEXT, urls TEXT)\")\n",
    "\n",
    "# cur.execute(\"INSERT INTO daum (a_ids, dates, times, titles, contents, press, authors, sections, urls) \\\n",
    "#             SELECT a_ids, dates, times, titles, contents, press_ko, authors, section_ko, urls \\\n",
    "#             FROM daum_temp\")\n",
    "\n",
    "# conn.commit()"
   ]
  },
  {
   "cell_type": "markdown",
   "metadata": {},
   "source": [
    "## Null Data 제거\n",
    "---\n",
    "\n",
    "* dates, times, titles, press column이 NULL 또는 빈 문자열인 경우"
   ]
  },
  {
   "cell_type": "code",
   "execution_count": 6,
   "metadata": {},
   "outputs": [],
   "source": [
    "def delete_null_data(db_name, table_name):\n",
    "    conn = sqlite3.connect('db/' + db_name + '.db')\n",
    "    cur = conn.cursor()\n",
    "    \n",
    "    cols = ('dates', 'times', 'titles', 'press')\n",
    "    for col in cols:\n",
    "        cur.execute(\"DELETE FROM {0} WHERE {1} IS NULL OR TRIM({1}) = ''\".format(table_name, col))\n",
    "\n",
    "    conn.commit()"
   ]
  },
  {
   "cell_type": "code",
   "execution_count": 7,
   "metadata": {},
   "outputs": [],
   "source": [
    "delete_null_data('daum', 'daum')"
   ]
  },
  {
   "cell_type": "code",
   "execution_count": 8,
   "metadata": {},
   "outputs": [],
   "source": [
    "delete_null_data('naver', 'naver')"
   ]
  },
  {
   "cell_type": "markdown",
   "metadata": {},
   "source": [
    "## Daum, Naver에서 리스트에 없는 언론사 제외\n",
    "---"
   ]
  },
  {
   "cell_type": "code",
   "execution_count": 9,
   "metadata": {},
   "outputs": [],
   "source": [
    "def delete_excluded_press(db_name, table_name, press_list):\n",
    "    conn = sqlite3.connect('db/' + db_name + '.db')\n",
    "    cur = conn.cursor()\n",
    "    \n",
    "    cur.execute(\"DELETE FROM {0} WHERE press NOT IN {1}\".format(table_name, tuple(press_list)))\n",
    "\n",
    "    conn.commit()"
   ]
  },
  {
   "cell_type": "code",
   "execution_count": 10,
   "metadata": {},
   "outputs": [],
   "source": [
    "delete_excluded_press('daum', 'daum', daum_press_list)"
   ]
  },
  {
   "cell_type": "code",
   "execution_count": 11,
   "metadata": {},
   "outputs": [],
   "source": [
    "delete_excluded_press('naver', 'naver', naver_press_list)"
   ]
  },
  {
   "cell_type": "markdown",
   "metadata": {},
   "source": [
    "## Contents 길이가 100 미만일 경우 제거\n",
    "---"
   ]
  },
  {
   "cell_type": "code",
   "execution_count": 12,
   "metadata": {},
   "outputs": [],
   "source": [
    "# Contents 길이 분석\n",
    "def analysis_contents_length(db_name, table_name):\n",
    "    conn = sqlite3.connect('db/' + db_name + '.db')\n",
    "    cur = conn.cursor()\n",
    "    \n",
    "    cur.execute(\"SELECT contents FROM \" + table_name)\n",
    "\n",
    "    temp_contents_list = []\n",
    "    for content_tuple in cur.fetchall():\n",
    "        temp_contents_list.append(content_tuple[0])\n",
    "\n",
    "    df = pd.DataFrame({'contents':temp_contents_list})\n",
    "    \n",
    "    df['contents_length'] = None\n",
    "    for idx, content in enumerate(df.contents):\n",
    "        df.contents_length.iloc[idx] = len(content)\n",
    "    \n",
    "    return df"
   ]
  },
  {
   "cell_type": "code",
   "execution_count": 13,
   "metadata": {},
   "outputs": [
    {
     "data": {
      "text/html": [
       "<div>\n",
       "<style scoped>\n",
       "    .dataframe tbody tr th:only-of-type {\n",
       "        vertical-align: middle;\n",
       "    }\n",
       "\n",
       "    .dataframe tbody tr th {\n",
       "        vertical-align: top;\n",
       "    }\n",
       "\n",
       "    .dataframe thead th {\n",
       "        text-align: right;\n",
       "    }\n",
       "</style>\n",
       "<table border=\"1\" class=\"dataframe\">\n",
       "  <thead>\n",
       "    <tr style=\"text-align: right;\">\n",
       "      <th></th>\n",
       "      <th>contents</th>\n",
       "      <th>contents_length</th>\n",
       "    </tr>\n",
       "  </thead>\n",
       "  <tbody>\n",
       "    <tr>\n",
       "      <th>0</th>\n",
       "      <td>이런 가운데 인천 남동공단 화재로 숨진 직원들의 안타까운 사연들도 알려졌습니다. \\...</td>\n",
       "      <td>830</td>\n",
       "    </tr>\n",
       "    <tr>\n",
       "      <th>1</th>\n",
       "      <td>한층 강해진 파도 (서귀포=연합뉴스) 박지호 기자 = 제19호 태풍 솔릭의 접근으로...</td>\n",
       "      <td>1775</td>\n",
       "    </tr>\n",
       "    <tr>\n",
       "      <th>2</th>\n",
       "      <td>【목포=뉴시스】 신대희 기자 = 전남 목포경찰서는 22일 함께 낚시하던 지인을 흉기...</td>\n",
       "      <td>351</td>\n",
       "    </tr>\n",
       "    <tr>\n",
       "      <th>3</th>\n",
       "      <td>[한국경제TV 김현경 기자]\\n\\n\\n\\n제19호 태풍 '솔릭'이 제주 서귀포 남쪽...</td>\n",
       "      <td>818</td>\n",
       "    </tr>\n",
       "    <tr>\n",
       "      <th>4</th>\n",
       "      <td>&lt;앵커&gt;\\n박근혜 정부 시절 사법부가 '일제 강제징용 피해자 재판'에 개입했다는 의...</td>\n",
       "      <td>744</td>\n",
       "    </tr>\n",
       "  </tbody>\n",
       "</table>\n",
       "</div>"
      ],
      "text/plain": [
       "                                            contents  contents_length\n",
       "0  이런 가운데 인천 남동공단 화재로 숨진 직원들의 안타까운 사연들도 알려졌습니다. \\...              830\n",
       "1  한층 강해진 파도 (서귀포=연합뉴스) 박지호 기자 = 제19호 태풍 솔릭의 접근으로...             1775\n",
       "2  【목포=뉴시스】 신대희 기자 = 전남 목포경찰서는 22일 함께 낚시하던 지인을 흉기...              351\n",
       "3  [한국경제TV 김현경 기자]\\n\\n\\n\\n제19호 태풍 '솔릭'이 제주 서귀포 남쪽...              818\n",
       "4  <앵커>\\n박근혜 정부 시절 사법부가 '일제 강제징용 피해자 재판'에 개입했다는 의...              744"
      ]
     },
     "execution_count": 13,
     "metadata": {},
     "output_type": "execute_result"
    }
   ],
   "source": [
    "df = analysis_contents_length('daum', 'daum')\n",
    "\n",
    "df.head()    "
   ]
  },
  {
   "cell_type": "code",
   "execution_count": 14,
   "metadata": {
    "scrolled": true
   },
   "outputs": [
    {
     "name": "stdout",
     "output_type": "stream",
     "text": [
      "<class 'pandas.core.frame.DataFrame'>\n",
      "RangeIndex: 1354 entries, 0 to 1353\n",
      "Data columns (total 2 columns):\n",
      "contents           1354 non-null object\n",
      "contents_length    1354 non-null int64\n",
      "dtypes: int64(1), object(1)\n",
      "memory usage: 21.2+ KB\n"
     ]
    }
   ],
   "source": [
    "df.info()"
   ]
  },
  {
   "cell_type": "code",
   "execution_count": 15,
   "metadata": {
    "scrolled": true
   },
   "outputs": [
    {
     "data": {
      "text/html": [
       "<div>\n",
       "<style scoped>\n",
       "    .dataframe tbody tr th:only-of-type {\n",
       "        vertical-align: middle;\n",
       "    }\n",
       "\n",
       "    .dataframe tbody tr th {\n",
       "        vertical-align: top;\n",
       "    }\n",
       "\n",
       "    .dataframe thead th {\n",
       "        text-align: right;\n",
       "    }\n",
       "</style>\n",
       "<table border=\"1\" class=\"dataframe\">\n",
       "  <thead>\n",
       "    <tr style=\"text-align: right;\">\n",
       "      <th></th>\n",
       "      <th>contents_length</th>\n",
       "    </tr>\n",
       "  </thead>\n",
       "  <tbody>\n",
       "    <tr>\n",
       "      <th>count</th>\n",
       "      <td>1354.000000</td>\n",
       "    </tr>\n",
       "    <tr>\n",
       "      <th>mean</th>\n",
       "      <td>845.500000</td>\n",
       "    </tr>\n",
       "    <tr>\n",
       "      <th>std</th>\n",
       "      <td>748.710942</td>\n",
       "    </tr>\n",
       "    <tr>\n",
       "      <th>min</th>\n",
       "      <td>0.000000</td>\n",
       "    </tr>\n",
       "    <tr>\n",
       "      <th>1%</th>\n",
       "      <td>15.010000</td>\n",
       "    </tr>\n",
       "    <tr>\n",
       "      <th>2%</th>\n",
       "      <td>63.420000</td>\n",
       "    </tr>\n",
       "    <tr>\n",
       "      <th>3%</th>\n",
       "      <td>84.000000</td>\n",
       "    </tr>\n",
       "    <tr>\n",
       "      <th>4%</th>\n",
       "      <td>91.000000</td>\n",
       "    </tr>\n",
       "    <tr>\n",
       "      <th>5%</th>\n",
       "      <td>95.000000</td>\n",
       "    </tr>\n",
       "    <tr>\n",
       "      <th>10%</th>\n",
       "      <td>120.300000</td>\n",
       "    </tr>\n",
       "    <tr>\n",
       "      <th>50%</th>\n",
       "      <td>731.000000</td>\n",
       "    </tr>\n",
       "    <tr>\n",
       "      <th>max</th>\n",
       "      <td>8172.000000</td>\n",
       "    </tr>\n",
       "  </tbody>\n",
       "</table>\n",
       "</div>"
      ],
      "text/plain": [
       "       contents_length\n",
       "count      1354.000000\n",
       "mean        845.500000\n",
       "std         748.710942\n",
       "min           0.000000\n",
       "1%           15.010000\n",
       "2%           63.420000\n",
       "3%           84.000000\n",
       "4%           91.000000\n",
       "5%           95.000000\n",
       "10%         120.300000\n",
       "50%         731.000000\n",
       "max        8172.000000"
      ]
     },
     "execution_count": 15,
     "metadata": {},
     "output_type": "execute_result"
    }
   ],
   "source": [
    "df.describe(percentiles=(0.01, 0.02, 0.03, 0.04, 0.05, 0.1))"
   ]
  },
  {
   "cell_type": "code",
   "execution_count": 16,
   "metadata": {
    "scrolled": true
   },
   "outputs": [
    {
     "data": {
      "text/html": [
       "<div>\n",
       "<style scoped>\n",
       "    .dataframe tbody tr th:only-of-type {\n",
       "        vertical-align: middle;\n",
       "    }\n",
       "\n",
       "    .dataframe tbody tr th {\n",
       "        vertical-align: top;\n",
       "    }\n",
       "\n",
       "    .dataframe thead th {\n",
       "        text-align: right;\n",
       "    }\n",
       "</style>\n",
       "<table border=\"1\" class=\"dataframe\">\n",
       "  <thead>\n",
       "    <tr style=\"text-align: right;\">\n",
       "      <th></th>\n",
       "      <th>contents</th>\n",
       "      <th>contents_length</th>\n",
       "    </tr>\n",
       "  </thead>\n",
       "  <tbody>\n",
       "    <tr>\n",
       "      <th>0</th>\n",
       "      <td>고용쇼크 속 장하성-김동연 이어지는 불화설\\n靑 \"실적 보이라는 경고\"…張, 마지막...</td>\n",
       "      <td>1945</td>\n",
       "    </tr>\n",
       "    <tr>\n",
       "      <th>1</th>\n",
       "      <td>문재인 대통령은 20일 대통령 소속 군사망사고진상규명위원회 위원장에 이인람 법무법인...</td>\n",
       "      <td>665</td>\n",
       "    </tr>\n",
       "    <tr>\n",
       "      <th>2</th>\n",
       "      <td>【서울=뉴시스】 문재인 대통령은 20일 군사망사고진상규명위원회 위원장으로 이인람(6...</td>\n",
       "      <td>267</td>\n",
       "    </tr>\n",
       "    <tr>\n",
       "      <th>3</th>\n",
       "      <td>[ 손성태 기자 ]\\n\\n문재인 대통령은 20일 대통령 소속 군사망사고진상규명위원회...</td>\n",
       "      <td>567</td>\n",
       "    </tr>\n",
       "    <tr>\n",
       "      <th>4</th>\n",
       "      <td>문 대통령 \"고용 악화 마음 무겁다\"\\n경제팀 경질·정책 수정은 '일축'\\n\\n[ ...</td>\n",
       "      <td>1454</td>\n",
       "    </tr>\n",
       "  </tbody>\n",
       "</table>\n",
       "</div>"
      ],
      "text/plain": [
       "                                            contents  contents_length\n",
       "0  고용쇼크 속 장하성-김동연 이어지는 불화설\\n靑 \"실적 보이라는 경고\"…張, 마지막...             1945\n",
       "1  문재인 대통령은 20일 대통령 소속 군사망사고진상규명위원회 위원장에 이인람 법무법인...              665\n",
       "2  【서울=뉴시스】 문재인 대통령은 20일 군사망사고진상규명위원회 위원장으로 이인람(6...              267\n",
       "3  [ 손성태 기자 ]\\n\\n문재인 대통령은 20일 대통령 소속 군사망사고진상규명위원회...              567\n",
       "4  문 대통령 \"고용 악화 마음 무겁다\"\\n경제팀 경질·정책 수정은 '일축'\\n\\n[ ...             1454"
      ]
     },
     "execution_count": 16,
     "metadata": {},
     "output_type": "execute_result"
    }
   ],
   "source": [
    "df = analysis_contents_length('naver', 'naver')\n",
    "\n",
    "df.head()"
   ]
  },
  {
   "cell_type": "code",
   "execution_count": 17,
   "metadata": {},
   "outputs": [
    {
     "name": "stdout",
     "output_type": "stream",
     "text": [
      "<class 'pandas.core.frame.DataFrame'>\n",
      "RangeIndex: 2357 entries, 0 to 2356\n",
      "Data columns (total 2 columns):\n",
      "contents           2357 non-null object\n",
      "contents_length    2357 non-null int64\n",
      "dtypes: int64(1), object(1)\n",
      "memory usage: 36.9+ KB\n"
     ]
    }
   ],
   "source": [
    "df.info()"
   ]
  },
  {
   "cell_type": "code",
   "execution_count": 18,
   "metadata": {},
   "outputs": [
    {
     "data": {
      "text/html": [
       "<div>\n",
       "<style scoped>\n",
       "    .dataframe tbody tr th:only-of-type {\n",
       "        vertical-align: middle;\n",
       "    }\n",
       "\n",
       "    .dataframe tbody tr th {\n",
       "        vertical-align: top;\n",
       "    }\n",
       "\n",
       "    .dataframe thead th {\n",
       "        text-align: right;\n",
       "    }\n",
       "</style>\n",
       "<table border=\"1\" class=\"dataframe\">\n",
       "  <thead>\n",
       "    <tr style=\"text-align: right;\">\n",
       "      <th></th>\n",
       "      <th>contents_length</th>\n",
       "    </tr>\n",
       "  </thead>\n",
       "  <tbody>\n",
       "    <tr>\n",
       "      <th>count</th>\n",
       "      <td>2357.000000</td>\n",
       "    </tr>\n",
       "    <tr>\n",
       "      <th>mean</th>\n",
       "      <td>900.074671</td>\n",
       "    </tr>\n",
       "    <tr>\n",
       "      <th>std</th>\n",
       "      <td>654.317877</td>\n",
       "    </tr>\n",
       "    <tr>\n",
       "      <th>min</th>\n",
       "      <td>109.000000</td>\n",
       "    </tr>\n",
       "    <tr>\n",
       "      <th>1%</th>\n",
       "      <td>155.000000</td>\n",
       "    </tr>\n",
       "    <tr>\n",
       "      <th>2%</th>\n",
       "      <td>168.120000</td>\n",
       "    </tr>\n",
       "    <tr>\n",
       "      <th>3%</th>\n",
       "      <td>177.000000</td>\n",
       "    </tr>\n",
       "    <tr>\n",
       "      <th>4%</th>\n",
       "      <td>185.240000</td>\n",
       "    </tr>\n",
       "    <tr>\n",
       "      <th>5%</th>\n",
       "      <td>195.000000</td>\n",
       "    </tr>\n",
       "    <tr>\n",
       "      <th>10%</th>\n",
       "      <td>259.600000</td>\n",
       "    </tr>\n",
       "    <tr>\n",
       "      <th>50%</th>\n",
       "      <td>758.000000</td>\n",
       "    </tr>\n",
       "    <tr>\n",
       "      <th>max</th>\n",
       "      <td>10210.000000</td>\n",
       "    </tr>\n",
       "  </tbody>\n",
       "</table>\n",
       "</div>"
      ],
      "text/plain": [
       "       contents_length\n",
       "count      2357.000000\n",
       "mean        900.074671\n",
       "std         654.317877\n",
       "min         109.000000\n",
       "1%          155.000000\n",
       "2%          168.120000\n",
       "3%          177.000000\n",
       "4%          185.240000\n",
       "5%          195.000000\n",
       "10%         259.600000\n",
       "50%         758.000000\n",
       "max       10210.000000"
      ]
     },
     "execution_count": 18,
     "metadata": {},
     "output_type": "execute_result"
    }
   ],
   "source": [
    "df.describe(percentiles=(0.01, 0.02, 0.03, 0.04, 0.05, 0.1))"
   ]
  },
  {
   "cell_type": "code",
   "execution_count": 19,
   "metadata": {},
   "outputs": [],
   "source": [
    "def delete_short_contents(db_name, table_name, threshold_len):\n",
    "    conn = sqlite3.connect('db/' + db_name + '.db')\n",
    "    cur = conn.cursor()\n",
    "    \n",
    "    cur.execute(\"DELETE FROM {0} WHERE LENGTH(contents) < {1}\".format(table_name, threshold_len))\n",
    "\n",
    "    conn.commit()"
   ]
  },
  {
   "cell_type": "code",
   "execution_count": 20,
   "metadata": {},
   "outputs": [
    {
     "data": {
      "text/html": [
       "<div>\n",
       "<style scoped>\n",
       "    .dataframe tbody tr th:only-of-type {\n",
       "        vertical-align: middle;\n",
       "    }\n",
       "\n",
       "    .dataframe tbody tr th {\n",
       "        vertical-align: top;\n",
       "    }\n",
       "\n",
       "    .dataframe thead th {\n",
       "        text-align: right;\n",
       "    }\n",
       "</style>\n",
       "<table border=\"1\" class=\"dataframe\">\n",
       "  <thead>\n",
       "    <tr style=\"text-align: right;\">\n",
       "      <th></th>\n",
       "      <th>contents_length</th>\n",
       "    </tr>\n",
       "  </thead>\n",
       "  <tbody>\n",
       "    <tr>\n",
       "      <th>count</th>\n",
       "      <td>1274.000000</td>\n",
       "    </tr>\n",
       "    <tr>\n",
       "      <th>mean</th>\n",
       "      <td>894.332025</td>\n",
       "    </tr>\n",
       "    <tr>\n",
       "      <th>std</th>\n",
       "      <td>745.205797</td>\n",
       "    </tr>\n",
       "    <tr>\n",
       "      <th>min</th>\n",
       "      <td>100.000000</td>\n",
       "    </tr>\n",
       "    <tr>\n",
       "      <th>25%</th>\n",
       "      <td>387.250000</td>\n",
       "    </tr>\n",
       "    <tr>\n",
       "      <th>50%</th>\n",
       "      <td>759.000000</td>\n",
       "    </tr>\n",
       "    <tr>\n",
       "      <th>75%</th>\n",
       "      <td>1164.000000</td>\n",
       "    </tr>\n",
       "    <tr>\n",
       "      <th>max</th>\n",
       "      <td>8172.000000</td>\n",
       "    </tr>\n",
       "  </tbody>\n",
       "</table>\n",
       "</div>"
      ],
      "text/plain": [
       "       contents_length\n",
       "count      1274.000000\n",
       "mean        894.332025\n",
       "std         745.205797\n",
       "min         100.000000\n",
       "25%         387.250000\n",
       "50%         759.000000\n",
       "75%        1164.000000\n",
       "max        8172.000000"
      ]
     },
     "execution_count": 20,
     "metadata": {},
     "output_type": "execute_result"
    }
   ],
   "source": [
    "delete_short_contents('daum', 'daum', 100)\n",
    "\n",
    "df = analysis_contents_length('daum', 'daum')\n",
    "\n",
    "df.describe()"
   ]
  },
  {
   "cell_type": "code",
   "execution_count": 21,
   "metadata": {},
   "outputs": [
    {
     "data": {
      "text/html": [
       "<div>\n",
       "<style scoped>\n",
       "    .dataframe tbody tr th:only-of-type {\n",
       "        vertical-align: middle;\n",
       "    }\n",
       "\n",
       "    .dataframe tbody tr th {\n",
       "        vertical-align: top;\n",
       "    }\n",
       "\n",
       "    .dataframe thead th {\n",
       "        text-align: right;\n",
       "    }\n",
       "</style>\n",
       "<table border=\"1\" class=\"dataframe\">\n",
       "  <thead>\n",
       "    <tr style=\"text-align: right;\">\n",
       "      <th></th>\n",
       "      <th>contents_length</th>\n",
       "    </tr>\n",
       "  </thead>\n",
       "  <tbody>\n",
       "    <tr>\n",
       "      <th>count</th>\n",
       "      <td>2357.000000</td>\n",
       "    </tr>\n",
       "    <tr>\n",
       "      <th>mean</th>\n",
       "      <td>900.074671</td>\n",
       "    </tr>\n",
       "    <tr>\n",
       "      <th>std</th>\n",
       "      <td>654.317877</td>\n",
       "    </tr>\n",
       "    <tr>\n",
       "      <th>min</th>\n",
       "      <td>109.000000</td>\n",
       "    </tr>\n",
       "    <tr>\n",
       "      <th>25%</th>\n",
       "      <td>429.000000</td>\n",
       "    </tr>\n",
       "    <tr>\n",
       "      <th>50%</th>\n",
       "      <td>758.000000</td>\n",
       "    </tr>\n",
       "    <tr>\n",
       "      <th>75%</th>\n",
       "      <td>1183.000000</td>\n",
       "    </tr>\n",
       "    <tr>\n",
       "      <th>max</th>\n",
       "      <td>10210.000000</td>\n",
       "    </tr>\n",
       "  </tbody>\n",
       "</table>\n",
       "</div>"
      ],
      "text/plain": [
       "       contents_length\n",
       "count      2357.000000\n",
       "mean        900.074671\n",
       "std         654.317877\n",
       "min         109.000000\n",
       "25%         429.000000\n",
       "50%         758.000000\n",
       "75%        1183.000000\n",
       "max       10210.000000"
      ]
     },
     "execution_count": 21,
     "metadata": {},
     "output_type": "execute_result"
    }
   ],
   "source": [
    "delete_short_contents('naver', 'naver', 100)\n",
    "\n",
    "df = analysis_contents_length('naver', 'naver')\n",
    "\n",
    "df.describe()"
   ]
  },
  {
   "cell_type": "markdown",
   "metadata": {},
   "source": [
    "## Contents가 같을 경우 제거\n",
    "---"
   ]
  },
  {
   "cell_type": "code",
   "execution_count": 22,
   "metadata": {},
   "outputs": [
    {
     "data": {
      "text/plain": [
       "1214"
      ]
     },
     "execution_count": 22,
     "metadata": {},
     "output_type": "execute_result"
    }
   ],
   "source": [
    "conn = sqlite3.connect('db/daum.db')\n",
    "cur = conn.cursor()\n",
    "\n",
    "cur.execute(\"SELECT DISTINCT contents FROM daum\")\n",
    "\n",
    "len(cur.fetchall())"
   ]
  },
  {
   "cell_type": "code",
   "execution_count": 23,
   "metadata": {},
   "outputs": [
    {
     "data": {
      "text/plain": [
       "2357"
      ]
     },
     "execution_count": 23,
     "metadata": {},
     "output_type": "execute_result"
    }
   ],
   "source": [
    "conn = sqlite3.connect('db/naver.db')\n",
    "cur = conn.cursor()\n",
    "\n",
    "cur.execute(\"SELECT DISTINCT contents FROM naver\")\n",
    "\n",
    "len(cur.fetchall())"
   ]
  },
  {
   "cell_type": "code",
   "execution_count": 24,
   "metadata": {},
   "outputs": [],
   "source": [
    "def delete_dupl_contents(db_name, table_name):\n",
    "    conn = sqlite3.connect('db/' + db_name + '.db')\n",
    "    cur = conn.cursor()\n",
    "    \n",
    "    cur.execute(\"DELETE FROM {0} WHERE a_ids NOT IN (SELECT min(a_ids) FROM {0} GROUP BY contents)\"\n",
    "                .format(table_name))\n",
    "\n",
    "    conn.commit()"
   ]
  },
  {
   "cell_type": "code",
   "execution_count": 25,
   "metadata": {},
   "outputs": [],
   "source": [
    "delete_dupl_contents('daum', 'daum')"
   ]
  },
  {
   "cell_type": "code",
   "execution_count": 26,
   "metadata": {},
   "outputs": [],
   "source": [
    "delete_dupl_contents('naver', 'naver')"
   ]
  }
 ],
 "metadata": {
  "kernelspec": {
   "display_name": "Python 3",
   "language": "python",
   "name": "python3"
  },
  "language_info": {
   "codemirror_mode": {
    "name": "ipython",
    "version": 3
   },
   "file_extension": ".py",
   "mimetype": "text/x-python",
   "name": "python",
   "nbconvert_exporter": "python",
   "pygments_lexer": "ipython3",
   "version": "3.6.5"
  }
 },
 "nbformat": 4,
 "nbformat_minor": 2
}
