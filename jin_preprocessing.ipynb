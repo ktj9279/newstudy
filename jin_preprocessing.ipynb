{
 "cells": [
  {
   "cell_type": "markdown",
   "metadata": {},
   "source": [
    "# Preprocessing\n",
    "---"
   ]
  },
  {
   "cell_type": "code",
   "execution_count": 1,
   "metadata": {},
   "outputs": [],
   "source": [
    "import pandas as pd\n",
    "import re\n",
    "import sqlite3"
   ]
  },
  {
   "cell_type": "code",
   "execution_count": 2,
   "metadata": {},
   "outputs": [],
   "source": [
    "press_list = ['daum', 'naver',\n",
    "              'seoulilbo', 'dtoday', 'asiailbo', 'labortoday', 'm-i',\n",
    "              'ekn', 'busan', 'imaeil', 'kookje', 'yeongnam']\n",
    "press_dict = {'daum':'다음', 'naver':'네이버',\n",
    "              'seoulilbo':'서울일보', 'dtoday':'일간투데이', 'asiailbo':'아시아일보',\n",
    "              'labortoday':'매일노동뉴스', 'm-i':'매일일보', 'ekn':'에너지경제',\n",
    "              'busan':'부산일보', 'imaeil':'매일신문', 'kookje':'국제신문',\n",
    "              'yeongnam':'영남일보'}\n",
    "\n",
    "daum_press_list = ['EBS', 'IT동아', 'JTBC', 'KBS', 'KTV',\n",
    "                   'MBC', 'MBN', 'SBS', 'SBSCNBC', 'YTN',\n",
    "                   '지디넷코리아', 'bnt뉴스', '게임동아', '게임톡', '경향신문',\n",
    "                   '국민일보', '기자협회보', '노컷뉴스', '뉴스1', '뉴시스',\n",
    "                   '데일리안', '동아사이언스', '동아일보', '디지털타임스', '로이터',\n",
    "                   '매경게임진', '매일경제', '머니S', '머니투데이', '문화일보',\n",
    "                   '미디어오늘', '서울경제', '서울신문', '세계일보', '아시아경제',\n",
    "                   '아이뉴스24', '연합뉴스', '연합뉴스TV', '오마이뉴스', '오토타임즈',\n",
    "                   '이데일리', '전자신문', '조선비즈', '조선일보', '중앙일보',\n",
    "                   '채널A', '코리아헤럴드', '쿠키뉴스', '파이낸셜뉴스', '포토친구',\n",
    "                   '프레시안', '한겨레', '한국경제', '한국경제TV', '한국일보',\n",
    "                   '헤럴드경제']\n",
    "naver_press_list = ['JTBC', 'KBS', 'MBC', 'MBN', 'SBS',\n",
    "                    'SBS CNBC', 'TV조선', 'YTN', 'ZDNet Korea', '강원일보',\n",
    "                    '경향신문', '국민일보', '기자협회보', '노컷뉴스', '뉴스1',\n",
    "                    '뉴시스', '데일리안', '동아사이언스', '동아일보', '디지털데일리',\n",
    "                    '디지털타임스', '로이터', '매일경제', '매일신문', '머니S',\n",
    "                    '머니투데이', '문화일보', '미디어오늘', '부산일보', '블로터',\n",
    "                    '서울경제', '서울신문', '세계일보', '아시아경제', '아이뉴스24',\n",
    "                    '여성신문', '연합뉴스', '연합뉴스TV', '오마이뉴스', '이데일리',\n",
    "                    '일다', '전자신문', '조선비즈', '조선일보', '조세일보',\n",
    "                    '중앙일보', '참세상', '채널A', '코리아헤럴드', '코메디닷컴',\n",
    "                    '파이낸셜뉴스', '프레시안', '한겨레', '한국경제', '한국경제TV',\n",
    "                    '한국일보', '헤럴드경제', '헬스조선']\n",
    "daum_naver_press_list = tuple(set(daum_press_list + naver_press_list))\n",
    "\n",
    "section_list = ['society', 'politics', 'economic', 'culture', 'digital', 'global']\n",
    "section_dict = {'society':'사회', 'politics':'정치', 'economic':'경제',\n",
    "               'culture':'문화', 'digital':'IT', 'global':'세계'}\n",
    "\n",
    "base_urls = {'daum':\n",
    "             {'society':'http://media.daum.net/breakingnews/society',\n",
    "              'politics':'http://media.daum.net/breakingnews/politics',\n",
    "              'economic':'http://media.daum.net/breakingnews/economic',\n",
    "              'culture':'http://media.daum.net/breakingnews/culture',\n",
    "              'digital':'http://media.daum.net/breakingnews/digital',\n",
    "              'global':'http://media.daum.net/breakingnews/foreign'\n",
    "             },\n",
    "             'seoulilbo':\n",
    "             {'society':'http://www.seoulilbo.com/news/articleList.html?sc_section_code=S1N10&view_type=sm',\n",
    "              'politics':'http://www.seoulilbo.com/news/articleList.html?sc_section_code=S1N8&view_type=sm',\n",
    "              'economic':'http://www.seoulilbo.com/news/articleList.html?sc_section_code=S1N9&view_type=sm',\n",
    "              'culture':'http://www.seoulilbo.com/news/articleList.html?sc_section_code=S1N11&view_type=sm',\n",
    "              'digital':'',\n",
    "              'global':''\n",
    "             },\n",
    "             'dtoday':\n",
    "             {'society':'',\n",
    "              'politics':'http://www.dtoday.co.kr/news/articleList.html?sc_section_code=S1N1&view_type=sm',\n",
    "              'economic':'http://www.dtoday.co.kr/news/articleList.html?sc_section_code=S1N2&view_type=sm',\n",
    "              'culture':'',\n",
    "              'digital':'',\n",
    "              'global':''\n",
    "             },\n",
    "             'asiailbo':\n",
    "             {'society':'http://www.asiailbo.co.kr/etnews/?cid=21030000',\n",
    "              'politics':'http://www.asiailbo.co.kr/etnews/?cid=21010000',\n",
    "              'economic':'http://www.asiailbo.co.kr/etnews/?cid=21020000',\n",
    "              'culture':'http://www.asiailbo.co.kr/etnews/?cid=21040000',\n",
    "              'digital':'',\n",
    "              'global':''\n",
    "             },\n",
    "             'labortoday':\n",
    "             {'society':'http://www.labortoday.co.kr/news/articleList.html?sc_section_code=S1N3&view_type=sm',\n",
    "              'politics':'http://www.labortoday.co.kr/news/articleList.html?sc_section_code=S1N2&view_type=sm',\n",
    "              'economic':'',    # 정치, 경제\n",
    "              'culture':'',\n",
    "              'digital':'',\n",
    "              'global':''\n",
    "             },\n",
    "             'm-i':\n",
    "             {'society':'http://www.m-i.kr/news/articleList.html?sc_section_code=S1N3&view_type=sm',\n",
    "              'politics':'http://www.m-i.kr/news/articleList.html?sc_section_code=S1N1&view_type=tm',\n",
    "              'economic':'http://www.m-i.kr/news/articleList.html?sc_section_code=S1N2&view_type=sm',\n",
    "              'culture':'http://www.m-i.kr/news/articleList.html?sc_section_code=S1N22&view_type=tm',\n",
    "              'digital':'',\n",
    "              'global':''\n",
    "             },\n",
    "             'ekn':\n",
    "             {'society':'http://www.ekn.kr/news/section_list_all.html?sec_no=25',\n",
    "              'politics':'',    # 정치, 사회\n",
    "              'economic':'http://www.ekn.kr/news/section_list_all.html?sec_no=130',\n",
    "              'culture':'',\n",
    "              'digital':'',\n",
    "              'global':''\n",
    "             },\n",
    "             'busan':\n",
    "             {'society':'http://news20.busan.com/news/social.jsp',\n",
    "              'politics':'http://news20.busan.com/news/politics.jsp',\n",
    "              'economic':'http://news20.busan.com/EconomyAndOcean/econocean.jsp',\n",
    "              'culture':'http://news20.busan.com/news/culture.jsp',\n",
    "              'digital':'',\n",
    "              'global':''\n",
    "             },\n",
    "             'imaeil':\n",
    "             {'society':'http://news.imaeil.com/SocietyAll/',\n",
    "              'politics':'http://news.imaeil.com/PoliticsAll/',\n",
    "              'economic':'http://news.imaeil.com/EconomyAll/',\n",
    "              'culture':'http://news.imaeil.com/CultureAll/',\n",
    "              'digital':'',\n",
    "              'global':'http://news.imaeil.com/InternationalAll/'\n",
    "             },\n",
    "             'kookje':\n",
    "             {'society':'http://www.kookje.co.kr/sub.htm?code=0300&vHeadTitle=%BB%E7%C8%B8',\n",
    "              'politics':'http://www.kookje.co.kr/sub.htm?code=0100&vHeadTitle=%C1%A4%C4%A1',\n",
    "              'economic':'http://www.kookje.co.kr/sub.htm?code=0200&vHeadTitle=%B0%E6%C1%A6',\n",
    "              'culture':'http://www.kookje.co.kr/sub.htm?code=0500&vHeadTitle=%B9%AE%C8%AD',\n",
    "              'digital':'http://www.kookje.co.kr/sub.htm?code=0800&vHeadTitle=IT%B0%FA%C7%D0',\n",
    "              'global':'http://www.kookje.co.kr/sub.htm?code=0400&vHeadTitle=%B1%B9%C1%A6'\n",
    "             },\n",
    "             'yeongnam':\n",
    "             {'society':'http://www.yeongnam.com/mnews/newsview.do?mode=subMain&cId=04',\n",
    "              'politics':'http://www.yeongnam.com/mnews/newsview.do?mode=subMain&cId=02',\n",
    "              'economic':'http://www.yeongnam.com/mnews/newsview.do?mode=subMain&cId=03',\n",
    "              'culture':'http://www.yeongnam.com/mnews/newsview.do?mode=subMain&cId=08',\n",
    "              'digital':'',    # 교육, 과학\n",
    "              'global':'http://www.yeongnam.com/mnews/newsview.do?mode=subMain&cId=06'\n",
    "             }\n",
    "            }\n",
    "\n",
    "headers = {\"user-agent\":\"Mozilla/5.0 (Windows NT 10.0; Win64; x64) AppleWebKit/537.36 (KHTML, like Gecko) Chrome/67.0.3396.99 Safari/537.36\"}"
   ]
  },
  {
   "cell_type": "code",
   "execution_count": 3,
   "metadata": {},
   "outputs": [],
   "source": [
    "# 기본 정규식\n",
    "reg_ex = {'email': r'[a-zA-Z0-9.!#$%&\\'*+/=?^_`{|}~-]+@[a-zA-Z0-9-]+\\.[a-zA-Z0-9-.]+',\n",
    "          'sb': r'\\[[^\\]]*\\]',\n",
    "          'pb': r'\\<[^\\>]*\\>'}\n",
    "\n",
    "# 매칭되면 기사를 삭제하는 태그, 단어 및 정규식\n",
    "stop_title_sb = ['[포토]', '[프로필]', '[★화보]', '[게시판]', '[경향포토]',\n",
    "                 '[리빙포인트]', '[머니S포토]', '[부고]', '[부음]', '[사람 人 사람]',\n",
    "                 '[사진]', '[서울포토]', '[영어]', \"[오래전 '이날']\", '[오마이포토]',\n",
    "                 '[이 시각 코스피]', '[이 시각 코스닥]', '[인사]', '[코스닥 공시]', '[코스닥(개장)]',\n",
    "                 '[코스닥(마감)]', '[코스피(개장)]', '[코스피(마감)]', '[포토뉴스]', '[표]',\n",
    "                 '[한경로보뉴스]', '[영상]', '[오늘의 국회 ', '[오늘의 주요일정]']\n",
    "\n",
    "stop_title_pb = ['<부고>', '<오늘의 조간 정치뉴스>', '<인사>', '<포토>', '<코>', '<유>']\n",
    "\n",
    "stop_content_reg_ex = [r'^동영상[\\s]*뉴스']\n",
    "\n",
    "# 매칭되면 해당 내용만 삭제하는 태그, 단어 및 정규식\n",
    "stop_content_reg_ex_crop = [reg_ex['email']]\n",
    "\n",
    "stop_content_reg_ex_ml_crop = [r'^[\\s]*\\【.*?\\】([^=\\n]*기자[\\s]*=)?',\n",
    "                               r'^[\\s]*\\[.*?\\]([^=\\n)]*기자[\\s]*=)?',\n",
    "                               r'^[\\s]*\\(.*?\\)([^=\\n]*기자[\\s]*=)?',\n",
    "                               r'^[ㄱ-ㅎㅏ-ㅣ가-힣]+[\\s]?기자[\\s]?',\n",
    "                               r'^© News1.*\\n',\n",
    "                               '(- Copyrights )?ⓒ[^\\.]*$',\n",
    "                               r'\\【.*?\\】[\\s]*$',\n",
    "                               r'\\[.*?\\][\\s]*$',\n",
    "                               r'\\(.*?\\)[\\s]*$',\n",
    "                               r'[\\s\\.=][ㄱ-ㅎㅏ-ㅣ가-힣]+[\\s]?기자$']\n",
    "\n",
    "# [r'^[\\s]*\\【[^\\】]*\\】([^=\\n]*기자[\\s]*=)?',\n",
    "# r'^[\\s]*\\[[^\\]]*\\]([^=\\n)]*기자[\\s]*=)?',\n",
    "# r'^[\\s]*\\([^\\)]*\\)([^=\\n]*기자[\\s]*=)?',\n",
    "# r'^[ㄱ-ㅎㅏ-ㅣ가-힣]+[\\s]?기자[\\s]?',\n",
    "# r'\\【[^\\【]*\\】[\\s]*$',\n",
    "# r'\\[[^\\[]*\\][\\s]*$',\n",
    "# r'\\([^\\(]*\\)[\\s]*$',\n",
    "# r'[\\s\\.][ㄱ-ㅎㅏ-ㅣ가-힣]+[\\s]?기자$']\n",
    "# r'^[\\s]*\\【[^\\】]*=[^\\】]*\\】([^=\\n]*기자[\\s]*=)?'\n",
    "# r'^[\\s]*\\[[^\\]]*=[^\\]]*\\]([^=\\n)]*기자[\\s]*=)?'\n",
    "# r'^[\\s]*\\([^\\)]*=[^\\)]*\\)([^=\\n]*기자[\\s]*=)?'\n",
    "# /.+\\n\n",
    "# r'^[]{0}[]$'.format(press_ko)'"
   ]
  },
  {
   "cell_type": "code",
   "execution_count": 4,
   "metadata": {},
   "outputs": [],
   "source": [
    "# # Delete\n",
    "# conn = sqlite3.connect('db/daum.db')\n",
    "# cur = conn.cursor()\n",
    "\n",
    "# cur.execute(\"DELETE FROM daum WHERE sections LIKE '세계'\")\n",
    "\n",
    "# conn.commit()"
   ]
  },
  {
   "cell_type": "code",
   "execution_count": 5,
   "metadata": {},
   "outputs": [],
   "source": [
    "# # Rename column\n",
    "# conn = sqlite3.connect('db/daum.db')\n",
    "# cur = conn.cursor()\n",
    "\n",
    "# cur.execute(\"ALTER TABLE daum RENAME TO daum_temp\")\n",
    "\n",
    "# cur.execute(\"CREATE TABLE daum(a_ids TEXT primary key, \\\n",
    "#             dates DATE, times TIME, titles TEXT, contents TEXT, \\\n",
    "#             press TEXT, authors TEXT, sections TEXT, urls TEXT)\")\n",
    "\n",
    "# cur.execute(\"INSERT INTO daum (a_ids, dates, times, titles, contents, press, authors, sections, urls) \\\n",
    "#             SELECT a_ids, dates, times, titles, contents, press_ko, authors, section_ko, urls \\\n",
    "#             FROM daum_temp\")\n",
    "\n",
    "# conn.commit()"
   ]
  },
  {
   "cell_type": "markdown",
   "metadata": {},
   "source": [
    "## Null Data 제거\n",
    "---\n",
    "\n",
    "* date, time, title, content, press column이 NULL 또는 빈 문자열(공백문자로만 이뤄진 경우 포함)인 경우"
   ]
  },
  {
   "cell_type": "code",
   "execution_count": 6,
   "metadata": {},
   "outputs": [],
   "source": [
    "def delete_null_data(db_name, table_name):\n",
    "    conn = sqlite3.connect('db/' + db_name + '.db')\n",
    "    cur = conn.cursor()\n",
    "    \n",
    "    cols = ('date', 'time', 'title', 'content', 'press')\n",
    "    for col in cols:\n",
    "        cur.execute(\"DELETE FROM {0} WHERE {1} IS NULL OR TRIM({1}) = ''\".format(table_name, col))\n",
    "\n",
    "    conn.commit()"
   ]
  },
  {
   "cell_type": "code",
   "execution_count": 7,
   "metadata": {},
   "outputs": [],
   "source": [
    "# delete_null_data('daum', 'daum')"
   ]
  },
  {
   "cell_type": "code",
   "execution_count": 8,
   "metadata": {},
   "outputs": [],
   "source": [
    "# delete_null_data('naver', 'naver')"
   ]
  },
  {
   "cell_type": "code",
   "execution_count": 9,
   "metadata": {},
   "outputs": [],
   "source": [
    "delete_null_data('news_db_new', 'Article')"
   ]
  },
  {
   "cell_type": "markdown",
   "metadata": {},
   "source": [
    "## Daum, Naver에서 리스트에 없는 언론사 제외\n",
    "---"
   ]
  },
  {
   "cell_type": "code",
   "execution_count": 10,
   "metadata": {},
   "outputs": [],
   "source": [
    "def delete_excluded_press(db_name, table_name, press_list):\n",
    "    conn = sqlite3.connect('db/' + db_name + '.db')\n",
    "    cur = conn.cursor()\n",
    "    \n",
    "    cur.execute(\"DELETE FROM {0} WHERE press NOT IN {1}\".format(table_name, tuple(press_list)))\n",
    "\n",
    "    conn.commit()"
   ]
  },
  {
   "cell_type": "code",
   "execution_count": 11,
   "metadata": {},
   "outputs": [],
   "source": [
    "# delete_excluded_press('daum', 'daum', daum_press_list)"
   ]
  },
  {
   "cell_type": "code",
   "execution_count": 12,
   "metadata": {},
   "outputs": [],
   "source": [
    "# delete_excluded_press('naver', 'naver', naver_press_list)"
   ]
  },
  {
   "cell_type": "code",
   "execution_count": 13,
   "metadata": {},
   "outputs": [],
   "source": [
    "delete_excluded_press('news_db_new', 'Article', daum_naver_press_list)"
   ]
  },
  {
   "cell_type": "markdown",
   "metadata": {},
   "source": [
    "## Contents 길이가 100 미만일 경우 제거\n",
    "---"
   ]
  },
  {
   "cell_type": "code",
   "execution_count": 14,
   "metadata": {},
   "outputs": [],
   "source": [
    "# Contents 길이 분석\n",
    "def analysis_contents_length(db_name, table_name):\n",
    "    conn = sqlite3.connect('db/' + db_name + '.db')\n",
    "    cur = conn.cursor()\n",
    "    \n",
    "    cur.execute(\"SELECT content FROM \" + table_name)\n",
    "\n",
    "    temp_content_list = []\n",
    "    for content_tuple in cur.fetchall():\n",
    "        temp_content_list.append(content_tuple[0])\n",
    "\n",
    "    df = pd.DataFrame({'content':temp_content_list})\n",
    "    \n",
    "    df['content_length'] = None\n",
    "    for idx, content in enumerate(df.content):\n",
    "        df.content_length.iloc[idx] = len(content)\n",
    "    \n",
    "    return df"
   ]
  },
  {
   "cell_type": "code",
   "execution_count": 15,
   "metadata": {},
   "outputs": [],
   "source": [
    "# df = analysis_contents_length('daum', 'daum')\n",
    "\n",
    "# df.head()    "
   ]
  },
  {
   "cell_type": "code",
   "execution_count": 16,
   "metadata": {
    "scrolled": true
   },
   "outputs": [],
   "source": [
    "# df.info()"
   ]
  },
  {
   "cell_type": "code",
   "execution_count": 17,
   "metadata": {
    "scrolled": true
   },
   "outputs": [],
   "source": [
    "# df.describe(percentiles=(0.01, 0.02, 0.03, 0.04, 0.05, 0.1))"
   ]
  },
  {
   "cell_type": "code",
   "execution_count": 18,
   "metadata": {
    "scrolled": true
   },
   "outputs": [],
   "source": [
    "# df = analysis_contents_length('naver', 'naver')\n",
    "\n",
    "# df.head()"
   ]
  },
  {
   "cell_type": "code",
   "execution_count": 19,
   "metadata": {},
   "outputs": [],
   "source": [
    "# df.info()"
   ]
  },
  {
   "cell_type": "code",
   "execution_count": 20,
   "metadata": {},
   "outputs": [],
   "source": [
    "# df.describe(percentiles=(0.01, 0.02, 0.03, 0.04, 0.05, 0.1))"
   ]
  },
  {
   "cell_type": "code",
   "execution_count": 21,
   "metadata": {},
   "outputs": [],
   "source": [
    "def delete_short_contents(db_name, table_name, threshold_len):\n",
    "    conn = sqlite3.connect('db/' + db_name + '.db')\n",
    "    cur = conn.cursor()\n",
    "    \n",
    "    cur.execute(\"DELETE FROM {0} WHERE LENGTH(content) < {1}\".format(table_name, threshold_len))\n",
    "\n",
    "    conn.commit()"
   ]
  },
  {
   "cell_type": "code",
   "execution_count": 22,
   "metadata": {},
   "outputs": [],
   "source": [
    "# delete_short_contents('daum', 'daum', 100)\n",
    "\n",
    "# df = analysis_contents_length('daum', 'daum')\n",
    "\n",
    "# df.describe()"
   ]
  },
  {
   "cell_type": "code",
   "execution_count": 23,
   "metadata": {},
   "outputs": [],
   "source": [
    "# delete_short_contents('naver', 'naver', 100)\n",
    "\n",
    "# df = analysis_contents_length('naver', 'naver')\n",
    "\n",
    "# df.describe()"
   ]
  },
  {
   "cell_type": "code",
   "execution_count": 24,
   "metadata": {},
   "outputs": [],
   "source": [
    "delete_short_contents('news_db_new', 'Article', 100)"
   ]
  },
  {
   "cell_type": "markdown",
   "metadata": {},
   "source": [
    "## Contents가 같을 경우 제거\n",
    "---"
   ]
  },
  {
   "cell_type": "code",
   "execution_count": 25,
   "metadata": {},
   "outputs": [],
   "source": [
    "# conn = sqlite3.connect('db/daum.db')\n",
    "# cur = conn.cursor()\n",
    "\n",
    "# cur.execute(\"SELECT DISTINCT contents FROM daum\")\n",
    "\n",
    "# len(cur.fetchall())"
   ]
  },
  {
   "cell_type": "code",
   "execution_count": 26,
   "metadata": {},
   "outputs": [],
   "source": [
    "# conn = sqlite3.connect('db/naver.db')\n",
    "# cur = conn.cursor()\n",
    "\n",
    "# cur.execute(\"SELECT DISTINCT contents FROM naver\")\n",
    "\n",
    "# len(cur.fetchall())"
   ]
  },
  {
   "cell_type": "code",
   "execution_count": 27,
   "metadata": {},
   "outputs": [],
   "source": [
    "def delete_dupl_contents(db_name, table_name):\n",
    "    conn = sqlite3.connect('db/' + db_name + '.db')\n",
    "    cur = conn.cursor()\n",
    "    \n",
    "    cur.execute(\"DELETE FROM {0} WHERE a_id NOT IN (SELECT min(a_id) FROM {0} GROUP BY content)\"\n",
    "                .format(table_name))\n",
    "\n",
    "    conn.commit()"
   ]
  },
  {
   "cell_type": "code",
   "execution_count": 28,
   "metadata": {},
   "outputs": [],
   "source": [
    "# delete_dupl_contents('daum', 'daum')"
   ]
  },
  {
   "cell_type": "code",
   "execution_count": 29,
   "metadata": {},
   "outputs": [],
   "source": [
    "# delete_dupl_contents('naver', 'naver')"
   ]
  },
  {
   "cell_type": "code",
   "execution_count": 30,
   "metadata": {},
   "outputs": [],
   "source": [
    "delete_dupl_contents('news_db_new', 'Article')"
   ]
  }
 ],
 "metadata": {
  "kernelspec": {
   "display_name": "Python 3",
   "language": "python",
   "name": "python3"
  },
  "language_info": {
   "codemirror_mode": {
    "name": "ipython",
    "version": 3
   },
   "file_extension": ".py",
   "mimetype": "text/x-python",
   "name": "python",
   "nbconvert_exporter": "python",
   "pygments_lexer": "ipython3",
   "version": "3.6.6"
  }
 },
 "nbformat": 4,
 "nbformat_minor": 2
}
