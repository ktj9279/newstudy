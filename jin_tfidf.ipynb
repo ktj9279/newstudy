{
 "cells": [
  {
   "cell_type": "markdown",
   "metadata": {},
   "source": [
    "# TF-IDF\n",
    "---"
   ]
  },
  {
   "cell_type": "code",
   "execution_count": 5,
   "metadata": {},
   "outputs": [],
   "source": [
    "import csv\n",
    "from konlpy.tag import Kkma\n",
    "from math import log2, log10\n",
    "import nltk\n",
    "import pickle\n",
    "import re\n",
    "import sqlite3"
   ]
  },
  {
   "cell_type": "code",
   "execution_count": 6,
   "metadata": {},
   "outputs": [],
   "source": [
    "section_list = ['society', 'politics', 'economic', 'culture', 'digital', 'global']\n",
    "section_dict = {'society':'사회', 'politics':'정치', 'economic':'경제',\n",
    "               'culture':'문화', 'digital':'IT', 'global':'세계'}"
   ]
  },
  {
   "cell_type": "markdown",
   "metadata": {},
   "source": [
    "## Extract Nouns and Index Articles\n",
    "---\n",
    "\n",
    "* Section별로 명사 추출\n",
    "\n",
    "\n",
    "* 기본 불용어 제거\n",
    "   * 공통\n",
    "      * 길이가 1인 단어\n",
    "      * 숫자만으로 이루어진 단어\n",
    "   * Section별\n",
    "      * ?\n",
    "\n",
    "\n",
    "* Inverted indexing\n",
    "\n",
    "\n",
    "* Section별로 저장"
   ]
  },
  {
   "cell_type": "code",
   "execution_count": 7,
   "metadata": {},
   "outputs": [],
   "source": [
    "def is_number(obj):\n",
    "    try:\n",
    "        float(obj)\n",
    "        return True\n",
    "    except ValueError:\n",
    "        return False"
   ]
  },
  {
   "cell_type": "code",
   "execution_count": 17,
   "metadata": {},
   "outputs": [],
   "source": [
    "def inverted_index(db_name, table_name, sections=['society', 'politics', 'economic', 'culture', 'digital', 'global'], write=False):\n",
    "    k = Kkma()\n",
    "    \n",
    "    conn = sqlite3.connect('db/' + db_name + '.db')\n",
    "    cur = conn.cursor()\n",
    "\n",
    "    for section in sections:\n",
    "        print(section_dict[section])\n",
    "        print('--------------------------------------------------\\n')\n",
    "\n",
    "        cur.execute(\"SELECT a_ids, contents FROM {0} WHERE sections = '{1}'\".format(table_name, section_dict[section]))\n",
    "\n",
    "        contents = cur.fetchall()\n",
    "        \n",
    "        unique_nouns = []\n",
    "        a_nouns = {}\n",
    "        noun_max_cnt = {}\n",
    "        inverted_idx = {}\n",
    "\n",
    "        for content_idx, content in enumerate(contents):\n",
    "            if (content_idx % 100) == 0:\n",
    "                print('{0:6,} / {1:6,}'.format(content_idx, len(contents)))\n",
    "\n",
    "            a_id = content[0]\n",
    "            a_nouns[a_id] = {}\n",
    "            nouns_cnt = {}\n",
    "            noun_max_cnt[a_id] = 0\n",
    "\n",
    "            # 연속된 공백 및 개행 제거\n",
    "            content = re.sub(r'[\\s]{2,}', ' ', content[1])\n",
    "            content = re.sub(r'[\\n]{2,}', '\\n', content)\n",
    "\n",
    "            # 문장 단위 토큰화\n",
    "            for idx, sentence in enumerate(nltk.sent_tokenize(content)):\n",
    "                nouns_temp = []\n",
    "\n",
    "        #         print(idx)\n",
    "        #         print('------------------------------')\n",
    "        #         print(sentence.strip())\n",
    "\n",
    "                # 단어 단위 토큰화\n",
    "                for word in nltk.word_tokenize(sentence.strip()):\n",
    "                    # 명사 추출\n",
    "                    nouns = k.nouns(word)\n",
    "                    \n",
    "                    stop_words = []\n",
    "\n",
    "                    for noun in nouns:\n",
    "                        # 기본 불용어 선별 (공통)\n",
    "                        # 길이가 1인 단어\n",
    "                        if len(noun) == 1:\n",
    "                            stop_words.append(noun)\n",
    "                            \n",
    "                            continue\n",
    "                        # 숫자만으로 이루어진 단어\n",
    "                        elif is_number(noun):\n",
    "                            stop_words.append(noun)\n",
    "                            \n",
    "                            continue\n",
    "\n",
    "                        # 기본 불용어 선별 (섹션별)\n",
    "                        # TODO:\n",
    "#                         if section == 'society':\n",
    "#                             pass\n",
    "#                         elif section == 'politics':\n",
    "#                             pass\n",
    "#                         elif section == 'economic':\n",
    "#                             pass\n",
    "#                         elif section == 'culture':\n",
    "#                             pass\n",
    "#                         elif section == 'digital':\n",
    "#                             pass\n",
    "#                         elif section == 'global':\n",
    "#                             pass\n",
    "\n",
    "                        if noun in nouns_cnt.keys():\n",
    "                            nouns_cnt[noun] += 1\n",
    "                        else:\n",
    "                            nouns_cnt[noun] = 1\n",
    "\n",
    "                        if noun_max_cnt[a_id] < nouns_cnt[noun]:\n",
    "                            noun_max_cnt[a_id] = nouns_cnt[noun]\n",
    "                    \n",
    "                    # 기본 불용어 제거\n",
    "                    for stop_word in stop_words:\n",
    "                        nouns.remove(stop_word)\n",
    "\n",
    "                    nouns_temp.extend(nouns)\n",
    "                    nouns_temp = list(set(nouns_temp))\n",
    "\n",
    "                unique_nouns.extend(nouns_temp)\n",
    "                unique_nouns = list(set(unique_nouns))\n",
    "                \n",
    "#                 print('------------------------------\\n\\n')\n",
    "\n",
    "            a_nouns[a_id] = nouns_cnt\n",
    "\n",
    "        for noun in unique_nouns:\n",
    "            inverted_idx[noun] = []\n",
    "\n",
    "            for a_id, nouns in a_nouns.items():\n",
    "                if noun in nouns:\n",
    "                    inverted_idx[noun].append(a_id)\n",
    "                    \n",
    "        print('Start to write files.')\n",
    "    \n",
    "        if write:\n",
    "            with open('index/' + section + '_unique_nouns.csv', 'w', newline='') as f:\n",
    "                csv_writer = csv.writer(f)\n",
    "                csv_writer.writerow(unique_nouns)\n",
    "\n",
    "            with open('index/' + section + '_article_nouns.csv', 'w', newline='') as f:\n",
    "                csv_writer = csv.writer(f)\n",
    "                for a_id, nouns in a_nouns.items():\n",
    "                    csv_writer.writerow([a_id, nouns])\n",
    "#                     for noun in nouns:\n",
    "#                         csv_writer.writerow([a_id, noun])\n",
    "\n",
    "#             with open('index/' + section + '_noun_max_count.csv', 'w', newline='') as f:\n",
    "#                 csv_writer = csv.writer(f)\n",
    "#                 for a_id, max_cnt in noun_max_cnt.items():\n",
    "#                     csv_writer.writerow([a_id, max_cnt])\n",
    "\n",
    "            with open('index/' + section + '_inverted_index.csv', 'w', newline='') as f:\n",
    "                csv_writer = csv.writer(f)\n",
    "                for noun, a_ids in inverted_idx.items():\n",
    "                    csv_writer.writerow([noun, a_ids])\n",
    "\n",
    "            with open('index/' + section + '_unique_nouns.pkl', 'wb') as f:\n",
    "                pickle.dump(unique_nouns, f)\n",
    "\n",
    "            with open('index/' + section + '_article_nouns.pkl', 'wb') as f:\n",
    "                pickle.dump(a_nouns, f)\n",
    "\n",
    "            with open('index/' + section + '_noun_max_count.pkl', 'wb') as f:\n",
    "                pickle.dump(noun_max_cnt, f)\n",
    "                \n",
    "            with open('index/' + section + '_inverted_index.pkl', 'wb') as f:\n",
    "                pickle.dump(inverted_idx, f)\n",
    "\n",
    "        print('\\n--------------------------------------------------\\n\\n')"
   ]
  },
  {
   "cell_type": "code",
   "execution_count": 77,
   "metadata": {},
   "outputs": [
    {
     "name": "stdout",
     "output_type": "stream",
     "text": [
      "사회\n",
      "--------------------------------------------------\n",
      "\n",
      "     0 /    227\n",
      "   100 /    227\n",
      "   200 /    227\n",
      "Start to write files.\n",
      "\n",
      "--------------------------------------------------\n",
      "\n",
      "\n",
      "정치\n",
      "--------------------------------------------------\n",
      "\n",
      "     0 /    257\n",
      "   100 /    257\n",
      "   200 /    257\n",
      "Start to write files.\n",
      "\n",
      "--------------------------------------------------\n",
      "\n",
      "\n",
      "경제\n",
      "--------------------------------------------------\n",
      "\n",
      "     0 /    229\n",
      "   100 /    229\n",
      "   200 /    229\n",
      "Start to write files.\n",
      "\n",
      "--------------------------------------------------\n",
      "\n",
      "\n",
      "문화\n",
      "--------------------------------------------------\n",
      "\n",
      "     0 /    199\n",
      "   100 /    199\n",
      "Start to write files.\n",
      "\n",
      "--------------------------------------------------\n",
      "\n",
      "\n",
      "IT\n",
      "--------------------------------------------------\n",
      "\n",
      "     0 /    237\n",
      "   100 /    237\n",
      "   200 /    237\n",
      "Start to write files.\n",
      "\n",
      "--------------------------------------------------\n",
      "\n",
      "\n",
      "세계\n",
      "--------------------------------------------------\n",
      "\n",
      "     0 /     65\n",
      "Start to write files.\n",
      "\n",
      "--------------------------------------------------\n",
      "\n",
      "\n"
     ]
    }
   ],
   "source": [
    "inverted_index('daum', 'daum', write=True)\n",
    "# inverted_index('daum', 'daum', sections=['politics'], write=True)"
   ]
  },
  {
   "cell_type": "markdown",
   "metadata": {},
   "source": [
    "## [Debug] Extract Nouns and Index Articles\n",
    "---"
   ]
  },
  {
   "cell_type": "code",
   "execution_count": 19,
   "metadata": {},
   "outputs": [],
   "source": [
    "# 정치\n",
    "for section in section_list[1:2]:\n",
    "    with open('index/' + section + '_unique_nouns.pkl', 'rb') as f:\n",
    "        unique_nouns = pickle.load(f)\n",
    "    \n",
    "    with open('index/' + section + '_article_nouns.pkl', 'rb') as f:\n",
    "        a_nouns = pickle.load(f)\n",
    "        \n",
    "    with open('index/' + section + '_noun_max_count.pkl', 'rb') as f:\n",
    "        noun_max_cnt = pickle.load(f)\n",
    "        \n",
    "    with open('index/' + section + '_inverted_index.pkl', 'rb') as f:\n",
    "        inverted_idx = pickle.load(f)"
   ]
  },
  {
   "cell_type": "code",
   "execution_count": 20,
   "metadata": {},
   "outputs": [],
   "source": [
    "conn = sqlite3.connect('db/daum.db')\n",
    "cur = conn.cursor()"
   ]
  },
  {
   "cell_type": "code",
   "execution_count": 21,
   "metadata": {
    "scrolled": true
   },
   "outputs": [
    {
     "name": "stdout",
     "output_type": "stream",
     "text": [
      "da_20180822211258392 \n",
      "\n",
      "6·13 지방선거에 바른미래당 서울시장 후보로 나섰다가 참패한 뒤 독일 등 해외에 머물겠다고 했던 안철수 전 의원이 서울 마포구에서 포착됐다.\n",
      "아주경제는 지난 21일 마포구의 한 사무실에서 기자와 마주치자 도망치는 안 전 의원의 모습(사진)을 22일 공개했다. 이 매체가 공개한 동영상에는 안 전 의원이 기자를 피해 황급히 계단을 내려가는 장면이 담겼다. 기자가 “죄를 지으신 게 아니지 않느냐”며 거듭 취재를 요청했지만 안 전 의원은 일절 답하지 않고 계단 아래쪽으로 뛰어 내려갔다.\n",
      "지난달 12일 안 전 의원은 기자회견을 열고 “정치 일선에서 물러나 통찰과 채움의 시간을 갖고자 한다”며 “대한민국이 당면한 시대적 난제를 앞서 해결하고 있는 독일에서 해결의 실마리를 얻겠다”고 말했었다. 그런 그가 당대표 선거가 한창인 지금 서울에 머물고 있는 게 의아하다는 반응도 나온다.\n",
      "안 전 의원이 서울에서 포착됐다는 보도에 대해 이준석 바른미래당 당대표 후보는 페이스북에 “이런 상황에서 음험한 계략을 꾸미는 분이 아니고 도망가실 분도 아니다. 그냥 바쁘셔서 그러셨을 거다”라고 썼다.\n"
     ]
    }
   ],
   "source": [
    "cur.execute(\"SELECT a_ids, contents FROM daum WHERE sections = '정치'\")\n",
    "\n",
    "a_id, content = cur.fetchone()\n",
    "\n",
    "print(a_id, '\\n')\n",
    "print(content)"
   ]
  },
  {
   "cell_type": "code",
   "execution_count": 22,
   "metadata": {},
   "outputs": [
    {
     "data": {
      "text/plain": [
       "8198"
      ]
     },
     "execution_count": 22,
     "metadata": {},
     "output_type": "execute_result"
    }
   ],
   "source": [
    "unique_nouns.sort()\n",
    "\n",
    "len(unique_nouns)"
   ]
  },
  {
   "cell_type": "code",
   "execution_count": 37,
   "metadata": {},
   "outputs": [
    {
     "data": {
      "text/plain": [
       "['0.2㎜',\n",
       " '0.4㎜',\n",
       " '0.6㎜',\n",
       " '0.86배',\n",
       " '0.95배',\n",
       " '08월',\n",
       " '1.43배',\n",
       " '1.4배',\n",
       " '1.5배',\n",
       " '10.5㎜']"
      ]
     },
     "execution_count": 37,
     "metadata": {},
     "output_type": "execute_result"
    }
   ],
   "source": [
    "unique_nouns[0:10]"
   ]
  },
  {
   "cell_type": "code",
   "execution_count": 24,
   "metadata": {},
   "outputs": [
    {
     "data": {
      "text/plain": [
       "257"
      ]
     },
     "execution_count": 24,
     "metadata": {},
     "output_type": "execute_result"
    }
   ],
   "source": [
    "len(a_nouns)"
   ]
  },
  {
   "cell_type": "code",
   "execution_count": 47,
   "metadata": {
    "scrolled": true
   },
   "outputs": [
    {
     "name": "stdout",
     "output_type": "stream",
     "text": [
      "da_20180822211258392\n",
      "Max count:  6\n",
      "------------------------------\n",
      "\n",
      "계단 : 2\n",
      "공개 : 2\n",
      "기자 : 3\n",
      "당대표 : 2\n",
      "대표 : 2\n",
      "독일 : 2\n",
      "마포 : 2\n",
      "마포구 : 2\n",
      "미래 : 2\n",
      "미래당 : 2\n",
      "서울 : 4\n",
      "의원 : 6\n",
      "포착 : 2\n",
      "해결 : 2\n",
      "후보 : 2\n",
      "\n",
      "------------------------------\n",
      "\n",
      "\n"
     ]
    }
   ],
   "source": [
    "for a_id, nouns in a_nouns.items():\n",
    "    print(a_id)\n",
    "    print('Max count: ', noun_max_cnt[a_id])\n",
    "    print('------------------------------\\n')\n",
    "    \n",
    "    keys = list(nouns.keys())\n",
    "    keys.sort()\n",
    "    \n",
    "    for k in keys:\n",
    "        # 두 번 이상 나온 단어만 출력\n",
    "        if nouns[k] >= 2:\n",
    "            print('{0} : {1:,}'.format(k, nouns[k]))\n",
    "        else:\n",
    "#             print('{0} : {1:,}'.format(k, nouns[k]))\n",
    "            pass\n",
    "    \n",
    "    print('\\n------------------------------\\n\\n')\n",
    "    \n",
    "    break"
   ]
  },
  {
   "cell_type": "code",
   "execution_count": 48,
   "metadata": {},
   "outputs": [
    {
     "name": "stdout",
     "output_type": "stream",
     "text": [
      "10시 : 11\n",
      "제안 : 13\n",
      "기관 : 35\n",
      "조카 : 10\n",
      "박자 : 10\n",
      "압박 : 19\n",
      "여동생 : 13\n",
      "국방 : 26\n",
      "방안 : 35\n",
      "마련 : 28\n"
     ]
    }
   ],
   "source": [
    "cnt = 0\n",
    "\n",
    "for noun, a_ids in inverted_idx.items():\n",
    "    if cnt == 10:\n",
    "        break\n",
    "    \n",
    "    # 전체 기사에서 10번 이상 나온 단어만 출력 (10개)\n",
    "    if len(a_ids) >= 10:\n",
    "        print('{0} : {1:,}'.format(noun, len(a_ids)))\n",
    "        \n",
    "        cnt += 1\n",
    "    else:\n",
    "#         print('{0} : {1:,}'.format(noun, len(a_ids)))\n",
    "        pass"
   ]
  },
  {
   "cell_type": "markdown",
   "metadata": {},
   "source": [
    "## 불용어 제거\n",
    "---"
   ]
  },
  {
   "cell_type": "code",
   "execution_count": null,
   "metadata": {},
   "outputs": [],
   "source": []
  },
  {
   "cell_type": "code",
   "execution_count": null,
   "metadata": {},
   "outputs": [],
   "source": [
    "def NewsStopWord(word):\n",
    "    try:\n",
    "        int(word) #숫자일경우\n",
    "    except:        \n",
    "        if type(word) is str and word.__contains__('일'):\n",
    "            return True\n",
    "        if type(word) is str and word.__contains__('회차'):\n",
    "            return True\n",
    "        if len(word) == 1:\n",
    "            # 한글자 빠짐\n",
    "            return True\n",
    "        if re.search(r'\\d{4}.\\d{1,2}',word) != None:\n",
    "            # 2018.12... \n",
    "            return True\n",
    "        if re.match(r'\\d{1,2}월',word) != None:\n",
    "            return True\n",
    "        if re.match(r'\\d{1,2}년',word) != None:\n",
    "            return True\n",
    "        \n",
    "        newsDic = {\"기자\":1,\"배포\":1,\"금지\":1,\"뉴스\":1,\"저작권자\":1,\n",
    "                   \"기사\":1,\"전재\":1,\"무단\":1,\"무단전재\":1,\"구독\":1,\"기사보기\":1}\n",
    "        \n",
    "        pressDic = {'연합뉴스':1,'뉴시스':1,'뉴시스통신사':1,'통신사':1,\n",
    "                    '이데일리':1,'네이버':1,'다음':1,'시스':1,'뉴스1':1,'뉴스1코리':1}\n",
    "        \n",
    "        nothingDic = {'사진':1,'페이스북':1,'관련':1,'웹툰보기':1,'가기':1,'만큼':1,\n",
    "                     '최근':1,'재인':1,'올해':1,'시간':1,'판단':1,'추진':1,'우리':1,'반영':1,\n",
    "                      '상황':1,'호텔':1,'운영':1,'주요':1,'적극':1,'대상':1,'때문':1,\n",
    "                      '확인':1,'가능':1,'이야기':1,'규모':1,'개월':1,'종합':1,'위원회':1,\n",
    "                      '가운데':1,'분석':1,'다양':1,'문제':1,'기간':1,'마련':1,'지난해':1,'신청':1,'한편':1,'기준':1,\n",
    "                      '내용':1,'채널설정':1,'경우':1,'방안':1,'활용':1,'여러분':1,'기존':1,'최대':1,'스냅':1,'오전':1,'대비':1,\n",
    "                      '위원','지난달':1,'이번달':1,'다음달':1,'위원장':1,'센터':1,'포함':1,'등에':1,'사진영상부':1,\n",
    "                      '구성':1,'수준':1,'기대':1,'공동':1,'안내':1,'활동':1,'첫날':1,'추가':1,'분야':1,'관리':1,\n",
    "                      '동안':1,'이용':1,'모습':1,'오늘':1,\n",
    "                     }\n",
    "        \"\"\"  \n",
    "        논의, 입장, 업계, 내년, 블록, 체인, 실시간, 고객, 채널, 보기, 오후, 이번, 이날, 진행, 제공, 예정, 연합, 대표, 제보, 이상, 지원, 행사, 관계자, 설정, 계획, 단체, 타임, 이후, 발표 \n",
    "        \"\"\"\n",
    "        if word in newsDic.keys() or word in pressDic.keys() or word in nothingDic.keys():\n",
    "            return True\n",
    "        return False\n",
    "    else:\n",
    "        return True"
   ]
  },
  {
   "cell_type": "markdown",
   "metadata": {},
   "source": [
    "## TF-IDF\n",
    "---\n",
    "\n",
    "* Parameters"
   ]
  },
  {
   "cell_type": "code",
   "execution_count": 49,
   "metadata": {},
   "outputs": [],
   "source": [
    "k_ratio = 0.5"
   ]
  },
  {
   "cell_type": "code",
   "execution_count": 50,
   "metadata": {
    "scrolled": true
   },
   "outputs": [
    {
     "data": {
      "text/plain": [
       "257"
      ]
     },
     "execution_count": 50,
     "metadata": {},
     "output_type": "execute_result"
    }
   ],
   "source": [
    "a_tf = {}\n",
    "\n",
    "for a_id, nouns in a_nouns.items():\n",
    "    tf_temp = {}\n",
    "    \n",
    "    for noun in nouns:\n",
    "        # Double normalization K\n",
    "        tf_temp[noun] = k_ratio + (1-  k_ratio) * (nouns[noun] / noun_max_cnt[a_id])\n",
    "        \n",
    "#         print(\"{0} | {1} + {2} * ({3} / {4}) = {5}\".format(noun, k_ratio, (1 - k_ratio), nouns[noun], noun_max_cnt[a_id], tf_temp[noun]))\n",
    "    \n",
    "    a_tf[a_id] = tf_temp\n",
    "    \n",
    "#     break\n",
    "\n",
    "len(a_tf)"
   ]
  },
  {
   "cell_type": "code",
   "execution_count": 59,
   "metadata": {
    "scrolled": true
   },
   "outputs": [],
   "source": [
    "# a_tf[tuple(a_tf.keys())[0]]"
   ]
  },
  {
   "cell_type": "code",
   "execution_count": 52,
   "metadata": {},
   "outputs": [
    {
     "data": {
      "text/plain": [
       "257"
      ]
     },
     "execution_count": 52,
     "metadata": {},
     "output_type": "execute_result"
    }
   ],
   "source": [
    "a_size = len(a_tf)\n",
    "a_tfidf = {}\n",
    "\n",
    "for noun, a_ids in inverted_idx.items():\n",
    "    for a_id in a_ids:\n",
    "        tfidf_temp = {}\n",
    "        \n",
    "        for noun in a_tf[a_id]:\n",
    "            tfidf_temp[noun] = a_tf[a_id][noun] * log10(a_size / len(a_ids))\n",
    "        \n",
    "#             print(\"{0} | {1} * log({2} / {3}) = {4}\".format(noun, a_tf[a_id][noun], a_size, len(a_ids), tfidf_temp[noun]))\n",
    "        \n",
    "        a_tfidf[a_id] = tfidf_temp\n",
    "        \n",
    "#         break\n",
    "        \n",
    "len(a_tfidf)"
   ]
  },
  {
   "cell_type": "code",
   "execution_count": 60,
   "metadata": {},
   "outputs": [],
   "source": [
    "# a_tfidf[tuple(a_tfidf.keys())[0]]"
   ]
  },
  {
   "cell_type": "markdown",
   "metadata": {},
   "source": [
    "## [Debug] TF-IDF\n",
    "---"
   ]
  },
  {
   "cell_type": "code",
   "execution_count": 57,
   "metadata": {},
   "outputs": [
    {
     "name": "stdout",
     "output_type": "stream",
     "text": [
      "da_20180822211258392 \n",
      "\n",
      "6·13 지방선거에 바른미래당 서울시장 후보로 나섰다가 참패한 뒤 독일 등 해외에 머물겠다고 했던 안철수 전 의원이 서울 마포구에서 포착됐다.\n",
      "아주경제는 지난 21일 마포구의 한 사무실에서 기자와 마주치자 도망치는 안 전 의원의 모습(사진)을 22일 공개했다. 이 매체가 공개한 동영상에는 안 전 의원이 기자를 피해 황급히 계단을 내려가는 장면이 담겼다. 기자가 “죄를 지으신 게 아니지 않느냐”며 거듭 취재를 요청했지만 안 전 의원은 일절 답하지 않고 계단 아래쪽으로 뛰어 내려갔다.\n",
      "지난달 12일 안 전 의원은 기자회견을 열고 “정치 일선에서 물러나 통찰과 채움의 시간을 갖고자 한다”며 “대한민국이 당면한 시대적 난제를 앞서 해결하고 있는 독일에서 해결의 실마리를 얻겠다”고 말했었다. 그런 그가 당대표 선거가 한창인 지금 서울에 머물고 있는 게 의아하다는 반응도 나온다.\n",
      "안 전 의원이 서울에서 포착됐다는 보도에 대해 이준석 바른미래당 당대표 후보는 페이스북에 “이런 상황에서 음험한 계략을 꾸미는 분이 아니고 도망가실 분도 아니다. 그냥 바쁘셔서 그러셨을 거다”라고 썼다.\n"
     ]
    }
   ],
   "source": [
    "cur.execute(\"SELECT a_ids, contents FROM daum WHERE sections = '정치'\")\n",
    "\n",
    "a_id, content = cur.fetchone()\n",
    "\n",
    "print(a_id, '\\n')\n",
    "print(content)"
   ]
  },
  {
   "cell_type": "code",
   "execution_count": 76,
   "metadata": {
    "scrolled": true
   },
   "outputs": [
    {
     "name": "stdout",
     "output_type": "stream",
     "text": [
      "\tTF\tIDF\n",
      "지방:\n",
      "\t 0.583  1.406\n",
      "지방선거:\n",
      "\t 0.583  1.406\n",
      "선거:\n",
      "\t 0.583  1.406\n",
      "미래:\n",
      "\t 0.667  1.607\n",
      "미래당:\n",
      "\t 0.667  1.607\n",
      "서울:\n",
      "\t 0.833  2.008\n",
      "서울시장:\n",
      "\t 0.583  1.406\n",
      "시장:\n",
      "\t 0.583  1.406\n",
      "후보:\n",
      "\t 0.667  1.607\n",
      "참패:\n",
      "\t 0.583  1.406\n",
      "독일:\n",
      "\t 0.667  1.607\n",
      "해외:\n",
      "\t 0.583  1.406\n",
      "안철수:\n",
      "\t 0.583  1.406\n",
      "철수:\n",
      "\t 0.583  1.406\n",
      "의원:\n",
      "\t   1.0   2.41\n",
      "마포:\n",
      "\t 0.667  1.607\n",
      "마포구:\n",
      "\t 0.667  1.607\n",
      "포착:\n",
      "\t 0.667  1.607\n",
      "경제:\n",
      "\t 0.583  1.406\n",
      "21일:\n",
      "\t 0.583  1.406\n",
      "사무실:\n",
      "\t 0.583  1.406\n",
      "기자:\n",
      "\t  0.75  1.807\n",
      "모습:\n",
      "\t 0.583  1.406\n",
      "사진:\n",
      "\t 0.583  1.406\n",
      "22일:\n",
      "\t 0.583  1.406\n",
      "공개:\n",
      "\t 0.667  1.607\n",
      "동영상:\n",
      "\t 0.583  1.406\n",
      "피해:\n",
      "\t 0.583  1.406\n",
      "계단:\n",
      "\t 0.667  1.607\n",
      "장면:\n",
      "\t 0.583  1.406\n",
      "취재:\n",
      "\t 0.583  1.406\n",
      "요청:\n",
      "\t 0.583  1.406\n",
      "아래쪽:\n",
      "\t 0.583  1.406\n",
      "지난달:\n",
      "\t 0.583  1.406\n",
      "12일:\n",
      "\t 0.583  1.406\n",
      "기자회견:\n",
      "\t 0.583  1.406\n",
      "회견:\n",
      "\t 0.583  1.406\n",
      "정치:\n",
      "\t 0.583  1.406\n",
      "일선:\n",
      "\t 0.583  1.406\n",
      "통찰:\n",
      "\t 0.583  1.406\n",
      "시간:\n",
      "\t 0.583  1.406\n",
      "대한:\n",
      "\t 0.583  1.406\n",
      "대한민국:\n",
      "\t 0.583  1.406\n",
      "민국:\n",
      "\t 0.583  1.406\n",
      "당면:\n",
      "\t 0.583  1.406\n",
      "시대적:\n",
      "\t 0.583  1.406\n",
      "난제:\n",
      "\t 0.583  1.406\n",
      "해결:\n",
      "\t 0.667  1.607\n",
      "실마리:\n",
      "\t 0.583  1.406\n",
      "당대표:\n",
      "\t 0.667  1.607\n",
      "대표:\n",
      "\t 0.667  1.607\n",
      "한창:\n",
      "\t 0.583  1.406\n",
      "지금:\n",
      "\t 0.583  1.406\n",
      "의아:\n",
      "\t 0.583  1.406\n",
      "의아하다:\n",
      "\t 0.583  1.406\n",
      "하다:\n",
      "\t 0.583  1.406\n",
      "반응:\n",
      "\t 0.583  1.406\n",
      "보도:\n",
      "\t 0.583  1.406\n",
      "준석:\n",
      "\t 0.583  1.406\n",
      "페이스북:\n",
      "\t 0.583  1.406\n",
      "상황:\n",
      "\t 0.583  1.406\n",
      "계략:\n",
      "\t 0.583  1.406\n"
     ]
    }
   ],
   "source": [
    "print('\\tTF\\tIDF')\n",
    "for noun in a_tf[a_id].keys():\n",
    "    print('{0}:\\n\\t{1:6.3} {2:6.4}'.format(noun, a_tf[a_id][noun], a_tfidf[a_id][noun]))"
   ]
  },
  {
   "cell_type": "code",
   "execution_count": null,
   "metadata": {},
   "outputs": [],
   "source": []
  },
  {
   "cell_type": "code",
   "execution_count": null,
   "metadata": {},
   "outputs": [],
   "source": []
  },
  {
   "cell_type": "code",
   "execution_count": null,
   "metadata": {},
   "outputs": [],
   "source": []
  },
  {
   "cell_type": "code",
   "execution_count": null,
   "metadata": {},
   "outputs": [],
   "source": []
  },
  {
   "cell_type": "code",
   "execution_count": null,
   "metadata": {},
   "outputs": [],
   "source": []
  },
  {
   "cell_type": "markdown",
   "metadata": {},
   "source": [
    "## ?\n",
    "---"
   ]
  },
  {
   "cell_type": "code",
   "execution_count": 189,
   "metadata": {},
   "outputs": [],
   "source": [
    "def merge(arrA, arrB, ary):\n",
    "    iA = 0;\n",
    "    iB = 0;\n",
    "    idx = 0;\n",
    "\n",
    "    while iA < len(arrA):\n",
    "        if iB < len(arrB):\n",
    "            if arrA[iA] < arrB[iB]:\n",
    "                ary[idx] = arrA[iA]\n",
    "                iA+=1\n",
    "            else:\n",
    "                ary[idx] = arrB[iB]\n",
    "                iB+=1\n",
    "            idx+=1\n",
    "\n",
    "        else:\n",
    "            while iA < len(arrA):\n",
    "                ary[idx] = arrA[iA]\n",
    "                iA+=1\n",
    "                idx+=1\n",
    "\n",
    "    while iB < len(arrB):\n",
    "        ary[idx] = arrB[iB]\n",
    "        iB+=1\n",
    "        idx+=1\n",
    "\n",
    "def mergeSort(ary):\n",
    "    n = len(ary)\n",
    "    if n==1: return;\n",
    "    \n",
    "    ary_temp1 = {}\n",
    "    ary_temp2 = {}\n",
    "    \n",
    "    for i in range(int(n/2)):\n",
    "        for k,v in ary.items():\n",
    "            ary_temp1[k] = v\n",
    "\n",
    "    for i in range(n-int(n/2)):\n",
    "        for k,v in ary.items():\n",
    "            ary_temp1[k] = v\n",
    "    \n",
    "    mergeSort(ary_temp1);\n",
    "    mergeSort(ary_temp2);\n",
    "\n",
    "    merge(ary_temp1, ary_temp2, ary)"
   ]
  }
 ],
 "metadata": {
  "kernelspec": {
   "display_name": "Python 3",
   "language": "python",
   "name": "python3"
  },
  "language_info": {
   "codemirror_mode": {
    "name": "ipython",
    "version": 3
   },
   "file_extension": ".py",
   "mimetype": "text/x-python",
   "name": "python",
   "nbconvert_exporter": "python",
   "pygments_lexer": "ipython3",
   "version": "3.6.5"
  }
 },
 "nbformat": 4,
 "nbformat_minor": 2
}
