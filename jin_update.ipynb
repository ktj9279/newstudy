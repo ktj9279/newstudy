{
 "cells": [
  {
   "cell_type": "markdown",
   "metadata": {},
   "source": [
    "# Update\n",
    "---"
   ]
  },
  {
   "cell_type": "code",
   "execution_count": 1,
   "metadata": {},
   "outputs": [],
   "source": [
    "import pickle\n",
    "import sqlite3"
   ]
  },
  {
   "cell_type": "markdown",
   "metadata": {},
   "source": [
    "## Insert Data into Term (date)\n",
    "---"
   ]
  },
  {
   "cell_type": "code",
   "execution_count": 7,
   "metadata": {},
   "outputs": [
    {
     "name": "stdout",
     "output_type": "stream",
     "text": [
      "12830024\n",
      "         0 / 12,830,024\n"
     ]
    },
    {
     "ename": "KeyboardInterrupt",
     "evalue": "",
     "output_type": "error",
     "traceback": [
      "\u001b[1;31m---------------------------------------------------------------------------\u001b[0m",
      "\u001b[1;31mKeyboardInterrupt\u001b[0m                         Traceback (most recent call last)",
      "\u001b[1;32m<ipython-input-7-8331db23b42a>\u001b[0m in \u001b[0;36m<module>\u001b[1;34m()\u001b[0m\n\u001b[0;32m     25\u001b[0m \u001b[1;33m\u001b[0m\u001b[0m\n\u001b[0;32m     26\u001b[0m     \u001b[0mcur\u001b[0m\u001b[1;33m.\u001b[0m\u001b[0mexecute\u001b[0m\u001b[1;33m(\u001b[0m\u001b[1;34m\"INSERT INTO Term(date)                 VALUES('{0}')\"\u001b[0m\u001b[1;33m.\u001b[0m\u001b[0mformat\u001b[0m\u001b[1;33m(\u001b[0m\u001b[0mdate\u001b[0m\u001b[1;33m)\u001b[0m\u001b[1;33m)\u001b[0m\u001b[1;33m\u001b[0m\u001b[0m\n\u001b[1;32m---> 27\u001b[1;33m     \u001b[0mconn\u001b[0m\u001b[1;33m.\u001b[0m\u001b[0mcommit\u001b[0m\u001b[1;33m(\u001b[0m\u001b[1;33m)\u001b[0m\u001b[1;33m\u001b[0m\u001b[0m\n\u001b[0m\u001b[0;32m     28\u001b[0m \u001b[1;32melse\u001b[0m\u001b[1;33m:\u001b[0m\u001b[1;33m\u001b[0m\u001b[0m\n\u001b[0;32m     29\u001b[0m     \u001b[1;32mpass\u001b[0m\u001b[1;33m\u001b[0m\u001b[0m\n",
      "\u001b[1;31mKeyboardInterrupt\u001b[0m: "
     ]
    }
   ],
   "source": [
    "conn = sqlite3.connect('db/news_db_UTerm1200.db')\n",
    "cur = conn.cursor()\n",
    "\n",
    "try:\n",
    "    cur.execute(\"ALTER TABLE Term ADD date DATE\")\n",
    "    cur.commit()\n",
    "except:\n",
    "    pass\n",
    "    \n",
    "cur.execute(\"SELECT Article.a_id, Article.date \\\n",
    "            FROM Article \\\n",
    "            INNER JOIN Term USING(a_id)\")\n",
    "data = cur.fetchall()\n",
    "\n",
    "print(len(data))\n",
    "\n",
    "for data_idx, d in enumerate(data):\n",
    "    if (data_idx % 1000000) == 0:\n",
    "        print('{0:10,} / {1:10,}'.format(data_idx, len(data)))\n",
    "        \n",
    "    a_id = d[0]\n",
    "    date = d[1]\n",
    "\n",
    "#     cur.execute(\"UPDATE Term \\\n",
    "#                 SET date = '{0}' \\\n",
    "#                 WHERE a_id = '{1}'\".format(date, a_id))\n",
    "\n",
    "    cur.execute(\"INSERT INTO Term(date) \\\n",
    "                VALUES('{0}')\".format(date))\n",
    "    conn.commit()\n",
    "else:\n",
    "    pass"
   ]
  },
  {
   "cell_type": "code",
   "execution_count": 8,
   "metadata": {},
   "outputs": [],
   "source": [
    "cur.execute(\"SELECT * FROM Term LIMIT 10\")\n",
    "data = cur.fetchall()"
   ]
  },
  {
   "cell_type": "code",
   "execution_count": 6,
   "metadata": {},
   "outputs": [
    {
     "data": {
      "text/plain": [
       "[('da_20180823235953274', '2018-08-23'),\n",
       " ('da_20180823235953274', '2018-08-23'),\n",
       " ('da_20180823235953274', '2018-08-23'),\n",
       " ('da_20180823235953274', '2018-08-23'),\n",
       " ('da_20180823235953274', '2018-08-23'),\n",
       " ('da_20180823235953274', '2018-08-23'),\n",
       " ('da_20180823235953274', '2018-08-23'),\n",
       " ('da_20180823235953274', '2018-08-23'),\n",
       " ('da_20180823235953274', '2018-08-23'),\n",
       " ('da_20180823235953274', '2018-08-23')]"
      ]
     },
     "execution_count": 6,
     "metadata": {},
     "output_type": "execute_result"
    }
   ],
   "source": [
    "d1 = data[:10]\n",
    "\n",
    "d1"
   ]
  },
  {
   "cell_type": "code",
   "execution_count": 14,
   "metadata": {},
   "outputs": [
    {
     "name": "stdout",
     "output_type": "stream",
     "text": [
      "('da_20180823235953274', '화재', 0.7777777777777778, 1.2092564139500015, None, '2018-08-23')\n",
      "('da_20180823235953274', '화재원인', 0.5555555555555556, 1.4911878885920484, None, '2018-08-23')\n",
      "('da_20180823235953274', '원인', 0.6111111111111112, 0.7773850856156119, None, '2018-08-23')\n",
      "('da_20180823235953274', '어디', 0.5555555555555556, 0.9463765263408714, None, '2018-08-23')\n",
      "('da_20180823235953274', '인천', 0.7222222222222222, 1.035930113593911, None, '2018-08-23')\n",
      "('da_20180823235953274', '윤태현', 0.5555555555555556, 1.8898096703919085, None, '2018-08-23')\n",
      "('da_20180823235953274', '태현', 0.5555555555555556, 1.6731590709470407, None, '2018-08-23')\n",
      "('da_20180823235953274', '인천시', 0.5555555555555556, 1.1807803048013898, None, '2018-08-23')\n",
      "('da_20180823235953274', '남동', 0.6666666666666666, 1.4401343260193438, None, '2018-08-23')\n",
      "('da_20180823235953274', '남동구', 0.6111111111111112, 1.545644368571077, None, '2018-08-23')\n"
     ]
    }
   ],
   "source": [
    "for i in range(len(d1)):\n",
    "    d = d2[i][1:] + d1[i][-1:]\n",
    "    print(d)"
   ]
  },
  {
   "cell_type": "code",
   "execution_count": 9,
   "metadata": {},
   "outputs": [
    {
     "data": {
      "text/plain": [
       "[(1,\n",
       "  'da_20180823235953274',\n",
       "  '화재',\n",
       "  0.7777777777777778,\n",
       "  1.2092564139500015,\n",
       "  None),\n",
       " (2,\n",
       "  'da_20180823235953274',\n",
       "  '화재원인',\n",
       "  0.5555555555555556,\n",
       "  1.4911878885920484,\n",
       "  None),\n",
       " (3,\n",
       "  'da_20180823235953274',\n",
       "  '원인',\n",
       "  0.6111111111111112,\n",
       "  0.7773850856156119,\n",
       "  None),\n",
       " (4,\n",
       "  'da_20180823235953274',\n",
       "  '어디',\n",
       "  0.5555555555555556,\n",
       "  0.9463765263408714,\n",
       "  None),\n",
       " (5,\n",
       "  'da_20180823235953274',\n",
       "  '인천',\n",
       "  0.7222222222222222,\n",
       "  1.035930113593911,\n",
       "  None),\n",
       " (6,\n",
       "  'da_20180823235953274',\n",
       "  '윤태현',\n",
       "  0.5555555555555556,\n",
       "  1.8898096703919085,\n",
       "  None),\n",
       " (7,\n",
       "  'da_20180823235953274',\n",
       "  '태현',\n",
       "  0.5555555555555556,\n",
       "  1.6731590709470407,\n",
       "  None),\n",
       " (8,\n",
       "  'da_20180823235953274',\n",
       "  '인천시',\n",
       "  0.5555555555555556,\n",
       "  1.1807803048013898,\n",
       "  None),\n",
       " (9,\n",
       "  'da_20180823235953274',\n",
       "  '남동',\n",
       "  0.6666666666666666,\n",
       "  1.4401343260193438,\n",
       "  None),\n",
       " (10,\n",
       "  'da_20180823235953274',\n",
       "  '남동구',\n",
       "  0.6111111111111112,\n",
       "  1.545644368571077,\n",
       "  None)]"
      ]
     },
     "execution_count": 9,
     "metadata": {},
     "output_type": "execute_result"
    }
   ],
   "source": [
    "d2 = data\n",
    "\n",
    "d2"
   ]
  },
  {
   "cell_type": "markdown",
   "metadata": {},
   "source": [
    "## 새로 크롤링한 데이터를 기존 DB에 insert\n",
    "---\n",
    "\n",
    "* 이렇게 할 필요 없이 크롤링할 때 기존 DB에 바로 insert"
   ]
  },
  {
   "cell_type": "code",
   "execution_count": null,
   "metadata": {},
   "outputs": [],
   "source": []
  },
  {
   "cell_type": "code",
   "execution_count": null,
   "metadata": {},
   "outputs": [],
   "source": []
  },
  {
   "cell_type": "code",
   "execution_count": null,
   "metadata": {},
   "outputs": [],
   "source": []
  },
  {
   "cell_type": "code",
   "execution_count": null,
   "metadata": {},
   "outputs": [],
   "source": []
  },
  {
   "cell_type": "code",
   "execution_count": null,
   "metadata": {},
   "outputs": [],
   "source": []
  },
  {
   "cell_type": "code",
   "execution_count": null,
   "metadata": {},
   "outputs": [],
   "source": []
  },
  {
   "cell_type": "code",
   "execution_count": null,
   "metadata": {},
   "outputs": [],
   "source": []
  },
  {
   "cell_type": "markdown",
   "metadata": {},
   "source": [
    "## 쿼리"
   ]
  },
  {
   "cell_type": "code",
   "execution_count": null,
   "metadata": {},
   "outputs": [],
   "source": [
    "term_to_find = 'x'\n",
    "\n",
    "# Term에서 term = x에 해당하는 record 가져오기\n",
    "cur.execute(f\"SELECT a_t_id, a_id, tfidf \\\n",
    "            From Term \\\n",
    "            WHERE term = '{term_to_find}'\")\n",
    "\n",
    "# SELECT a_t_id, a_id, tfidf             From Term             WHERE term = '화재'"
   ]
  }
 ],
 "metadata": {
  "kernelspec": {
   "display_name": "Python 3",
   "language": "python",
   "name": "python3"
  },
  "language_info": {
   "codemirror_mode": {
    "name": "ipython",
    "version": 3
   },
   "file_extension": ".py",
   "mimetype": "text/x-python",
   "name": "python",
   "nbconvert_exporter": "python",
   "pygments_lexer": "ipython3",
   "version": "3.6.5"
  }
 },
 "nbformat": 4,
 "nbformat_minor": 2
}
