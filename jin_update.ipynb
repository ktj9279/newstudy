{
 "cells": [
  {
   "cell_type": "markdown",
   "metadata": {},
   "source": [
    "# Update\n",
    "---"
   ]
  },
  {
   "cell_type": "code",
   "execution_count": 1,
   "metadata": {},
   "outputs": [],
   "source": [
    "import pickle\n",
    "import sqlite3"
   ]
  },
  {
   "cell_type": "markdown",
   "metadata": {},
   "source": [
    "## Insert Data into Term (date)\n",
    "---"
   ]
  },
  {
   "cell_type": "code",
   "execution_count": 2,
   "metadata": {},
   "outputs": [],
   "source": [
    "conn = sqlite3.connect('db/news_db.db')\n",
    "cur = conn.cursor()\n",
    "\n",
    "cur.execute(\"SELECT * FROM Term\")\n",
    "data1 = cur.fetchall()\n",
    "\n",
    "cur.execute(\"SELECT Article.a_id, Article.date \\\n",
    "            FROM Article \\\n",
    "            INNER JOIN Term USING(a_id)\")\n",
    "data2 = cur.fetchall()\n",
    "\n",
    "cur.execute(\"DELETE FROM Term\")\n",
    "conn.commit()\n",
    "\n",
    "cur.execute(\"ALTER TABLE Term ADD date DATE\")\n",
    "conn.commit()\n",
    "\n",
    "for i in range(len(data1)):\n",
    "    record = data1[i][1:] + data2[i][-1:]\n",
    "#     if (data_idx % 1000000) == 0:\n",
    "#         print('{0:10,} / {1:10,}'.format(data_idx, len(data)))\n",
    "\n",
    "    cur.execute(\"INSERT INTO Term(a_id, term, tf_article, tfidf, date) \\\n",
    "                VALUES(?, ?, ?, ?, ?)\", record)\n",
    "else:\n",
    "    conn.commit()"
   ]
  },
  {
   "cell_type": "code",
   "execution_count": 28,
   "metadata": {},
   "outputs": [
    {
     "name": "stdout",
     "output_type": "stream",
     "text": [
      "('da_20180823235953274', '화재', 0.7777777777777778, 1.2092564139500015, '2018-08-23')\n",
      "('da_20180823235953274', '화재원인', 0.5555555555555556, 1.4911878885920484, '2018-08-23')\n",
      "('da_20180823235953274', '원인', 0.6111111111111112, 0.7773850856156119, '2018-08-23')\n",
      "('da_20180823235953274', '어디', 0.5555555555555556, 0.9463765263408714, '2018-08-23')\n",
      "('da_20180823235953274', '인천', 0.7222222222222222, 1.035930113593911, '2018-08-23')\n",
      "('da_20180823235953274', '윤태현', 0.5555555555555556, 1.8898096703919085, '2018-08-23')\n",
      "('da_20180823235953274', '태현', 0.5555555555555556, 1.6731590709470407, '2018-08-23')\n",
      "('da_20180823235953274', '인천시', 0.5555555555555556, 1.1807803048013898, '2018-08-23')\n",
      "('da_20180823235953274', '남동', 0.6666666666666666, 1.4401343260193438, '2018-08-23')\n",
      "('da_20180823235953274', '남동구', 0.6111111111111112, 1.545644368571077, '2018-08-23')\n",
      "('da_20180823235953274', '논현', 0.6111111111111112, 1.5891582985991155, '2018-08-23')\n"
     ]
    }
   ],
   "source": [
    "for i in range(len(data1)):\n",
    "    record = data1[i][1:] + data2[i][-1:]\n",
    "    print(record)\n",
    "    \n",
    "    if i == 10:\n",
    "        break"
   ]
  },
  {
   "cell_type": "code",
   "execution_count": 24,
   "metadata": {},
   "outputs": [],
   "source": [
    "try:\n",
    "    cur.execute(\"ALTER TABLE Term ADD date DATE\")\n",
    "    cur.commit()\n",
    "except:\n",
    "    pass\n",
    "\n",
    "for i in range(len(data1)):\n",
    "    record = data1[i][1:] + data2[i][-1:]\n",
    "#     if (data_idx % 1000000) == 0:\n",
    "#         print('{0:10,} / {1:10,}'.format(data_idx, len(data)))\n",
    "\n",
    "    cur.execute(\"INSERT INTO Term(a_id, term, tf_article, tfidf, date) \\\n",
    "                VALUES(?, ?, ?, ?, ?)\", record)\n",
    "else:\n",
    "    conn.commit()"
   ]
  },
  {
   "cell_type": "markdown",
   "metadata": {},
   "source": [
    "## 새로 크롤링한 데이터를 기존 DB에 insert\n",
    "---\n",
    "\n",
    "* 원래는 이렇게 할 필요 없이 크롤링할 때 기존 DB에 바로 insert"
   ]
  },
  {
   "cell_type": "code",
   "execution_count": 3,
   "metadata": {},
   "outputs": [],
   "source": [
    "conn = sqlite3.connect('db/news_db_new.db')\n",
    "cur = conn.cursor()\n",
    "\n",
    "cur.execute(\"SELECT * FROM Article\")\n",
    "data = cur.fetchall()"
   ]
  },
  {
   "cell_type": "code",
   "execution_count": 6,
   "metadata": {},
   "outputs": [],
   "source": [
    "conn = sqlite3.connect('db/news_db.db')\n",
    "cur = conn.cursor()\n",
    "\n",
    "for record in data:\n",
    "    cur.execute(\"INSERT INTO Article(a_id, date, time, title, content, press, author, section, url) \\\n",
    "                VALUES(?,?,?,?,?,?,?,?,?)\", record)\n",
    "else:\n",
    "    conn.commit()"
   ]
  },
  {
   "cell_type": "code",
   "execution_count": 4,
   "metadata": {},
   "outputs": [
    {
     "data": {
      "text/plain": [
       "32812"
      ]
     },
     "execution_count": 4,
     "metadata": {},
     "output_type": "execute_result"
    }
   ],
   "source": [
    "print(data)"
   ]
  },
  {
   "cell_type": "markdown",
   "metadata": {},
   "source": [
    "## \n",
    "---"
   ]
  },
  {
   "cell_type": "code",
   "execution_count": null,
   "metadata": {},
   "outputs": [],
   "source": []
  },
  {
   "cell_type": "code",
   "execution_count": null,
   "metadata": {},
   "outputs": [],
   "source": []
  },
  {
   "cell_type": "markdown",
   "metadata": {},
   "source": [
    "## 쿼리"
   ]
  },
  {
   "cell_type": "code",
   "execution_count": 29,
   "metadata": {},
   "outputs": [],
   "source": [
    "conn = sqlite3.connect('db/news_db_.db')\n",
    "cur = conn.cursor()"
   ]
  },
  {
   "cell_type": "markdown",
   "metadata": {},
   "source": [
    "* Term에서 term = x에 해당하는 record 가져오기"
   ]
  },
  {
   "cell_type": "code",
   "execution_count": 7,
   "metadata": {},
   "outputs": [
    {
     "data": {
      "text/plain": [
       "<sqlite3.Cursor at 0x20fbd40cc00>"
      ]
     },
     "execution_count": 7,
     "metadata": {},
     "output_type": "execute_result"
    }
   ],
   "source": [
    "term_to_find = '화재'\n",
    "\n",
    "cur.execute(f\"SELECT a_t_id, a_id, tfidf, date \\\n",
    "            From Term \\\n",
    "            WHERE term = '{term_to_find}'\")\n",
    "data = cur.fetchall()\n",
    "\n",
    "# SELECT a_t_id, a_id, tfidf             From Term             WHERE term = '화재'"
   ]
  },
  {
   "cell_type": "code",
   "execution_count": 8,
   "metadata": {},
   "outputs": [
    {
     "data": {
      "text/plain": [
       "\"SELECT a_t_id, a_id, tfidf, date             From Term             WHERE term = 'x'\""
      ]
     },
     "execution_count": 8,
     "metadata": {},
     "output_type": "execute_result"
    }
   ],
   "source": [
    "f\"SELECT a_t_id, a_id, tfidf, date \\\n",
    "            From Term \\\n",
    "            WHERE term = '{term_to_find}'\""
   ]
  },
  {
   "cell_type": "code",
   "execution_count": 27,
   "metadata": {
    "scrolled": true
   },
   "outputs": [
    {
     "data": {
      "text/plain": [
       "\"SELECT a_t_id, a_id, MAX(tfidf), date             From Term             WHERE term = 'x'             GROUP BY date\""
      ]
     },
     "execution_count": 27,
     "metadata": {},
     "output_type": "execute_result"
    }
   ],
   "source": [
    "f\"SELECT a_t_id, a_id, MAX(tfidf), date \\\n",
    "            From Term \\\n",
    "            WHERE term = '{term_to_find}' \\\n",
    "            GROUP BY date\""
   ]
  },
  {
   "cell_type": "code",
   "execution_count": 30,
   "metadata": {},
   "outputs": [
    {
     "ename": "OperationalError",
     "evalue": "Could not decode to UTF-8",
     "output_type": "error",
     "traceback": [
      "\u001b[1;31m---------------------------------------------------------------------------\u001b[0m",
      "\u001b[1;31mOperationalError\u001b[0m                          Traceback (most recent call last)",
      "\u001b[1;32m<ipython-input-30-4bdc0942801a>\u001b[0m in \u001b[0;36m<module>\u001b[1;34m()\u001b[0m\n\u001b[0;32m      2\u001b[0m \u001b[1;33m\u001b[0m\u001b[0m\n\u001b[0;32m      3\u001b[0m \u001b[0mcur\u001b[0m\u001b[1;33m.\u001b[0m\u001b[0mexecute\u001b[0m\u001b[1;33m(\u001b[0m\u001b[1;34mf\"SELECT T.a_t_id, T.a_id, T.tfidf, T.date, A.section             From Article A, Term T             INNER JOIN Article USING(a_id)             WHERE term = '{term_to_find}' AND length(A.content) > 200\"\u001b[0m\u001b[1;33m)\u001b[0m\u001b[1;33m\u001b[0m\u001b[0m\n\u001b[1;32m----> 4\u001b[1;33m \u001b[0mdata\u001b[0m \u001b[1;33m=\u001b[0m \u001b[0mcur\u001b[0m\u001b[1;33m.\u001b[0m\u001b[0mfetchall\u001b[0m\u001b[1;33m(\u001b[0m\u001b[1;33m)\u001b[0m\u001b[1;33m\u001b[0m\u001b[0m\n\u001b[0m\u001b[0;32m      5\u001b[0m \u001b[1;33m\u001b[0m\u001b[0m\n\u001b[0;32m      6\u001b[0m \u001b[0mlen\u001b[0m\u001b[1;33m(\u001b[0m\u001b[0mdata\u001b[0m\u001b[1;33m)\u001b[0m\u001b[1;33m\u001b[0m\u001b[0m\n",
      "\u001b[1;31mOperationalError\u001b[0m: Could not decode to UTF-8"
     ]
    }
   ],
   "source": [
    "term_to_find = '화재'\n",
    "\n",
    "cur.execute(f\"SELECT T.a_t_id, T.a_id, T.tfidf, T.date, A.section \\\n",
    "            From Article A, Term T \\\n",
    "            INNER JOIN Article USING(a_id) \\\n",
    "            WHERE term = '{term_to_find}' AND length(A.content) > 200\")\n",
    "data = cur.fetchall()\n",
    "\n",
    "len(data)"
   ]
  },
  {
   "cell_type": "code",
   "execution_count": 19,
   "metadata": {},
   "outputs": [],
   "source": [
    "select * from Term where a_t_id in (11890797, 11517288, 11077603, 9792424, 8613337, 7984565, 6709881, 5697686, 5377540, 4996501, 3713198, 2474528, 1257526, 6881)"
   ]
  },
  {
   "cell_type": "code",
   "execution_count": null,
   "metadata": {},
   "outputs": [],
   "source": [
    "select * from Term where term = '화재' AND tf_article = 1."
   ]
  },
  {
   "cell_type": "code",
   "execution_count": null,
   "metadata": {},
   "outputs": [],
   "source": []
  },
  {
   "cell_type": "code",
   "execution_count": 26,
   "metadata": {},
   "outputs": [
    {
     "name": "stdout",
     "output_type": "stream",
     "text": [
      "['2018-08-27', '2018-08-26', '2018-08-25', '2018-08-24', '2018-08-23', '2018-08-22', '2018-08-21', '2018-08-20', '2018-08-19', '2018-08-18', '2018-08-17', '2018-08-16', '2018-08-15', '2018-08-14']\n",
      "14\n",
      "['2018-08-26', '2018-08-25', '2018-08-24', '2018-08-23', '2018-08-22', '2018-08-21', '2018-08-20', '2018-08-19', '2018-08-18', '2018-08-17', '2018-08-16', '2018-08-15', '2018-08-14', '2018-08-13']\n",
      "14\n",
      "['2018-08-25', '2018-08-24', '2018-08-23', '2018-08-22', '2018-08-21', '2018-08-20', '2018-08-19', '2018-08-18', '2018-08-17', '2018-08-16', '2018-08-15', '2018-08-14', '2018-08-13', '2018-08-12']\n",
      "14\n",
      "['2018-08-24', '2018-08-23', '2018-08-22', '2018-08-21', '2018-08-20', '2018-08-19', '2018-08-18', '2018-08-17', '2018-08-16', '2018-08-15', '2018-08-14', '2018-08-13', '2018-08-12', '2018-08-11']\n",
      "14\n",
      "['2018-08-23', '2018-08-22', '2018-08-21', '2018-08-20', '2018-08-19', '2018-08-18', '2018-08-17', '2018-08-16', '2018-08-15', '2018-08-14', '2018-08-13', '2018-08-12', '2018-08-11', '2018-08-10']\n",
      "14\n"
     ]
    }
   ],
   "source": []
  }
 ],
 "metadata": {
  "kernelspec": {
   "display_name": "Python 3",
   "language": "python",
   "name": "python3"
  },
  "language_info": {
   "codemirror_mode": {
    "name": "ipython",
    "version": 3
   },
   "file_extension": ".py",
   "mimetype": "text/x-python",
   "name": "python",
   "nbconvert_exporter": "python",
   "pygments_lexer": "ipython3",
   "version": "3.6.6"
  }
 },
 "nbformat": 4,
 "nbformat_minor": 2
}
