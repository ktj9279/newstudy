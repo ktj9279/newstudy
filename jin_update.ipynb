{
 "cells": [
  {
   "cell_type": "markdown",
   "metadata": {},
   "source": [
    "# Update\n",
    "---"
   ]
  },
  {
   "cell_type": "code",
   "execution_count": 1,
   "metadata": {},
   "outputs": [],
   "source": [
    "import pickle\n",
    "import sqlite3"
   ]
  },
  {
   "cell_type": "markdown",
   "metadata": {},
   "source": [
    "## Insert Data into Term (date)\n",
    "---"
   ]
  },
  {
   "cell_type": "code",
   "execution_count": null,
   "metadata": {},
   "outputs": [
    {
     "name": "stdout",
     "output_type": "stream",
     "text": [
      "12830024\n",
      "         0 / 12,830,024\n",
      " 1,000,000 / 12,830,024\n",
      " 2,000,000 / 12,830,024\n",
      " 3,000,000 / 12,830,024\n",
      " 4,000,000 / 12,830,024\n",
      " 5,000,000 / 12,830,024\n",
      " 6,000,000 / 12,830,024\n"
     ]
    }
   ],
   "source": [
    "conn = sqlite3.connect('db/news_db_UTerm1200.db')\n",
    "cur = conn.cursor()\n",
    "\n",
    "# try:\n",
    "#     cur.execute(\"ALTER TABLE Term ADD date DATE\")\n",
    "#     cur.commit()\n",
    "# except:\n",
    "#     pass\n",
    "    \n",
    "cur.execute(\"SELECT Article.a_id, Article.date \\\n",
    "            FROM Article \\\n",
    "            INNER JOIN Term USING(a_id)\")\n",
    "data = cur.fetchall()\n",
    "\n",
    "print(len(data))\n",
    "\n",
    "for data_idx, d in enumerate(data):\n",
    "    if (data_idx % 1000000) == 0:\n",
    "        print('{0:10,} / {1:10,}'.format(data_idx, len(data)))\n",
    "        \n",
    "    a_id = d[0]\n",
    "    date = d[1]\n",
    "\n",
    "#     cur.execute(\"UPDATE Term \\\n",
    "#                 SET date = '{0}' \\\n",
    "#                 WHERE a_id = '{1}'\".format(date, a_id))\n",
    "    try:\n",
    "        cur.execute(\"INSERT INTO Term(date) \\\n",
    "                    VALUES('{0}')\".format(date))\n",
    "    except:\n",
    "        pass\n",
    "else:\n",
    "    conn.commit()"
   ]
  },
  {
   "cell_type": "markdown",
   "metadata": {},
   "source": [
    "## 새로 크롤링한 데이터를 기존 DB에 insert\n",
    "---\n",
    "\n",
    "* 이렇게 할 필요 없이 크롤링할 때 기존 DB에 바로 insert"
   ]
  },
  {
   "cell_type": "code",
   "execution_count": null,
   "metadata": {},
   "outputs": [],
   "source": []
  },
  {
   "cell_type": "code",
   "execution_count": null,
   "metadata": {},
   "outputs": [],
   "source": []
  },
  {
   "cell_type": "code",
   "execution_count": null,
   "metadata": {},
   "outputs": [],
   "source": []
  },
  {
   "cell_type": "code",
   "execution_count": null,
   "metadata": {},
   "outputs": [],
   "source": []
  },
  {
   "cell_type": "code",
   "execution_count": null,
   "metadata": {},
   "outputs": [],
   "source": []
  },
  {
   "cell_type": "code",
   "execution_count": null,
   "metadata": {},
   "outputs": [],
   "source": []
  },
  {
   "cell_type": "code",
   "execution_count": null,
   "metadata": {},
   "outputs": [],
   "source": []
  },
  {
   "cell_type": "markdown",
   "metadata": {},
   "source": [
    "## 쿼리"
   ]
  },
  {
   "cell_type": "code",
   "execution_count": null,
   "metadata": {},
   "outputs": [],
   "source": [
    "term_to_find = 'x'\n",
    "\n",
    "# Term에서 term = x에 해당하는 record 가져오기\n",
    "cur.execute(f\"SELECT a_t_id, a_id, tfidf \\\n",
    "            From Term \\\n",
    "            WHERE term = '{term_to_find}'\")\n",
    "\n",
    "# SELECT a_t_id, a_id, tfidf             From Term             WHERE term = '화재'"
   ]
  }
 ],
 "metadata": {
  "kernelspec": {
   "display_name": "Python 3",
   "language": "python",
   "name": "python3"
  },
  "language_info": {
   "codemirror_mode": {
    "name": "ipython",
    "version": 3
   },
   "file_extension": ".py",
   "mimetype": "text/x-python",
   "name": "python",
   "nbconvert_exporter": "python",
   "pygments_lexer": "ipython3",
   "version": "3.6.5"
  }
 },
 "nbformat": 4,
 "nbformat_minor": 2
}
